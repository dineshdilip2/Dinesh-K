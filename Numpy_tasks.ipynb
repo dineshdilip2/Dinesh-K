{
  "cells": [
    {
      "cell_type": "markdown",
      "metadata": {
        "id": "view-in-github",
        "colab_type": "text"
      },
      "source": [
        "<a href=\"https://colab.research.google.com/github/dineshdilip2/Dinesh-K/blob/main/Numpy_tasks.ipynb\" target=\"_parent\"><img src=\"https://colab.research.google.com/assets/colab-badge.svg\" alt=\"Open In Colab\"/></a>"
      ]
    },
    {
      "cell_type": "code",
      "source": [
        "!git clone https://github.com/dineshdilip2/Dinesh-K.git"
      ],
      "metadata": {
        "colab": {
          "base_uri": "https://localhost:8080/"
        },
        "id": "WZoObPYO4MzS",
        "outputId": "5acea2eb-daf1-4b0c-9504-54694fde4dd8"
      },
      "execution_count": 25,
      "outputs": [
        {
          "output_type": "stream",
          "name": "stdout",
          "text": [
            "Cloning into 'Dinesh-K'...\n",
            "remote: Enumerating objects: 3, done.\u001b[K\n",
            "remote: Counting objects: 100% (3/3), done.\u001b[K\n",
            "remote: Compressing objects: 100% (2/2), done.\u001b[K\n",
            "remote: Total 3 (delta 0), reused 0 (delta 0), pack-reused 0\u001b[K\n",
            "Unpacking objects: 100% (3/3), done.\n"
          ]
        }
      ]
    },
    {
      "cell_type": "markdown",
      "metadata": {
        "id": "vnC4cfwAqoGm"
      },
      "source": [
        "# Numpy\n",
        "\n"
      ]
    },
    {
      "cell_type": "markdown",
      "metadata": {
        "id": "d8zGFrJtqoGu"
      },
      "source": [
        "#### 1. Import the numpy package under the name `np` (★☆☆) \n",
        "(**hint**: import … as …)"
      ]
    },
    {
      "cell_type": "code",
      "execution_count": null,
      "metadata": {
        "collapsed": true,
        "id": "tra_bJMAqoGx"
      },
      "outputs": [],
      "source": [
        "import numpy as np"
      ]
    },
    {
      "cell_type": "markdown",
      "metadata": {
        "id": "KN8KYxksqoGz"
      },
      "source": [
        "#### 2. Print the numpy version and the configuration (★☆☆) \n",
        "(**hint**: np.\\_\\_version\\_\\_, np.show\\_config)"
      ]
    },
    {
      "cell_type": "code",
      "execution_count": null,
      "metadata": {
        "id": "-QhzurXeqoG3",
        "colab": {
          "base_uri": "https://localhost:8080/"
        },
        "outputId": "674512f7-6812-4c9a-fbce-8de7e9ecfa9a"
      },
      "outputs": [
        {
          "output_type": "stream",
          "name": "stdout",
          "text": [
            "1.21.6\n",
            "blas_mkl_info:\n",
            "  NOT AVAILABLE\n",
            "blis_info:\n",
            "  NOT AVAILABLE\n",
            "openblas_info:\n",
            "    libraries = ['openblas', 'openblas']\n",
            "    library_dirs = ['/usr/local/lib']\n",
            "    language = c\n",
            "    define_macros = [('HAVE_CBLAS', None)]\n",
            "    runtime_library_dirs = ['/usr/local/lib']\n",
            "blas_opt_info:\n",
            "    libraries = ['openblas', 'openblas']\n",
            "    library_dirs = ['/usr/local/lib']\n",
            "    language = c\n",
            "    define_macros = [('HAVE_CBLAS', None)]\n",
            "    runtime_library_dirs = ['/usr/local/lib']\n",
            "lapack_mkl_info:\n",
            "  NOT AVAILABLE\n",
            "openblas_lapack_info:\n",
            "    libraries = ['openblas', 'openblas']\n",
            "    library_dirs = ['/usr/local/lib']\n",
            "    language = c\n",
            "    define_macros = [('HAVE_CBLAS', None)]\n",
            "    runtime_library_dirs = ['/usr/local/lib']\n",
            "lapack_opt_info:\n",
            "    libraries = ['openblas', 'openblas']\n",
            "    library_dirs = ['/usr/local/lib']\n",
            "    language = c\n",
            "    define_macros = [('HAVE_CBLAS', None)]\n",
            "    runtime_library_dirs = ['/usr/local/lib']\n",
            "Supported SIMD extensions in this NumPy install:\n",
            "    baseline = SSE,SSE2,SSE3\n",
            "    found = SSSE3,SSE41,POPCNT,SSE42,AVX,F16C,FMA3,AVX2\n",
            "    not found = AVX512F,AVX512CD,AVX512_KNL,AVX512_KNM,AVX512_SKX,AVX512_CLX,AVX512_CNL,AVX512_ICL\n"
          ]
        }
      ],
      "source": [
        "import numpy as np\n",
        "print(np.__version__)\n",
        "\n",
        "np.show_config()\n"
      ]
    },
    {
      "cell_type": "markdown",
      "metadata": {
        "id": "PsXlCJI3qoG4"
      },
      "source": [
        "#### 3. Create a null vector of size 10 (★☆☆) \n",
        "(**hint**: np.zeros)"
      ]
    },
    {
      "cell_type": "code",
      "execution_count": null,
      "metadata": {
        "id": "GxfeNO9IqoG8",
        "colab": {
          "base_uri": "https://localhost:8080/"
        },
        "outputId": "81264555-5398-4a3b-b798-abe772f1f510"
      },
      "outputs": [
        {
          "output_type": "stream",
          "name": "stdout",
          "text": [
            "[0. 0. 0. 0. 0. 0. 0. 0. 0. 0.]\n"
          ]
        }
      ],
      "source": [
        "import numpy as np\n",
        "null_vector = np.zeros(10)\n",
        "print(null_vector)"
      ]
    },
    {
      "cell_type": "markdown",
      "metadata": {
        "id": "fFUb2syXqoG9"
      },
      "source": [
        "#### 4.  How to find the memory size of any array (★☆☆) \n",
        "(**hint**: size, itemsize)"
      ]
    },
    {
      "cell_type": "code",
      "execution_count": null,
      "metadata": {
        "id": "0Z5ZBZJ7qoG-",
        "colab": {
          "base_uri": "https://localhost:8080/"
        },
        "outputId": "10cc357a-c928-49c5-b24a-3d5dc47932f1"
      },
      "outputs": [
        {
          "output_type": "stream",
          "name": "stdout",
          "text": [
            "40\n"
          ]
        }
      ],
      "source": [
        "import numpy as np\n",
        "\n",
        "array = np.array([1, 2, 3, 4, 5])\n",
        "memory_size = array.nbytes\n",
        "\n",
        "print(memory_size)"
      ]
    },
    {
      "cell_type": "markdown",
      "metadata": {
        "id": "FK8hVTEZqoG_"
      },
      "source": [
        "#### 5.  How to get the documentation of the numpy add function from the command line? (★☆☆) \n",
        "(**hint**: np.info)"
      ]
    },
    {
      "cell_type": "code",
      "execution_count": null,
      "metadata": {
        "collapsed": true,
        "id": "7h8b8g2ZqoG_",
        "colab": {
          "base_uri": "https://localhost:8080/"
        },
        "outputId": "34dd9344-80c7-4d17-a2ee-4c1e3abcd3cd"
      },
      "outputs": [
        {
          "output_type": "stream",
          "name": "stdout",
          "text": [
            "Help on ufunc object:\n",
            "\n",
            "add = class ufunc(builtins.object)\n",
            " |  Functions that operate element by element on whole arrays.\n",
            " |  \n",
            " |  To see the documentation for a specific ufunc, use `info`.  For\n",
            " |  example, ``np.info(np.sin)``.  Because ufuncs are written in C\n",
            " |  (for speed) and linked into Python with NumPy's ufunc facility,\n",
            " |  Python's help() function finds this page whenever help() is called\n",
            " |  on a ufunc.\n",
            " |  \n",
            " |  A detailed explanation of ufuncs can be found in the docs for :ref:`ufuncs`.\n",
            " |  \n",
            " |  **Calling ufuncs:** ``op(*x[, out], where=True, **kwargs)``\n",
            " |  \n",
            " |  Apply `op` to the arguments `*x` elementwise, broadcasting the arguments.\n",
            " |  \n",
            " |  The broadcasting rules are:\n",
            " |  \n",
            " |  * Dimensions of length 1 may be prepended to either array.\n",
            " |  * Arrays may be repeated along dimensions of length 1.\n",
            " |  \n",
            " |  Parameters\n",
            " |  ----------\n",
            " |  *x : array_like\n",
            " |      Input arrays.\n",
            " |  out : ndarray, None, or tuple of ndarray and None, optional\n",
            " |      Alternate array object(s) in which to put the result; if provided, it\n",
            " |      must have a shape that the inputs broadcast to. A tuple of arrays\n",
            " |      (possible only as a keyword argument) must have length equal to the\n",
            " |      number of outputs; use None for uninitialized outputs to be\n",
            " |      allocated by the ufunc.\n",
            " |  where : array_like, optional\n",
            " |      This condition is broadcast over the input. At locations where the\n",
            " |      condition is True, the `out` array will be set to the ufunc result.\n",
            " |      Elsewhere, the `out` array will retain its original value.\n",
            " |      Note that if an uninitialized `out` array is created via the default\n",
            " |      ``out=None``, locations within it where the condition is False will\n",
            " |      remain uninitialized.\n",
            " |  **kwargs\n",
            " |      For other keyword-only arguments, see the :ref:`ufunc docs <ufuncs.kwargs>`.\n",
            " |  \n",
            " |  Returns\n",
            " |  -------\n",
            " |  r : ndarray or tuple of ndarray\n",
            " |      `r` will have the shape that the arrays in `x` broadcast to; if `out` is\n",
            " |      provided, it will be returned. If not, `r` will be allocated and\n",
            " |      may contain uninitialized values. If the function has more than one\n",
            " |      output, then the result will be a tuple of arrays.\n",
            " |  \n",
            " |  Methods defined here:\n",
            " |  \n",
            " |  __call__(self, /, *args, **kwargs)\n",
            " |      Call self as a function.\n",
            " |  \n",
            " |  __repr__(self, /)\n",
            " |      Return repr(self).\n",
            " |  \n",
            " |  __str__(self, /)\n",
            " |      Return str(self).\n",
            " |  \n",
            " |  accumulate(...)\n",
            " |      accumulate(array, axis=0, dtype=None, out=None)\n",
            " |      \n",
            " |      Accumulate the result of applying the operator to all elements.\n",
            " |      \n",
            " |      For a one-dimensional array, accumulate produces results equivalent to::\n",
            " |      \n",
            " |        r = np.empty(len(A))\n",
            " |        t = op.identity        # op = the ufunc being applied to A's  elements\n",
            " |        for i in range(len(A)):\n",
            " |            t = op(t, A[i])\n",
            " |            r[i] = t\n",
            " |        return r\n",
            " |      \n",
            " |      For example, add.accumulate() is equivalent to np.cumsum().\n",
            " |      \n",
            " |      For a multi-dimensional array, accumulate is applied along only one\n",
            " |      axis (axis zero by default; see Examples below) so repeated use is\n",
            " |      necessary if one wants to accumulate over multiple axes.\n",
            " |      \n",
            " |      Parameters\n",
            " |      ----------\n",
            " |      array : array_like\n",
            " |          The array to act on.\n",
            " |      axis : int, optional\n",
            " |          The axis along which to apply the accumulation; default is zero.\n",
            " |      dtype : data-type code, optional\n",
            " |          The data-type used to represent the intermediate results. Defaults\n",
            " |          to the data-type of the output array if such is provided, or the\n",
            " |          the data-type of the input array if no output array is provided.\n",
            " |      out : ndarray, None, or tuple of ndarray and None, optional\n",
            " |          A location into which the result is stored. If not provided or None,\n",
            " |          a freshly-allocated array is returned. For consistency with\n",
            " |          ``ufunc.__call__``, if given as a keyword, this may be wrapped in a\n",
            " |          1-element tuple.\n",
            " |      \n",
            " |          .. versionchanged:: 1.13.0\n",
            " |             Tuples are allowed for keyword argument.\n",
            " |      \n",
            " |      Returns\n",
            " |      -------\n",
            " |      r : ndarray\n",
            " |          The accumulated values. If `out` was supplied, `r` is a reference to\n",
            " |          `out`.\n",
            " |      \n",
            " |      Examples\n",
            " |      --------\n",
            " |      1-D array examples:\n",
            " |      \n",
            " |      >>> np.add.accumulate([2, 3, 5])\n",
            " |      array([ 2,  5, 10])\n",
            " |      >>> np.multiply.accumulate([2, 3, 5])\n",
            " |      array([ 2,  6, 30])\n",
            " |      \n",
            " |      2-D array examples:\n",
            " |      \n",
            " |      >>> I = np.eye(2)\n",
            " |      >>> I\n",
            " |      array([[1.,  0.],\n",
            " |             [0.,  1.]])\n",
            " |      \n",
            " |      Accumulate along axis 0 (rows), down columns:\n",
            " |      \n",
            " |      >>> np.add.accumulate(I, 0)\n",
            " |      array([[1.,  0.],\n",
            " |             [1.,  1.]])\n",
            " |      >>> np.add.accumulate(I) # no axis specified = axis zero\n",
            " |      array([[1.,  0.],\n",
            " |             [1.,  1.]])\n",
            " |      \n",
            " |      Accumulate along axis 1 (columns), through rows:\n",
            " |      \n",
            " |      >>> np.add.accumulate(I, 1)\n",
            " |      array([[1.,  1.],\n",
            " |             [0.,  1.]])\n",
            " |  \n",
            " |  at(...)\n",
            " |      at(a, indices, b=None, /)\n",
            " |      \n",
            " |      Performs unbuffered in place operation on operand 'a' for elements\n",
            " |      specified by 'indices'. For addition ufunc, this method is equivalent to\n",
            " |      ``a[indices] += b``, except that results are accumulated for elements that\n",
            " |      are indexed more than once. For example, ``a[[0,0]] += 1`` will only\n",
            " |      increment the first element once because of buffering, whereas\n",
            " |      ``add.at(a, [0,0], 1)`` will increment the first element twice.\n",
            " |      \n",
            " |      .. versionadded:: 1.8.0\n",
            " |      \n",
            " |      Parameters\n",
            " |      ----------\n",
            " |      a : array_like\n",
            " |          The array to perform in place operation on.\n",
            " |      indices : array_like or tuple\n",
            " |          Array like index object or slice object for indexing into first\n",
            " |          operand. If first operand has multiple dimensions, indices can be a\n",
            " |          tuple of array like index objects or slice objects.\n",
            " |      b : array_like\n",
            " |          Second operand for ufuncs requiring two operands. Operand must be\n",
            " |          broadcastable over first operand after indexing or slicing.\n",
            " |      \n",
            " |      Examples\n",
            " |      --------\n",
            " |      Set items 0 and 1 to their negative values:\n",
            " |      \n",
            " |      >>> a = np.array([1, 2, 3, 4])\n",
            " |      >>> np.negative.at(a, [0, 1])\n",
            " |      >>> a\n",
            " |      array([-1, -2,  3,  4])\n",
            " |      \n",
            " |      Increment items 0 and 1, and increment item 2 twice:\n",
            " |      \n",
            " |      >>> a = np.array([1, 2, 3, 4])\n",
            " |      >>> np.add.at(a, [0, 1, 2, 2], 1)\n",
            " |      >>> a\n",
            " |      array([2, 3, 5, 4])\n",
            " |      \n",
            " |      Add items 0 and 1 in first array to second array,\n",
            " |      and store results in first array:\n",
            " |      \n",
            " |      >>> a = np.array([1, 2, 3, 4])\n",
            " |      >>> b = np.array([1, 2])\n",
            " |      >>> np.add.at(a, [0, 1], b)\n",
            " |      >>> a\n",
            " |      array([2, 4, 3, 4])\n",
            " |  \n",
            " |  outer(...)\n",
            " |      outer(A, B, /, **kwargs)\n",
            " |      \n",
            " |      Apply the ufunc `op` to all pairs (a, b) with a in `A` and b in `B`.\n",
            " |      \n",
            " |      Let ``M = A.ndim``, ``N = B.ndim``. Then the result, `C`, of\n",
            " |      ``op.outer(A, B)`` is an array of dimension M + N such that:\n",
            " |      \n",
            " |      .. math:: C[i_0, ..., i_{M-1}, j_0, ..., j_{N-1}] =\n",
            " |         op(A[i_0, ..., i_{M-1}], B[j_0, ..., j_{N-1}])\n",
            " |      \n",
            " |      For `A` and `B` one-dimensional, this is equivalent to::\n",
            " |      \n",
            " |        r = empty(len(A),len(B))\n",
            " |        for i in range(len(A)):\n",
            " |            for j in range(len(B)):\n",
            " |                r[i,j] = op(A[i], B[j])  # op = ufunc in question\n",
            " |      \n",
            " |      Parameters\n",
            " |      ----------\n",
            " |      A : array_like\n",
            " |          First array\n",
            " |      B : array_like\n",
            " |          Second array\n",
            " |      kwargs : any\n",
            " |          Arguments to pass on to the ufunc. Typically `dtype` or `out`.\n",
            " |          See `ufunc` for a comprehensive overview of all available arguments.\n",
            " |      \n",
            " |      Returns\n",
            " |      -------\n",
            " |      r : ndarray\n",
            " |          Output array\n",
            " |      \n",
            " |      See Also\n",
            " |      --------\n",
            " |      numpy.outer : A less powerful version of ``np.multiply.outer``\n",
            " |                    that `ravel`\\ s all inputs to 1D. This exists\n",
            " |                    primarily for compatibility with old code.\n",
            " |      \n",
            " |      tensordot : ``np.tensordot(a, b, axes=((), ()))`` and\n",
            " |                  ``np.multiply.outer(a, b)`` behave same for all\n",
            " |                  dimensions of a and b.\n",
            " |      \n",
            " |      Examples\n",
            " |      --------\n",
            " |      >>> np.multiply.outer([1, 2, 3], [4, 5, 6])\n",
            " |      array([[ 4,  5,  6],\n",
            " |             [ 8, 10, 12],\n",
            " |             [12, 15, 18]])\n",
            " |      \n",
            " |      A multi-dimensional example:\n",
            " |      \n",
            " |      >>> A = np.array([[1, 2, 3], [4, 5, 6]])\n",
            " |      >>> A.shape\n",
            " |      (2, 3)\n",
            " |      >>> B = np.array([[1, 2, 3, 4]])\n",
            " |      >>> B.shape\n",
            " |      (1, 4)\n",
            " |      >>> C = np.multiply.outer(A, B)\n",
            " |      >>> C.shape; C\n",
            " |      (2, 3, 1, 4)\n",
            " |      array([[[[ 1,  2,  3,  4]],\n",
            " |              [[ 2,  4,  6,  8]],\n",
            " |              [[ 3,  6,  9, 12]]],\n",
            " |             [[[ 4,  8, 12, 16]],\n",
            " |              [[ 5, 10, 15, 20]],\n",
            " |              [[ 6, 12, 18, 24]]]])\n",
            " |  \n",
            " |  reduce(...)\n",
            " |      reduce(array, axis=0, dtype=None, out=None, keepdims=False, initial=<no value>, where=True)\n",
            " |      \n",
            " |      Reduces `array`'s dimension by one, by applying ufunc along one axis.\n",
            " |      \n",
            " |      Let :math:`array.shape = (N_0, ..., N_i, ..., N_{M-1})`.  Then\n",
            " |      :math:`ufunc.reduce(array, axis=i)[k_0, ..,k_{i-1}, k_{i+1}, .., k_{M-1}]` =\n",
            " |      the result of iterating `j` over :math:`range(N_i)`, cumulatively applying\n",
            " |      ufunc to each :math:`array[k_0, ..,k_{i-1}, j, k_{i+1}, .., k_{M-1}]`.\n",
            " |      For a one-dimensional array, reduce produces results equivalent to:\n",
            " |      ::\n",
            " |      \n",
            " |       r = op.identity # op = ufunc\n",
            " |       for i in range(len(A)):\n",
            " |         r = op(r, A[i])\n",
            " |       return r\n",
            " |      \n",
            " |      For example, add.reduce() is equivalent to sum().\n",
            " |      \n",
            " |      Parameters\n",
            " |      ----------\n",
            " |      array : array_like\n",
            " |          The array to act on.\n",
            " |      axis : None or int or tuple of ints, optional\n",
            " |          Axis or axes along which a reduction is performed.\n",
            " |          The default (`axis` = 0) is perform a reduction over the first\n",
            " |          dimension of the input array. `axis` may be negative, in\n",
            " |          which case it counts from the last to the first axis.\n",
            " |      \n",
            " |          .. versionadded:: 1.7.0\n",
            " |      \n",
            " |          If this is None, a reduction is performed over all the axes.\n",
            " |          If this is a tuple of ints, a reduction is performed on multiple\n",
            " |          axes, instead of a single axis or all the axes as before.\n",
            " |      \n",
            " |          For operations which are either not commutative or not associative,\n",
            " |          doing a reduction over multiple axes is not well-defined. The\n",
            " |          ufuncs do not currently raise an exception in this case, but will\n",
            " |          likely do so in the future.\n",
            " |      dtype : data-type code, optional\n",
            " |          The type used to represent the intermediate results. Defaults\n",
            " |          to the data-type of the output array if this is provided, or\n",
            " |          the data-type of the input array if no output array is provided.\n",
            " |      out : ndarray, None, or tuple of ndarray and None, optional\n",
            " |          A location into which the result is stored. If not provided or None,\n",
            " |          a freshly-allocated array is returned. For consistency with\n",
            " |          ``ufunc.__call__``, if given as a keyword, this may be wrapped in a\n",
            " |          1-element tuple.\n",
            " |      \n",
            " |          .. versionchanged:: 1.13.0\n",
            " |             Tuples are allowed for keyword argument.\n",
            " |      keepdims : bool, optional\n",
            " |          If this is set to True, the axes which are reduced are left\n",
            " |          in the result as dimensions with size one. With this option,\n",
            " |          the result will broadcast correctly against the original `array`.\n",
            " |      \n",
            " |          .. versionadded:: 1.7.0\n",
            " |      initial : scalar, optional\n",
            " |          The value with which to start the reduction.\n",
            " |          If the ufunc has no identity or the dtype is object, this defaults\n",
            " |          to None - otherwise it defaults to ufunc.identity.\n",
            " |          If ``None`` is given, the first element of the reduction is used,\n",
            " |          and an error is thrown if the reduction is empty.\n",
            " |      \n",
            " |          .. versionadded:: 1.15.0\n",
            " |      \n",
            " |      where : array_like of bool, optional\n",
            " |          A boolean array which is broadcasted to match the dimensions\n",
            " |          of `array`, and selects elements to include in the reduction. Note\n",
            " |          that for ufuncs like ``minimum`` that do not have an identity\n",
            " |          defined, one has to pass in also ``initial``.\n",
            " |      \n",
            " |          .. versionadded:: 1.17.0\n",
            " |      \n",
            " |      Returns\n",
            " |      -------\n",
            " |      r : ndarray\n",
            " |          The reduced array. If `out` was supplied, `r` is a reference to it.\n",
            " |      \n",
            " |      Examples\n",
            " |      --------\n",
            " |      >>> np.multiply.reduce([2,3,5])\n",
            " |      30\n",
            " |      \n",
            " |      A multi-dimensional array example:\n",
            " |      \n",
            " |      >>> X = np.arange(8).reshape((2,2,2))\n",
            " |      >>> X\n",
            " |      array([[[0, 1],\n",
            " |              [2, 3]],\n",
            " |             [[4, 5],\n",
            " |              [6, 7]]])\n",
            " |      >>> np.add.reduce(X, 0)\n",
            " |      array([[ 4,  6],\n",
            " |             [ 8, 10]])\n",
            " |      >>> np.add.reduce(X) # confirm: default axis value is 0\n",
            " |      array([[ 4,  6],\n",
            " |             [ 8, 10]])\n",
            " |      >>> np.add.reduce(X, 1)\n",
            " |      array([[ 2,  4],\n",
            " |             [10, 12]])\n",
            " |      >>> np.add.reduce(X, 2)\n",
            " |      array([[ 1,  5],\n",
            " |             [ 9, 13]])\n",
            " |      \n",
            " |      You can use the ``initial`` keyword argument to initialize the reduction\n",
            " |      with a different value, and ``where`` to select specific elements to include:\n",
            " |      \n",
            " |      >>> np.add.reduce([10], initial=5)\n",
            " |      15\n",
            " |      >>> np.add.reduce(np.ones((2, 2, 2)), axis=(0, 2), initial=10)\n",
            " |      array([14., 14.])\n",
            " |      >>> a = np.array([10., np.nan, 10])\n",
            " |      >>> np.add.reduce(a, where=~np.isnan(a))\n",
            " |      20.0\n",
            " |      \n",
            " |      Allows reductions of empty arrays where they would normally fail, i.e.\n",
            " |      for ufuncs without an identity.\n",
            " |      \n",
            " |      >>> np.minimum.reduce([], initial=np.inf)\n",
            " |      inf\n",
            " |      >>> np.minimum.reduce([[1., 2.], [3., 4.]], initial=10., where=[True, False])\n",
            " |      array([ 1., 10.])\n",
            " |      >>> np.minimum.reduce([])\n",
            " |      Traceback (most recent call last):\n",
            " |          ...\n",
            " |      ValueError: zero-size array to reduction operation minimum which has no identity\n",
            " |  \n",
            " |  reduceat(...)\n",
            " |      reduceat(array, indices, axis=0, dtype=None, out=None)\n",
            " |      \n",
            " |      Performs a (local) reduce with specified slices over a single axis.\n",
            " |      \n",
            " |      For i in ``range(len(indices))``, `reduceat` computes\n",
            " |      ``ufunc.reduce(array[indices[i]:indices[i+1]])``, which becomes the i-th\n",
            " |      generalized \"row\" parallel to `axis` in the final result (i.e., in a\n",
            " |      2-D array, for example, if `axis = 0`, it becomes the i-th row, but if\n",
            " |      `axis = 1`, it becomes the i-th column).  There are three exceptions to this:\n",
            " |      \n",
            " |      * when ``i = len(indices) - 1`` (so for the last index),\n",
            " |        ``indices[i+1] = array.shape[axis]``.\n",
            " |      * if ``indices[i] >= indices[i + 1]``, the i-th generalized \"row\" is\n",
            " |        simply ``array[indices[i]]``.\n",
            " |      * if ``indices[i] >= len(array)`` or ``indices[i] < 0``, an error is raised.\n",
            " |      \n",
            " |      The shape of the output depends on the size of `indices`, and may be\n",
            " |      larger than `array` (this happens if ``len(indices) > array.shape[axis]``).\n",
            " |      \n",
            " |      Parameters\n",
            " |      ----------\n",
            " |      array : array_like\n",
            " |          The array to act on.\n",
            " |      indices : array_like\n",
            " |          Paired indices, comma separated (not colon), specifying slices to\n",
            " |          reduce.\n",
            " |      axis : int, optional\n",
            " |          The axis along which to apply the reduceat.\n",
            " |      dtype : data-type code, optional\n",
            " |          The type used to represent the intermediate results. Defaults\n",
            " |          to the data type of the output array if this is provided, or\n",
            " |          the data type of the input array if no output array is provided.\n",
            " |      out : ndarray, None, or tuple of ndarray and None, optional\n",
            " |          A location into which the result is stored. If not provided or None,\n",
            " |          a freshly-allocated array is returned. For consistency with\n",
            " |          ``ufunc.__call__``, if given as a keyword, this may be wrapped in a\n",
            " |          1-element tuple.\n",
            " |      \n",
            " |          .. versionchanged:: 1.13.0\n",
            " |             Tuples are allowed for keyword argument.\n",
            " |      \n",
            " |      Returns\n",
            " |      -------\n",
            " |      r : ndarray\n",
            " |          The reduced values. If `out` was supplied, `r` is a reference to\n",
            " |          `out`.\n",
            " |      \n",
            " |      Notes\n",
            " |      -----\n",
            " |      A descriptive example:\n",
            " |      \n",
            " |      If `array` is 1-D, the function `ufunc.accumulate(array)` is the same as\n",
            " |      ``ufunc.reduceat(array, indices)[::2]`` where `indices` is\n",
            " |      ``range(len(array) - 1)`` with a zero placed\n",
            " |      in every other element:\n",
            " |      ``indices = zeros(2 * len(array) - 1)``,\n",
            " |      ``indices[1::2] = range(1, len(array))``.\n",
            " |      \n",
            " |      Don't be fooled by this attribute's name: `reduceat(array)` is not\n",
            " |      necessarily smaller than `array`.\n",
            " |      \n",
            " |      Examples\n",
            " |      --------\n",
            " |      To take the running sum of four successive values:\n",
            " |      \n",
            " |      >>> np.add.reduceat(np.arange(8),[0,4, 1,5, 2,6, 3,7])[::2]\n",
            " |      array([ 6, 10, 14, 18])\n",
            " |      \n",
            " |      A 2-D example:\n",
            " |      \n",
            " |      >>> x = np.linspace(0, 15, 16).reshape(4,4)\n",
            " |      >>> x\n",
            " |      array([[ 0.,   1.,   2.,   3.],\n",
            " |             [ 4.,   5.,   6.,   7.],\n",
            " |             [ 8.,   9.,  10.,  11.],\n",
            " |             [12.,  13.,  14.,  15.]])\n",
            " |      \n",
            " |      ::\n",
            " |      \n",
            " |       # reduce such that the result has the following five rows:\n",
            " |       # [row1 + row2 + row3]\n",
            " |       # [row4]\n",
            " |       # [row2]\n",
            " |       # [row3]\n",
            " |       # [row1 + row2 + row3 + row4]\n",
            " |      \n",
            " |      >>> np.add.reduceat(x, [0, 3, 1, 2, 0])\n",
            " |      array([[12.,  15.,  18.,  21.],\n",
            " |             [12.,  13.,  14.,  15.],\n",
            " |             [ 4.,   5.,   6.,   7.],\n",
            " |             [ 8.,   9.,  10.,  11.],\n",
            " |             [24.,  28.,  32.,  36.]])\n",
            " |      \n",
            " |      ::\n",
            " |      \n",
            " |       # reduce such that result has the following two columns:\n",
            " |       # [col1 * col2 * col3, col4]\n",
            " |      \n",
            " |      >>> np.multiply.reduceat(x, [0, 3], 1)\n",
            " |      array([[   0.,     3.],\n",
            " |             [ 120.,     7.],\n",
            " |             [ 720.,    11.],\n",
            " |             [2184.,    15.]])\n",
            " |  \n",
            " |  ----------------------------------------------------------------------\n",
            " |  Data descriptors defined here:\n",
            " |  \n",
            " |  identity\n",
            " |      The identity value.\n",
            " |      \n",
            " |      Data attribute containing the identity element for the ufunc, if it has one.\n",
            " |      If it does not, the attribute value is None.\n",
            " |      \n",
            " |      Examples\n",
            " |      --------\n",
            " |      >>> np.add.identity\n",
            " |      0\n",
            " |      >>> np.multiply.identity\n",
            " |      1\n",
            " |      >>> np.power.identity\n",
            " |      1\n",
            " |      >>> print(np.exp.identity)\n",
            " |      None\n",
            " |  \n",
            " |  nargs\n",
            " |      The number of arguments.\n",
            " |      \n",
            " |      Data attribute containing the number of arguments the ufunc takes, including\n",
            " |      optional ones.\n",
            " |      \n",
            " |      Notes\n",
            " |      -----\n",
            " |      Typically this value will be one more than what you might expect because all\n",
            " |      ufuncs take  the optional \"out\" argument.\n",
            " |      \n",
            " |      Examples\n",
            " |      --------\n",
            " |      >>> np.add.nargs\n",
            " |      3\n",
            " |      >>> np.multiply.nargs\n",
            " |      3\n",
            " |      >>> np.power.nargs\n",
            " |      3\n",
            " |      >>> np.exp.nargs\n",
            " |      2\n",
            " |  \n",
            " |  nin\n",
            " |      The number of inputs.\n",
            " |      \n",
            " |      Data attribute containing the number of arguments the ufunc treats as input.\n",
            " |      \n",
            " |      Examples\n",
            " |      --------\n",
            " |      >>> np.add.nin\n",
            " |      2\n",
            " |      >>> np.multiply.nin\n",
            " |      2\n",
            " |      >>> np.power.nin\n",
            " |      2\n",
            " |      >>> np.exp.nin\n",
            " |      1\n",
            " |  \n",
            " |  nout\n",
            " |      The number of outputs.\n",
            " |      \n",
            " |      Data attribute containing the number of arguments the ufunc treats as output.\n",
            " |      \n",
            " |      Notes\n",
            " |      -----\n",
            " |      Since all ufuncs can take output arguments, this will always be (at least) 1.\n",
            " |      \n",
            " |      Examples\n",
            " |      --------\n",
            " |      >>> np.add.nout\n",
            " |      1\n",
            " |      >>> np.multiply.nout\n",
            " |      1\n",
            " |      >>> np.power.nout\n",
            " |      1\n",
            " |      >>> np.exp.nout\n",
            " |      1\n",
            " |  \n",
            " |  ntypes\n",
            " |      The number of types.\n",
            " |      \n",
            " |      The number of numerical NumPy types - of which there are 18 total - on which\n",
            " |      the ufunc can operate.\n",
            " |      \n",
            " |      See Also\n",
            " |      --------\n",
            " |      numpy.ufunc.types\n",
            " |      \n",
            " |      Examples\n",
            " |      --------\n",
            " |      >>> np.add.ntypes\n",
            " |      18\n",
            " |      >>> np.multiply.ntypes\n",
            " |      18\n",
            " |      >>> np.power.ntypes\n",
            " |      17\n",
            " |      >>> np.exp.ntypes\n",
            " |      7\n",
            " |      >>> np.remainder.ntypes\n",
            " |      14\n",
            " |  \n",
            " |  signature\n",
            " |      Definition of the core elements a generalized ufunc operates on.\n",
            " |      \n",
            " |      The signature determines how the dimensions of each input/output array\n",
            " |      are split into core and loop dimensions:\n",
            " |      \n",
            " |      1. Each dimension in the signature is matched to a dimension of the\n",
            " |         corresponding passed-in array, starting from the end of the shape tuple.\n",
            " |      2. Core dimensions assigned to the same label in the signature must have\n",
            " |         exactly matching sizes, no broadcasting is performed.\n",
            " |      3. The core dimensions are removed from all inputs and the remaining\n",
            " |         dimensions are broadcast together, defining the loop dimensions.\n",
            " |      \n",
            " |      Notes\n",
            " |      -----\n",
            " |      Generalized ufuncs are used internally in many linalg functions, and in\n",
            " |      the testing suite; the examples below are taken from these.\n",
            " |      For ufuncs that operate on scalars, the signature is None, which is\n",
            " |      equivalent to '()' for every argument.\n",
            " |      \n",
            " |      Examples\n",
            " |      --------\n",
            " |      >>> np.core.umath_tests.matrix_multiply.signature\n",
            " |      '(m,n),(n,p)->(m,p)'\n",
            " |      >>> np.linalg._umath_linalg.det.signature\n",
            " |      '(m,m)->()'\n",
            " |      >>> np.add.signature is None\n",
            " |      True  # equivalent to '(),()->()'\n",
            " |  \n",
            " |  types\n",
            " |      Returns a list with types grouped input->output.\n",
            " |      \n",
            " |      Data attribute listing the data-type \"Domain-Range\" groupings the ufunc can\n",
            " |      deliver. The data-types are given using the character codes.\n",
            " |      \n",
            " |      See Also\n",
            " |      --------\n",
            " |      numpy.ufunc.ntypes\n",
            " |      \n",
            " |      Examples\n",
            " |      --------\n",
            " |      >>> np.add.types\n",
            " |      ['??->?', 'bb->b', 'BB->B', 'hh->h', 'HH->H', 'ii->i', 'II->I', 'll->l',\n",
            " |      'LL->L', 'qq->q', 'QQ->Q', 'ff->f', 'dd->d', 'gg->g', 'FF->F', 'DD->D',\n",
            " |      'GG->G', 'OO->O']\n",
            " |      \n",
            " |      >>> np.multiply.types\n",
            " |      ['??->?', 'bb->b', 'BB->B', 'hh->h', 'HH->H', 'ii->i', 'II->I', 'll->l',\n",
            " |      'LL->L', 'qq->q', 'QQ->Q', 'ff->f', 'dd->d', 'gg->g', 'FF->F', 'DD->D',\n",
            " |      'GG->G', 'OO->O']\n",
            " |      \n",
            " |      >>> np.power.types\n",
            " |      ['bb->b', 'BB->B', 'hh->h', 'HH->H', 'ii->i', 'II->I', 'll->l', 'LL->L',\n",
            " |      'qq->q', 'QQ->Q', 'ff->f', 'dd->d', 'gg->g', 'FF->F', 'DD->D', 'GG->G',\n",
            " |      'OO->O']\n",
            " |      \n",
            " |      >>> np.exp.types\n",
            " |      ['f->f', 'd->d', 'g->g', 'F->F', 'D->D', 'G->G', 'O->O']\n",
            " |      \n",
            " |      >>> np.remainder.types\n",
            " |      ['bb->b', 'BB->B', 'hh->h', 'HH->H', 'ii->i', 'II->I', 'll->l', 'LL->L',\n",
            " |      'qq->q', 'QQ->Q', 'ff->f', 'dd->d', 'gg->g', 'OO->O']\n",
            "\n"
          ]
        }
      ],
      "source": [
        "import numpy as np\n",
        "help(np.add)"
      ]
    },
    {
      "cell_type": "markdown",
      "metadata": {
        "id": "_4dv0gLRqoHA"
      },
      "source": [
        "#### 6.  Create a null vector of size 10 but the fifth value which is 1 (★☆☆) \n",
        "(**hint**: array\\[4\\])"
      ]
    },
    {
      "cell_type": "code",
      "execution_count": null,
      "metadata": {
        "id": "5lZ1M745qoHA",
        "colab": {
          "base_uri": "https://localhost:8080/"
        },
        "outputId": "86f66aae-f37e-4455-b849-d9c5042f53ef"
      },
      "outputs": [
        {
          "output_type": "stream",
          "name": "stdout",
          "text": [
            "[0. 0. 0. 0. 1. 0. 0. 0. 0. 0.]\n"
          ]
        }
      ],
      "source": [
        "import numpy as np\n",
        "vec = np.zeros(10)\n",
        "vec[4]=1\n",
        "print(vec)\n"
      ]
    },
    {
      "cell_type": "markdown",
      "metadata": {
        "id": "iJjP3fW3qoHA"
      },
      "source": [
        "#### 7.  Create a vector with values ranging from 10 to 49 (★☆☆) \n",
        "(**hint**: np.arange)"
      ]
    },
    {
      "cell_type": "code",
      "execution_count": null,
      "metadata": {
        "id": "kNknhkszqoHB",
        "colab": {
          "base_uri": "https://localhost:8080/"
        },
        "outputId": "c96f8060-a37a-4bd1-ffe8-47e8c979a0cc"
      },
      "outputs": [
        {
          "output_type": "stream",
          "name": "stdout",
          "text": [
            "[10 11 12 13 14 15 16 17 18 19 20 21 22 23 24 25 26 27 28 29 30 31 32 33\n",
            " 34 35 36 37 38 39 40 41 42 43 44 45 46 47 48 49]\n"
          ]
        }
      ],
      "source": [
        "import numpy as np\n",
        "vec = np.arange(10,50,1)\n",
        "print(vec)"
      ]
    },
    {
      "cell_type": "markdown",
      "metadata": {
        "id": "ZaYKwJUvqoHB"
      },
      "source": [
        "#### 8.  Reverse a vector (first element becomes last) (★☆☆) \n",
        "(**hint**: array\\[::-1\\])"
      ]
    },
    {
      "cell_type": "code",
      "execution_count": null,
      "metadata": {
        "id": "r9qfVnoMqoHB",
        "colab": {
          "base_uri": "https://localhost:8080/"
        },
        "outputId": "7042162b-2b60-4245-c52e-ee0677bc5f80"
      },
      "outputs": [
        {
          "output_type": "stream",
          "name": "stdout",
          "text": [
            "[49 48 47 46 45 44 43 42 41 40 39 38 37 36 35 34 33 32 31 30 29 28 27 26\n",
            " 25 24 23 22 21 20 19 18 17 16 15 14 13 12 11 10]\n"
          ]
        }
      ],
      "source": [
        "import numpy as np\n",
        "#create a vector with values ranging from 10 to 49\n",
        "vec =np.arange(10,50,1)\n",
        "#rerverse the vector\n",
        "rev_vec =vec[::-1]\n",
        "print(rev_vec)"
      ]
    },
    {
      "cell_type": "markdown",
      "metadata": {
        "id": "mK1x54wbqoHC"
      },
      "source": [
        "#### 9.  Create a 3x3 matrix with values ranging from 0 to 8 (★☆☆) \n",
        "(**hint**: reshape)"
      ]
    },
    {
      "cell_type": "code",
      "execution_count": null,
      "metadata": {
        "id": "xpRI75vlqoHC",
        "colab": {
          "base_uri": "https://localhost:8080/"
        },
        "outputId": "1d43dcd8-1488-4411-a162-a3a5e7e87a9a"
      },
      "outputs": [
        {
          "output_type": "stream",
          "name": "stdout",
          "text": [
            "[[0 1 2]\n",
            " [3 4 5]\n",
            " [6 7 8]]\n"
          ]
        }
      ],
      "source": [
        "import numpy as np\n",
        "\n",
        "#create a vector with values ranging from 0 to 8\n",
        "vec = np.arange(9)\n",
        "#reshape the vector into 3*3 matrix\n",
        "matrix = vec.reshape((3,3))\n",
        "\n",
        "print(matrix)"
      ]
    },
    {
      "cell_type": "markdown",
      "metadata": {
        "id": "QXDJXlWGqoHC"
      },
      "source": [
        "#### 10. Find indices of non-zero elements from \\[1,2,0,0,4,0\\] (★☆☆) \n",
        "(**hint**: np.nonzero)"
      ]
    },
    {
      "cell_type": "code",
      "execution_count": null,
      "metadata": {
        "id": "7rxW-M7dqoHC",
        "colab": {
          "base_uri": "https://localhost:8080/"
        },
        "outputId": "0d33425f-be4f-4846-9df2-2ab48cf1aa80"
      },
      "outputs": [
        {
          "output_type": "stream",
          "name": "stdout",
          "text": [
            "[0, 1, 4]\n"
          ]
        }
      ],
      "source": [
        "import numpy as np\n",
        "arr = np.array([1,2,0,0,4,0])\n",
        "indices = np.nonzero(arr)[0].tolist()\n",
        "print(indices)\n"
      ]
    },
    {
      "cell_type": "markdown",
      "metadata": {
        "id": "atqBCS1BqoHD"
      },
      "source": [
        "#### 11. Create a 3x3 identity matrix (★☆☆) \n",
        "(**hint**: np.eye)"
      ]
    },
    {
      "cell_type": "code",
      "execution_count": null,
      "metadata": {
        "id": "ztcpGa2bqoHD",
        "colab": {
          "base_uri": "https://localhost:8080/"
        },
        "outputId": "e336ba37-4813-417a-b183-298b4ba54c3c"
      },
      "outputs": [
        {
          "output_type": "stream",
          "name": "stdout",
          "text": [
            "[[1. 0. 0.]\n",
            " [0. 1. 0.]\n",
            " [0. 0. 1.]]\n"
          ]
        }
      ],
      "source": [
        "import numpy as np\n",
        "matrix=np.eye(3)\n",
        "print(matrix)\n"
      ]
    },
    {
      "cell_type": "markdown",
      "metadata": {
        "id": "JhwU21B8qoHD"
      },
      "source": [
        "#### 12. Create a 3x3x3 array with random values (★☆☆) \n",
        "(**hint**: np.random.random)"
      ]
    },
    {
      "cell_type": "code",
      "execution_count": null,
      "metadata": {
        "collapsed": true,
        "id": "nHOjjrEfqoHD",
        "colab": {
          "base_uri": "https://localhost:8080/"
        },
        "outputId": "b21ede5b-7ebc-47c8-f0bf-3536f7f31173"
      },
      "outputs": [
        {
          "output_type": "stream",
          "name": "stdout",
          "text": [
            "[[[0.98899517 0.06711112 0.18422594]\n",
            "  [0.18680085 0.02681206 0.71673523]\n",
            "  [0.37039702 0.79988547 0.79017039]]\n",
            "\n",
            " [[0.93682491 0.44073411 0.09415572]\n",
            "  [0.49861787 0.54311615 0.22578504]\n",
            "  [0.50592148 0.75938704 0.7387072 ]]\n",
            "\n",
            " [[0.56180108 0.73130275 0.4656308 ]\n",
            "  [0.36907868 0.40992029 0.62911671]\n",
            "  [0.85473494 0.81880122 0.8547301 ]]]\n"
          ]
        }
      ],
      "source": [
        "import numpy as np\n",
        "\n",
        "arr = np.random.rand(3,3,3)\n",
        "print(arr)"
      ]
    },
    {
      "cell_type": "markdown",
      "metadata": {
        "id": "zgsxClOYqoHE"
      },
      "source": [
        "#### 13. Create a 10x10 array with random values and find the minimum and maximum values (★☆☆) \n",
        "(**hint**: min, max)"
      ]
    },
    {
      "cell_type": "code",
      "execution_count": null,
      "metadata": {
        "id": "LX-J-2DgqoHE",
        "colab": {
          "base_uri": "https://localhost:8080/"
        },
        "outputId": "d5d35f0f-b40b-4f8c-a78a-ac12eafe180d"
      },
      "outputs": [
        {
          "output_type": "stream",
          "name": "stdout",
          "text": [
            "[[0.90178711 0.71590473 0.0654939  0.44326867 0.09884389 0.47937669\n",
            "  0.98062866 0.85328687 0.87144106 0.46795553]\n",
            " [0.39114432 0.62148196 0.30468368 0.23538993 0.22491038 0.90466112\n",
            "  0.29662302 0.14266941 0.78024945 0.49661375]\n",
            " [0.34241163 0.05951732 0.62790374 0.92073114 0.88721463 0.27519147\n",
            "  0.94296265 0.08684668 0.54327797 0.08234761]\n",
            " [0.46108454 0.31096284 0.95150373 0.27678298 0.5971833  0.77119334\n",
            "  0.70623312 0.47791764 0.62302532 0.86162273]\n",
            " [0.4249837  0.47052559 0.03166986 0.40941871 0.59898954 0.80397128\n",
            "  0.11687938 0.69444105 0.44692511 0.54408177]\n",
            " [0.5993465  0.55290587 0.12930658 0.13613886 0.45573483 0.80297554\n",
            "  0.84064312 0.58475169 0.41106022 0.639757  ]\n",
            " [0.31706451 0.69969533 0.59701353 0.66453081 0.02573179 0.62871655\n",
            "  0.86420159 0.73195504 0.51558615 0.5216547 ]\n",
            " [0.60444774 0.97893028 0.11676773 0.09991242 0.91225105 0.05432599\n",
            "  0.98042902 0.25692441 0.97505009 0.64377264]\n",
            " [0.3800384  0.10608853 0.94914965 0.33124039 0.37615076 0.24118721\n",
            "  0.85868441 0.38327147 0.85099187 0.72835682]\n",
            " [0.60399857 0.67813185 0.26054451 0.29967361 0.77551144 0.8396087\n",
            "  0.04896599 0.55589365 0.80278536 0.84710966]]\n",
            "0.02573179272741588\n",
            "0.9806286561576425\n"
          ]
        }
      ],
      "source": [
        "import numpy as np\n",
        "arr = np.random.rand(10,10)\n",
        "print(arr)\n",
        "min_val = np.min(arr)\n",
        "max_val = np.max(arr)\n",
        "\n",
        "print(min_val)\n",
        "print(max_val)"
      ]
    },
    {
      "cell_type": "markdown",
      "metadata": {
        "id": "a300EyGqqoHE"
      },
      "source": [
        "#### 14. Create a random vector of size 30 and find the mean value (★☆☆) \n",
        "(**hint**: mean)"
      ]
    },
    {
      "cell_type": "code",
      "execution_count": null,
      "metadata": {
        "id": "NqofmY4cqoHE",
        "colab": {
          "base_uri": "https://localhost:8080/"
        },
        "outputId": "f6667abe-9d47-4ab0-acf0-4507ac5af31d"
      },
      "outputs": [
        {
          "output_type": "stream",
          "name": "stdout",
          "text": [
            "[0.49325064 0.2647086  0.17649067 0.79489581 0.93683838 0.01592906\n",
            " 0.87841754 0.60945003 0.21276649 0.59647065 0.34909375 0.87860002\n",
            " 0.14723924 0.51844884 0.04957023 0.31167726 0.86592677 0.46837283\n",
            " 0.57398378 0.03999635 0.27091758 0.00597814 0.22645685 0.10288059\n",
            " 0.57868468 0.0935737  0.93017496 0.62365272 0.88910406 0.69113265]\n",
            "{0.4531560955102872}\n"
          ]
        }
      ],
      "source": [
        "import numpy as np\n",
        "vec = np.random.rand(30)\n",
        "print(vec)\n",
        "mean = np.mean(vec)\n",
        "print({mean})"
      ]
    },
    {
      "cell_type": "markdown",
      "metadata": {
        "id": "Jz1KyRs3qoHE"
      },
      "source": [
        "#### 15. Create a 2d array with 1 on the border and 0 inside (★☆☆) \n",
        "(**hint**: array\\[1:-1, 1:-1\\])"
      ]
    },
    {
      "cell_type": "code",
      "execution_count": null,
      "metadata": {
        "id": "2Ux1yFjkqoHF",
        "colab": {
          "base_uri": "https://localhost:8080/"
        },
        "outputId": "e60060f5-b3ed-4152-d92d-53baab246514"
      },
      "outputs": [
        {
          "output_type": "stream",
          "name": "stdout",
          "text": [
            "[[1. 1. 1. 1. 1.]\n",
            " [1. 1. 1. 1. 1.]\n",
            " [1. 1. 1. 1. 1.]\n",
            " [1. 1. 1. 1. 1.]\n",
            " [1. 1. 1. 1. 1.]]\n",
            "[[1. 1. 1. 1. 1.]\n",
            " [1. 0. 0. 0. 1.]\n",
            " [1. 0. 0. 0. 1.]\n",
            " [1. 0. 0. 0. 1.]\n",
            " [1. 1. 1. 1. 1.]]\n"
          ]
        }
      ],
      "source": [
        "import numpy as np\n",
        "\n",
        "arr =np.ones((5,5))\n",
        "\n",
        "arr[1:-1,1:-1]=0\n",
        "\n",
        "print(arr)"
      ]
    },
    {
      "cell_type": "markdown",
      "metadata": {
        "id": "FwvMtl7mqoHF"
      },
      "source": [
        "#### 16. How to add a border (filled with 0's) around an existing array? (★☆☆) \n",
        "(**hint**: np.pad)"
      ]
    },
    {
      "cell_type": "code",
      "execution_count": null,
      "metadata": {
        "id": "eIUgxRNzqoHF",
        "colab": {
          "base_uri": "https://localhost:8080/"
        },
        "outputId": "90176930-ab0f-4714-b159-648d3f09c5d9"
      },
      "outputs": [
        {
          "output_type": "stream",
          "name": "stdout",
          "text": [
            "[[1 2 3]\n",
            " [4 5 6]]\n",
            "[[0 0 0 0 0]\n",
            " [0 1 2 3 0]\n",
            " [0 4 5 6 0]\n",
            " [0 0 0 0 0]]\n"
          ]
        }
      ],
      "source": [
        "import numpy as np\n",
        "arr = np.array([[1,2,3],[4,5,6]])\n",
        "\n",
        "print(arr)\n",
        "\n",
        "padded_arr =np.pad(arr,pad_width=1,constant_values=0)\n",
        "\n",
        "print(padded_arr)"
      ]
    },
    {
      "cell_type": "markdown",
      "metadata": {
        "id": "PyvTtFp-qoHF"
      },
      "source": [
        "#### 17. What is the result of the following expression? (★☆☆) \n",
        "(**hint**: NaN = not a number, inf = infinity)"
      ]
    },
    {
      "cell_type": "markdown",
      "metadata": {
        "id": "Z69NJR0MqoHF"
      },
      "source": [
        "```python\n",
        "0 * np.nan\n",
        "np.nan == np.nan\n",
        "np.inf > np.nan\n",
        "np.nan - np.nan\n",
        "0.3 == 3 * 0.1\n",
        "```"
      ]
    },
    {
      "cell_type": "code",
      "execution_count": null,
      "metadata": {
        "id": "7kCWVddIqoHG"
      },
      "outputs": [],
      "source": [
        "0 * np.nan=nan\n",
        "np.nan == np.nan= False\n",
        "np.inf > np.nan = False\n",
        "np.nan - np.nan=nan\n",
        "0.3 == 3 * 0.1=False"
      ]
    },
    {
      "cell_type": "markdown",
      "metadata": {
        "id": "j3dq_jlEqoHG"
      },
      "source": [
        "#### 18. Create a 5x5 matrix with values 1,2,3,4 just below the diagonal (★☆☆) \n",
        "(**hint**: np.diag)"
      ]
    },
    {
      "cell_type": "code",
      "execution_count": null,
      "metadata": {
        "id": "Vm5Qr0McqoHG",
        "colab": {
          "base_uri": "https://localhost:8080/"
        },
        "outputId": "287b7871-2560-4eca-bd41-34964d4f1349"
      },
      "outputs": [
        {
          "output_type": "stream",
          "name": "stdout",
          "text": [
            "[[0 0 0 0 0]\n",
            " [1 0 0 0 0]\n",
            " [0 2 0 0 0]\n",
            " [0 0 3 0 0]\n",
            " [0 0 0 4 0]]\n"
          ]
        }
      ],
      "source": [
        "import numpy as np\n",
        "matrix= np.diag([1,2,3,4],k=-1)\n",
        "print(matrix)"
      ]
    },
    {
      "cell_type": "markdown",
      "metadata": {
        "id": "hcViNW-wqoHG"
      },
      "source": [
        "#### 19. Create a 8x8 matrix and fill it with a checkerboard pattern (★☆☆) \n",
        "(**hint**: array\\[::2\\])"
      ]
    },
    {
      "cell_type": "code",
      "execution_count": null,
      "metadata": {
        "id": "bbw_tcjFqoHH",
        "colab": {
          "base_uri": "https://localhost:8080/"
        },
        "outputId": "d006bef4-b04e-41e7-fd4f-fc9b31af6a6e"
      },
      "outputs": [
        {
          "output_type": "stream",
          "name": "stdout",
          "text": [
            "[[1. 0. 1. 0. 1. 0. 1. 0.]\n",
            " [0. 1. 0. 1. 0. 1. 0. 1.]\n",
            " [1. 0. 1. 0. 1. 0. 1. 0.]\n",
            " [0. 1. 0. 1. 0. 1. 0. 1.]\n",
            " [1. 0. 1. 0. 1. 0. 1. 0.]\n",
            " [0. 1. 0. 1. 0. 1. 0. 1.]\n",
            " [1. 0. 1. 0. 1. 0. 1. 0.]\n",
            " [0. 1. 0. 1. 0. 1. 0. 1.]]\n"
          ]
        }
      ],
      "source": [
        "import numpy as np\n",
        "\n",
        "# Create a 8x8 matrix with all elements set to 0\n",
        "matrix = np.zeros((8, 8))\n",
        "\n",
        "# Set the elements at even indices to 1\n",
        "matrix[::2, ::2] = 1\n",
        "\n",
        "# Set the elements at odd indices to 1\n",
        "matrix[1::2, 1::2] = 1\n",
        "\n",
        "print(matrix)\n"
      ]
    },
    {
      "cell_type": "markdown",
      "metadata": {
        "id": "Ibfhl1bOqoHH"
      },
      "source": [
        "#### 20. Consider a (6,7,8) shape array, what is the index (x,y,z) of the 100th element? \n",
        "(**hint**: np.unravel_index)"
      ]
    },
    {
      "cell_type": "code",
      "execution_count": null,
      "metadata": {
        "id": "erKeQY4uqoHH",
        "colab": {
          "base_uri": "https://localhost:8080/"
        },
        "outputId": "4aa3d1ac-f868-43c2-abc2-d8e11144364d"
      },
      "outputs": [
        {
          "output_type": "stream",
          "name": "stdout",
          "text": [
            "(1, 5, 3)\n"
          ]
        }
      ],
      "source": [
        "import numpy as np\n",
        "\n",
        "shape = (6,7,8)\n",
        "\n",
        "flat_index = 99\n",
        "\n",
        "indices = np.unravel_index(flat_index,shape)\n",
        "\n",
        "print(indices)"
      ]
    },
    {
      "cell_type": "markdown",
      "metadata": {
        "id": "or40v3prqoHH"
      },
      "source": [
        "#### 21. Create a checkerboard 8x8 matrix using the tile function (★☆☆) \n",
        "(**hint**: np.tile)"
      ]
    },
    {
      "cell_type": "code",
      "execution_count": null,
      "metadata": {
        "id": "9AxzaKhSqoHI",
        "colab": {
          "base_uri": "https://localhost:8080/"
        },
        "outputId": "4ea4651a-b01e-4e1b-af48-513c89996ff2"
      },
      "outputs": [
        {
          "output_type": "stream",
          "name": "stdout",
          "text": [
            "[[1 0 1 0 1 0 1 0]\n",
            " [0 1 0 1 0 1 0 1]\n",
            " [1 0 1 0 1 0 1 0]\n",
            " [0 1 0 1 0 1 0 1]\n",
            " [1 0 1 0 1 0 1 0]\n",
            " [0 1 0 1 0 1 0 1]\n",
            " [1 0 1 0 1 0 1 0]\n",
            " [0 1 0 1 0 1 0 1]]\n"
          ]
        }
      ],
      "source": [
        "import numpy as np\n",
        "\n",
        "block =np.array([[1,0],\n",
        "                 [0,1]])\n",
        "\n",
        "matrix =np.tile(block,(4,4))\n",
        "\n",
        "print(matrix)\n",
        "\n"
      ]
    },
    {
      "cell_type": "markdown",
      "metadata": {
        "id": "ey1qx80LqoHI"
      },
      "source": [
        "#### 22. Normalize a 5x5 random matrix (★☆☆) \n",
        "(**hint**: (x - min) / (max - min))"
      ]
    },
    {
      "cell_type": "code",
      "execution_count": null,
      "metadata": {
        "id": "V1AZRoLaqoHI",
        "colab": {
          "base_uri": "https://localhost:8080/"
        },
        "outputId": "ae9ecd98-b8b8-4c3c-cbbb-82753f0efd97"
      },
      "outputs": [
        {
          "output_type": "stream",
          "name": "stdout",
          "text": [
            "[[0.39633994 0.94240463 0.23688873 0.6244392  0.67364952]\n",
            " [0.34427562 0.06797744 0.12936821 0.58899194 0.25617772]\n",
            " [0.79838209 0.7882339  0.1699622  0.87516824 0.25101733]\n",
            " [0.80124627 0.31372292 0.00307414 0.09897902 0.35672658]\n",
            " [0.86208664 0.71800563 0.96672182 0.97785374 0.97774043]]\n",
            "[[0.40531618 0.96374805 0.24225375 0.63858139 0.68890622]\n",
            " [0.35207271 0.06951698 0.13229812 0.60233133 0.26197959]\n",
            " [0.81646371 0.80608569 0.17381147 0.8949889  0.25670233]\n",
            " [0.81939276 0.32082806 0.00314376 0.10122068 0.36480567]\n",
            " [0.88161103 0.7342669  0.98861597 1.         0.99988413]]\n"
          ]
        }
      ],
      "source": [
        "import numpy as np\n",
        "\n",
        "matrix = np.random.rand(5,5)\n",
        "print(matrix)\n",
        "\n",
        "#matrix1 = matrix.max()\n",
        "#print(matrix1)\n",
        "\n",
        "normalized_matrix=matrix/matrix.max()\n",
        "\n",
        "print(normalized_matrix)\n",
        "\n",
        "\n",
        "\n"
      ]
    },
    {
      "cell_type": "markdown",
      "metadata": {
        "id": "Js1QrCZoqoHI"
      },
      "source": [
        "#### 23. Create a custom dtype that describes a color as four unsigned bytes (RGBA) (★☆☆) \n",
        "(**hint**: np.dtype)"
      ]
    },
    {
      "cell_type": "code",
      "execution_count": null,
      "metadata": {
        "collapsed": true,
        "id": "-j0szn2VqoHJ",
        "colab": {
          "base_uri": "https://localhost:8080/"
        },
        "outputId": "a9cbcaaa-f75d-4d4e-a652-03aed3481121"
      },
      "outputs": [
        {
          "output_type": "stream",
          "name": "stdout",
          "text": [
            "[(255,   0,   0, 255) (  0, 255,   0, 255) (  0,   0, 255, 255)]\n"
          ]
        }
      ],
      "source": [
        "import numpy as np\n",
        "\n",
        "color_dtype=np.dtype([(\"r\",np.uint8),(\"g\",np.uint8),(\"b\",np.uint8),\n",
        "                      (\"a\",np.uint8)])\n",
        "\n",
        "colors=np.array([(255,0,0,255),(0,255,0,255),(0,0,255,255)],dtype=color_dtype)\n",
        "\n",
        "print(colors)"
      ]
    },
    {
      "cell_type": "markdown",
      "metadata": {
        "id": "RbptHqXaqoHJ"
      },
      "source": [
        "#### 24. Multiply a 5x3 matrix by a 3x2 matrix (real matrix product) (★☆☆) \n",
        "(**hint**: np.dot | @)"
      ]
    },
    {
      "cell_type": "code",
      "execution_count": null,
      "metadata": {
        "id": "5OukcEVXqoHJ",
        "colab": {
          "base_uri": "https://localhost:8080/"
        },
        "outputId": "5bd8aa72-08d9-4f72-c15d-34917cf6a6cb"
      },
      "outputs": [
        {
          "output_type": "stream",
          "name": "stdout",
          "text": [
            "[[ 1  2  3]\n",
            " [ 4  5  6]\n",
            " [ 7  8  9]\n",
            " [10 11 12]\n",
            " [13 14 15]]\n",
            "[[1 2]\n",
            " [3 4]\n",
            " [5 6]]\n",
            "[[ 22  28]\n",
            " [ 49  64]\n",
            " [ 76 100]\n",
            " [103 136]\n",
            " [130 172]]\n"
          ]
        }
      ],
      "source": [
        "import numpy as np\n",
        "\n",
        "matrix1= np.array([[1,2,3],[4,5,6],[7,8,9],[10,11,12],[13,14,15]])\n",
        "\n",
        "print(matrix1)\n",
        "\n",
        "matrix2=np.array([[1,2],[3,4],[5,6]])\n",
        "\n",
        "print(matrix2)\n",
        "\n",
        "result=np.dot(matrix1,matrix2)\n",
        "print(result)"
      ]
    },
    {
      "cell_type": "markdown",
      "metadata": {
        "id": "2ccAFCe2qoHJ"
      },
      "source": [
        "#### 25. Given a 1D array, negate all elements which are between 3 and 8, in place. (★☆☆) \n",
        "(**hint**: >, <=)"
      ]
    },
    {
      "cell_type": "code",
      "execution_count": null,
      "metadata": {
        "id": "fGIoksE4qoHK",
        "colab": {
          "base_uri": "https://localhost:8080/"
        },
        "outputId": "c5bd3cae-29b3-495d-b7bc-7aa2ad1e3a77"
      },
      "outputs": [
        {
          "output_type": "stream",
          "name": "stdout",
          "text": [
            "[ 1  2  3  4  5  6  7  8  9 10]\n",
            "[ 1  2  3 -4 -5 -6 -7 -8 -9 10]\n"
          ]
        }
      ],
      "source": [
        "import numpy as np\n",
        "\n",
        "array=np.array([1,2,3,4,5,6,7,8,9,10])\n",
        "\n",
        "print(array)\n",
        "\n",
        "array[3:9] = -array[3:9]\n",
        "print(array)"
      ]
    },
    {
      "cell_type": "markdown",
      "metadata": {
        "id": "I8FTW0sGqoHK"
      },
      "source": [
        "#### 26. What is the output of the following script? (★☆☆) \n",
        "(**hint**: np.sum)"
      ]
    },
    {
      "cell_type": "markdown",
      "metadata": {
        "id": "r2QVsF3UqoHK"
      },
      "source": [
        "```python\n",
        "# Author: Jake VanderPlas\n",
        "\n",
        "print(sum(range(5),-1))\n",
        "from numpy import *\n",
        "print(sum(range(5),-1))\n",
        "```"
      ]
    },
    {
      "cell_type": "code",
      "execution_count": 15,
      "metadata": {
        "id": "paSsYuH3qoHK",
        "colab": {
          "base_uri": "https://localhost:8080/"
        },
        "outputId": "36fc38ab-64ce-40cc-aafb-1b24a1bdf687"
      },
      "outputs": [
        {
          "output_type": "stream",
          "name": "stdout",
          "text": [
            "10\n",
            "10\n"
          ]
        }
      ],
      "source": [
        "import numpy as np\n",
        "\n",
        "print(sum(range(5),-1))\n",
        "from numpy import *\n",
        "print(np.sum(range(5),-1))\n",
        "\n",
        "#Output\n",
        "#10\n",
        "#10"
      ]
    },
    {
      "cell_type": "markdown",
      "metadata": {
        "id": "_MhuirSoqoHL"
      },
      "source": [
        "#### 27. Consider an integer vector Z, which of these expressions are legal? (★☆☆)"
      ]
    },
    {
      "cell_type": "markdown",
      "metadata": {
        "id": "SdPAH6ykqoHL"
      },
      "source": [
        "```python\n",
        "Z**Z\n",
        "2 << Z >> 2\n",
        "Z <- Z\n",
        "1j*Z\n",
        "Z/1/1\n",
        "Z<Z>Z\n",
        "```"
      ]
    },
    {
      "cell_type": "code",
      "execution_count": null,
      "metadata": {
        "id": "ZDrwbJQ7qoHL"
      },
      "outputs": [],
      "source": [
        "Z**Z  is legal\n",
        "2 << Z >> 2 is legal\n",
        "Z <- Z is not a valid python expression\n",
        "1j*Z is legal\n",
        "Z/1/1 is legal\n",
        "Z<Z>Z is not a valid python expression"
      ]
    },
    {
      "cell_type": "markdown",
      "metadata": {
        "id": "FbTfMxcqqoHM"
      },
      "source": [
        "#### 28. What are the result of the following expressions?"
      ]
    },
    {
      "cell_type": "markdown",
      "metadata": {
        "id": "9txLAKziqoHM"
      },
      "source": [
        "```python\n",
        "np.array(0) / np.array(0)\n",
        "np.array(0) // np.array(0)\n",
        "np.array([np.nan]).astype(int).astype(float)\n",
        "```"
      ]
    },
    {
      "cell_type": "code",
      "execution_count": 16,
      "metadata": {
        "id": "BWOuW0TLqoHN",
        "colab": {
          "base_uri": "https://localhost:8080/"
        },
        "outputId": "13babe75-acc0-4328-e0e2-24aae90a9720"
      },
      "outputs": [
        {
          "output_type": "stream",
          "name": "stderr",
          "text": [
            "<ipython-input-16-c3af468f36f5>:2: RuntimeWarning: invalid value encountered in true_divide\n",
            "  np.array(0) / np.array(0)\n",
            "<ipython-input-16-c3af468f36f5>:3: RuntimeWarning: divide by zero encountered in floor_divide\n",
            "  np.array(0) // np.array(0)\n"
          ]
        },
        {
          "output_type": "execute_result",
          "data": {
            "text/plain": [
              "array([-9.22337204e+18])"
            ]
          },
          "metadata": {},
          "execution_count": 16
        }
      ],
      "source": [
        "import numpy as np\n",
        "np.array(0) / np.array(0)\n",
        "np.array(0) // np.array(0)\n",
        "np.array([np.nan]).astype(int).astype(float)"
      ]
    },
    {
      "cell_type": "markdown",
      "metadata": {
        "id": "wVPqsmeKqoHN"
      },
      "source": [
        "#### 29. How to round away from zero a float array ? (★☆☆) \n",
        "(**hint**: np.uniform, np.copysign, np.ceil, np.abs)"
      ]
    },
    {
      "cell_type": "code",
      "execution_count": 17,
      "metadata": {
        "id": "Oqr97I-OqoHN",
        "colab": {
          "base_uri": "https://localhost:8080/"
        },
        "outputId": "c3ef6478-bc2f-4907-cd97-ff6536992285"
      },
      "outputs": [
        {
          "output_type": "stream",
          "name": "stdout",
          "text": [
            "[-2. -2. -1.  1.  2.  2.  2.]\n"
          ]
        }
      ],
      "source": [
        "import numpy as np\n",
        "\n",
        "array = np.array([-1.7,-1.5,-0.2,0.2,1.5,1.7,2.0])\n",
        "\n",
        "rounded = np.copysign(np.ceil(np.abs(array)),array)\n",
        "\n",
        "print(rounded)"
      ]
    },
    {
      "cell_type": "markdown",
      "metadata": {
        "id": "oYfTj-HrqoHO"
      },
      "source": [
        "#### 30. How to find common values between two arrays? (★☆☆) \n",
        "(**hint**: np.intersect1d)"
      ]
    },
    {
      "cell_type": "code",
      "execution_count": 18,
      "metadata": {
        "id": "Y-r4k2Q7qoHO",
        "colab": {
          "base_uri": "https://localhost:8080/"
        },
        "outputId": "12717e94-e3d3-4ee2-b21c-d6da385b17f2"
      },
      "outputs": [
        {
          "output_type": "stream",
          "name": "stdout",
          "text": [
            "[3 4 5]\n"
          ]
        }
      ],
      "source": [
        "import numpy as np\n",
        "\n",
        "array1 =np.array([1,2,3,4,5])\n",
        "array2 =np.array([3,4,5,6,7])\n",
        "\n",
        "common_values=np.intersect1d(array1,array2)\n",
        "\n",
        "print(common_values)"
      ]
    },
    {
      "cell_type": "markdown",
      "metadata": {
        "id": "AApkccRmqoHO"
      },
      "source": [
        "#### 31. How to ignore all numpy warnings (not recommended)? (★☆☆) \n",
        "(**hint**: np.seterr, np.errstate)"
      ]
    },
    {
      "cell_type": "code",
      "execution_count": 19,
      "metadata": {
        "id": "pR4DpCACqoHO",
        "colab": {
          "base_uri": "https://localhost:8080/"
        },
        "outputId": "9b348484-8452-49dd-bd17-740912d8e786"
      },
      "outputs": [
        {
          "output_type": "stream",
          "name": "stdout",
          "text": [
            "[nan]\n"
          ]
        },
        {
          "output_type": "stream",
          "name": "stderr",
          "text": [
            "<ipython-input-19-4aeb907d87d7>:6: RuntimeWarning: invalid value encountered in true_divide\n",
            "  result = np.array([0])/np.array([0])\n"
          ]
        }
      ],
      "source": [
        "import numpy as np\n",
        "import warnings\n",
        "\n",
        "warnings.simplefilter(\"ignore\",category=UserWarning)\n",
        "\n",
        "result = np.array([0])/np.array([0])\n",
        "\n",
        "print(result)"
      ]
    },
    {
      "cell_type": "markdown",
      "metadata": {
        "id": "EXMaGih4qoHP"
      },
      "source": [
        "#### 32. Is the following expressions true? (★☆☆) \n",
        "(**hint**: imaginary number)"
      ]
    },
    {
      "cell_type": "markdown",
      "metadata": {
        "id": "ukTC3gYtqoHP"
      },
      "source": [
        "```python\n",
        "np.sqrt(-1) == np.emath.sqrt(-1)\n",
        "```"
      ]
    },
    {
      "cell_type": "code",
      "execution_count": null,
      "metadata": {
        "id": "VlO3wPTAqoHP"
      },
      "outputs": [],
      "source": [
        "np.sqrt(-1) == np.emath.sqrt(-1) is True"
      ]
    },
    {
      "cell_type": "markdown",
      "metadata": {
        "id": "5Uvryen3qoHP"
      },
      "source": [
        "#### 33. How to get the dates of yesterday, today and tomorrow? (★☆☆) \n",
        "(**hint**: np.datetime64, np.timedelta64)"
      ]
    },
    {
      "cell_type": "code",
      "execution_count": 23,
      "metadata": {
        "collapsed": true,
        "id": "7Fu93bZ5qoHP",
        "colab": {
          "base_uri": "https://localhost:8080/"
        },
        "outputId": "7c3442d9-9e50-48ad-877f-fa2a73d9af73"
      },
      "outputs": [
        {
          "output_type": "stream",
          "name": "stdout",
          "text": [
            "2022-12-28\n",
            "2022-12-29\n",
            "2022-12-30\n"
          ]
        }
      ],
      "source": [
        "import numpy as np\n",
        "\n",
        "today = np.datetime64('today')\n",
        "\n",
        "yesterday = today - np.timedelta64(1,'D')\n",
        "\n",
        "tomorrow = today + np.timedelta64(1,'D')\n",
        "\n",
        "print(yesterday)\n",
        "print(today)\n",
        "print(tomorrow)"
      ]
    },
    {
      "cell_type": "markdown",
      "metadata": {
        "id": "R-tb7U7pqoHT"
      },
      "source": [
        "#### 34. How to get all the dates corresponding to the month of July 2016? (★★☆) \n",
        "(**hint**: np.arange(dtype=datetime64\\['D'\\]))"
      ]
    },
    {
      "cell_type": "code",
      "execution_count": 24,
      "metadata": {
        "id": "DLCv8YqEqoHT",
        "colab": {
          "base_uri": "https://localhost:8080/"
        },
        "outputId": "fd1de97e-e381-46be-d249-e21e9b008af1"
      },
      "outputs": [
        {
          "output_type": "stream",
          "name": "stdout",
          "text": [
            "['2016-07-01' '2016-07-02' '2016-07-03' '2016-07-04' '2016-07-05'\n",
            " '2016-07-06' '2016-07-07' '2016-07-08' '2016-07-09' '2016-07-10'\n",
            " '2016-07-11' '2016-07-12' '2016-07-13' '2016-07-14' '2016-07-15'\n",
            " '2016-07-16' '2016-07-17' '2016-07-18' '2016-07-19' '2016-07-20'\n",
            " '2016-07-21' '2016-07-22' '2016-07-23' '2016-07-24' '2016-07-25'\n",
            " '2016-07-26' '2016-07-27' '2016-07-28' '2016-07-29' '2016-07-30'\n",
            " '2016-07-31']\n"
          ]
        }
      ],
      "source": [
        "import numpy as np\n",
        "start = np.datetime64('2016-07-01')\n",
        "\n",
        "end = np.datetime64('2016-07-31')\n",
        "\n",
        "dates = np.arange(start,end+1)\n",
        "\n",
        "print(dates)"
      ]
    },
    {
      "cell_type": "markdown",
      "metadata": {
        "id": "djTFhq3hqoHU"
      },
      "source": [
        "#### 35. How to compute ((A+B)\\*(-A/2)) in place (without copy)? (★★☆) \n",
        "(**hint**: np.add(out=), np.negative(out=), np.multiply(out=), np.divide(out=))"
      ]
    },
    {
      "cell_type": "code",
      "execution_count": 31,
      "metadata": {
        "id": "tZVLbG1sqoHU",
        "colab": {
          "base_uri": "https://localhost:8080/"
        },
        "outputId": "cfa60f89-125c-40a5-c71b-d6dc37f7b9e3"
      },
      "outputs": [
        {
          "output_type": "stream",
          "name": "stdout",
          "text": [
            "[ 7  9 11 13 15]\n",
            "[ -24  -40  -60  -84 -112]\n"
          ]
        }
      ],
      "source": [
        "import numpy as np\n",
        "\n",
        "A =np.array([1,2,3,4,5])\n",
        "B = np.array([6,7,8,9,10])\n",
        "\n",
        "np.add(A,B,out=A)\n",
        "\n",
        "print(A)\n",
        "np.multiply(A, -A/2, out=A,casting='unsafe')\n",
        "\n",
        "print(A)"
      ]
    },
    {
      "cell_type": "markdown",
      "metadata": {
        "id": "HBX-m0jxqoHU"
      },
      "source": [
        "#### 36. Extract the integer part of a random array using 5 different methods (★★☆) \n",
        "(**hint**: %, np.floor, np.ceil, astype, np.trunc)"
      ]
    },
    {
      "cell_type": "code",
      "execution_count": 37,
      "metadata": {
        "id": "sRHfK1VOqoHU",
        "colab": {
          "base_uri": "https://localhost:8080/"
        },
        "outputId": "b23fc3c2-83c5-408a-a460-482abc3df8f9"
      },
      "outputs": [
        {
          "output_type": "stream",
          "name": "stdout",
          "text": [
            "[0. 0. 0. 0. 0. 0. 0. 0. 0. 0.]\n",
            "[0. 0. 0. 0. 0. 0. 0. 0. 0. 0.]\n",
            "[0. 0. 0. 0. 0. 0. 0. 0. 0. 0.]\n",
            "[0 0 0 0 0 0 0 0 0 0]\n",
            "[0. 0. 1. 0. 1. 0. 1. 0. 1. 0.]\n"
          ]
        }
      ],
      "source": [
        "# 1.Using floor function\n",
        "\n",
        "import numpy as np\n",
        "\n",
        "arr =np.random.rand(10)\n",
        "\n",
        "int_part =np.floor(arr)\n",
        "\n",
        "print(int_part)\n",
        "\n",
        "#2.Using integer division\n",
        "\n",
        "import numpy as np\n",
        "\n",
        "arr = np.random.rand(10)\n",
        "\n",
        "int_part = arr//1\n",
        "\n",
        "print(int_part)\n",
        "\n",
        "#3.Using the trunc function\n",
        "\n",
        "import numpy as np\n",
        "\n",
        "arr = np.random.rand(10)\n",
        "\n",
        "int_part = np.trunc(arr)\n",
        "\n",
        "print(int_part)\n",
        "\n",
        "#4.Using the astype function\n",
        "\n",
        "import numpy as np\n",
        "\n",
        "arr = np.random.rand(10)\n",
        "\n",
        "int_part= arr.astype(int)\n",
        "\n",
        "print(int_part)\n",
        "\n",
        "#5.Using round function\n",
        "\n",
        "arr=  np.random.rand(10)\n",
        "\n",
        "int_part=np.round(arr)\n",
        "print(int_part)"
      ]
    },
    {
      "cell_type": "markdown",
      "metadata": {
        "id": "MEehiLsdqoHU"
      },
      "source": [
        "#### 37. Create a 5x5 matrix with row values ranging from 0 to 4 (★★☆) \n",
        "(**hint**: np.arange)"
      ]
    },
    {
      "cell_type": "code",
      "source": [
        "import numpy as np\n",
        "\n",
        "# Create a 1D array with values ranging from 0 to 4\n",
        "arr = np.arange(5)\n",
        "\n",
        "# Reshape the array into a 5x5 matrix\n",
        "matrix = arr.reshape((5, 5))\n",
        "\n",
        "print(matrix)\n"
      ],
      "metadata": {
        "colab": {
          "base_uri": "https://localhost:8080/",
          "height": 236
        },
        "id": "ry9fTG8fA4lP",
        "outputId": "5248717e-b829-4dd0-b5f0-4173de7e62b8"
      },
      "execution_count": 43,
      "outputs": [
        {
          "output_type": "error",
          "ename": "ValueError",
          "evalue": "ignored",
          "traceback": [
            "\u001b[0;31m---------------------------------------------------------------------------\u001b[0m",
            "\u001b[0;31mValueError\u001b[0m                                Traceback (most recent call last)",
            "\u001b[0;32m<ipython-input-43-56a390320bd2>\u001b[0m in \u001b[0;36m<module>\u001b[0;34m\u001b[0m\n\u001b[1;32m      5\u001b[0m \u001b[0;34m\u001b[0m\u001b[0m\n\u001b[1;32m      6\u001b[0m \u001b[0;31m# Reshape the array into a 5x5 matrix\u001b[0m\u001b[0;34m\u001b[0m\u001b[0;34m\u001b[0m\u001b[0;34m\u001b[0m\u001b[0m\n\u001b[0;32m----> 7\u001b[0;31m \u001b[0mmatrix\u001b[0m \u001b[0;34m=\u001b[0m \u001b[0marr\u001b[0m\u001b[0;34m.\u001b[0m\u001b[0mreshape\u001b[0m\u001b[0;34m(\u001b[0m\u001b[0;34m(\u001b[0m\u001b[0;36m5\u001b[0m\u001b[0;34m,\u001b[0m \u001b[0;36m5\u001b[0m\u001b[0;34m)\u001b[0m\u001b[0;34m)\u001b[0m\u001b[0;34m\u001b[0m\u001b[0;34m\u001b[0m\u001b[0m\n\u001b[0m\u001b[1;32m      8\u001b[0m \u001b[0;34m\u001b[0m\u001b[0m\n\u001b[1;32m      9\u001b[0m \u001b[0mprint\u001b[0m\u001b[0;34m(\u001b[0m\u001b[0mmatrix\u001b[0m\u001b[0;34m)\u001b[0m\u001b[0;34m\u001b[0m\u001b[0;34m\u001b[0m\u001b[0m\n",
            "\u001b[0;31mValueError\u001b[0m: cannot reshape array of size 5 into shape (5,5)"
          ]
        }
      ]
    },
    {
      "cell_type": "markdown",
      "metadata": {
        "id": "zeOgJokLqoHV"
      },
      "source": [
        "#### 38. Consider a generator function that generates 10 integers and use it to build an array (★☆☆) \n",
        "(**hint**: np.fromiter)"
      ]
    },
    {
      "cell_type": "code",
      "execution_count": 44,
      "metadata": {
        "id": "gjskD_bVqoHV",
        "colab": {
          "base_uri": "https://localhost:8080/"
        },
        "outputId": "73a8e6c0-489e-4903-b607-8461734934e9"
      },
      "outputs": [
        {
          "output_type": "stream",
          "name": "stdout",
          "text": [
            "[0 1 2 3 4 5 6 7 8 9]\n"
          ]
        }
      ],
      "source": [
        "import numpy as np\n",
        "\n",
        "def generator():\n",
        "  for i in range(10):\n",
        "    yield i\n",
        "\n",
        "arr =np.fromiter(generator(),dtype=int)\n",
        "\n",
        "print(arr)"
      ]
    },
    {
      "cell_type": "markdown",
      "metadata": {
        "id": "9mPcyjN0qoHV"
      },
      "source": [
        "#### 39. Create a vector of size 10 with values ranging from 0 to 1, both excluded (★★☆) \n",
        "(**hint**: np.linspace)"
      ]
    },
    {
      "cell_type": "code",
      "execution_count": 45,
      "metadata": {
        "id": "ePq6dcQOqoHV",
        "colab": {
          "base_uri": "https://localhost:8080/"
        },
        "outputId": "1e512f4b-95d3-4f6c-98ad-2ed88171c144"
      },
      "outputs": [
        {
          "output_type": "stream",
          "name": "stdout",
          "text": [
            "[0.  0.1 0.2 0.3 0.4 0.5 0.6 0.7 0.8 0.9]\n"
          ]
        }
      ],
      "source": [
        "import numpy as np\n",
        "vec = np.linspace(0,1,10,endpoint=False)\n",
        "\n",
        "print(vec)"
      ]
    },
    {
      "cell_type": "markdown",
      "metadata": {
        "id": "F26icR9dqoHW"
      },
      "source": [
        "#### 40. Create a random vector of size 10 and sort it (★★☆) \n",
        "(**hint**: sort)"
      ]
    },
    {
      "cell_type": "code",
      "execution_count": 46,
      "metadata": {
        "id": "AHcoRHeJqoHW",
        "colab": {
          "base_uri": "https://localhost:8080/"
        },
        "outputId": "f89bdd97-cecf-48a2-8135-9565bd12841f"
      },
      "outputs": [
        {
          "output_type": "stream",
          "name": "stdout",
          "text": [
            "[0.0053429  0.0880656  0.33271956 0.35012641 0.47232251 0.50637858\n",
            " 0.61674287 0.75834669 0.81810884 0.93468239]\n"
          ]
        }
      ],
      "source": [
        "import numpy as np\n",
        "\n",
        "vec =np.random.rand(10)\n",
        "\n",
        "vec.sort()\n",
        "\n",
        "print(vec)\n"
      ]
    },
    {
      "cell_type": "markdown",
      "metadata": {
        "id": "4SGgvtd4qoHW"
      },
      "source": [
        "#### 41. How to sum a small array faster than np.sum? (★★☆) \n",
        "(**hint**: np.add.reduce)"
      ]
    },
    {
      "cell_type": "code",
      "execution_count": 47,
      "metadata": {
        "id": "RKFfzizcqoHW",
        "colab": {
          "base_uri": "https://localhost:8080/"
        },
        "outputId": "610cd746-e60a-47be-9aa3-12605b22e07a"
      },
      "outputs": [
        {
          "output_type": "stream",
          "name": "stdout",
          "text": [
            "10\n"
          ]
        }
      ],
      "source": [
        "import numpy as np\n",
        "\n",
        "arr = np.array([1,2,3,4])\n",
        "\n",
        "result = np.add.reduce(arr)\n",
        "\n",
        "print(result)"
      ]
    },
    {
      "cell_type": "markdown",
      "metadata": {
        "id": "pO0RMT0XqoHW"
      },
      "source": [
        "#### 42. Consider two random array A and B, check if they are equal (★★☆) \n",
        "(**hint**: np.allclose, np.array\\_equal)"
      ]
    },
    {
      "cell_type": "code",
      "execution_count": 49,
      "metadata": {
        "id": "7y7DwAo2qoHW",
        "colab": {
          "base_uri": "https://localhost:8080/"
        },
        "outputId": "9a160e7f-de09-492d-83c9-3ed65be5616d"
      },
      "outputs": [
        {
          "output_type": "stream",
          "name": "stdout",
          "text": [
            "[[0.61570541 0.06873825 0.13319746]\n",
            " [0.29051516 0.60230384 0.9051616 ]\n",
            " [0.27648145 0.13017429 0.35202616]]\n",
            "[[0.89746335 0.29463418 0.31825869]\n",
            " [0.23327396 0.185281   0.47552371]\n",
            " [0.78809698 0.9464236  0.50484167]]\n",
            "False\n"
          ]
        }
      ],
      "source": [
        "import numpy as np\n",
        "\n",
        "A = np.random.rand(3,3)\n",
        "B = np.random.rand(3,3)\n",
        "\n",
        "#print(A)\n",
        "#print(B)\n",
        "\n",
        "result =np.array_equal(A,B)\n",
        "\n",
        "print(result)\n"
      ]
    },
    {
      "cell_type": "markdown",
      "metadata": {
        "id": "YqPeGr0dqoHW"
      },
      "source": [
        "#### 43. Make an array immutable (read-only) (★★☆) \n",
        "(**hint**: flags.writeable)"
      ]
    },
    {
      "cell_type": "code",
      "execution_count": 51,
      "metadata": {
        "id": "Uon_5QLvqoHX",
        "colab": {
          "base_uri": "https://localhost:8080/"
        },
        "outputId": "f5879a09-578e-4773-dfe8-a2af53344c94"
      },
      "outputs": [
        {
          "output_type": "stream",
          "name": "stdout",
          "text": [
            "assignment destination is read-only\n"
          ]
        }
      ],
      "source": [
        "import numpy as np\n",
        "\n",
        "arr =np.array([1,2,3,4])\n",
        "\n",
        "arr.flags.writeable = False\n",
        "\n",
        "try:\n",
        "\n",
        "  arr[0] = 10\n",
        "except ValueError as e:\n",
        "  print(e)  \n"
      ]
    },
    {
      "cell_type": "markdown",
      "metadata": {
        "id": "Y9rAECNtqoHX"
      },
      "source": [
        "#### 44. Consider a random 10x2 matrix representing cartesian coordinates, convert them to polar coordinates (★★☆) \n",
        "(**hint**: np.sqrt, np.arctan2)"
      ]
    },
    {
      "cell_type": "code",
      "execution_count": 52,
      "metadata": {
        "id": "oqkfN2FWqoHX",
        "colab": {
          "base_uri": "https://localhost:8080/"
        },
        "outputId": "785517c2-e977-4b1d-f981-304b8061c8d9"
      },
      "outputs": [
        {
          "output_type": "stream",
          "name": "stdout",
          "text": [
            "[[0.89909462 0.18131275]\n",
            " [1.2168638  0.66644495]\n",
            " [0.29987583 1.06730888]\n",
            " [0.91245628 0.34957051]\n",
            " [1.28559867 0.70368436]\n",
            " [0.79265154 0.74693175]\n",
            " [0.12380769 0.77853863]\n",
            " [0.59402641 0.31571674]\n",
            " [0.3779389  0.15045253]\n",
            " [0.94610306 0.77713714]]\n"
          ]
        }
      ],
      "source": [
        "import numpy as np\n",
        "\n",
        "cartesian = np.random.rand(10,2)\n",
        "\n",
        "polar = np.empty_like(cartesian)\n",
        "polar[:,0] = np.hypot(cartesian[:,0],cartesian[:,1])\n",
        "polar[:,1] = np.arctan2(cartesian[:,1],cartesian[:,0])\n",
        "\n",
        "print(polar)"
      ]
    },
    {
      "cell_type": "markdown",
      "metadata": {
        "id": "GvPv8eubqoHX"
      },
      "source": [
        "#### 45. Create random vector of size 10 and replace the maximum value by 0 (★★☆) \n",
        "(**hint**: argmax)"
      ]
    },
    {
      "cell_type": "code",
      "execution_count": 58,
      "metadata": {
        "id": "bRSIUfjoqoHX",
        "colab": {
          "base_uri": "https://localhost:8080/"
        },
        "outputId": "d515199d-ac2c-438c-c074-6474a7456b8c"
      },
      "outputs": [
        {
          "output_type": "stream",
          "name": "stdout",
          "text": [
            "[0.0044741  0.34450136 0.84835162 0.61809469 0.46990438 0.79917276\n",
            " 0.80344276 0.19901317 0.07836024 0.1092986 ]\n",
            "[0.0044741  0.34450136 0.         0.61809469 0.46990438 0.79917276\n",
            " 0.80344276 0.19901317 0.07836024 0.1092986 ]\n"
          ]
        }
      ],
      "source": [
        "import numpy as np\n",
        "\n",
        "vec = np.random.rand(10)\n",
        "\n",
        "index =vec.argmax()\n",
        "print(vec)\n",
        "#maximum = vec.amax()\n",
        "\n",
        "vec[index]=0\n",
        "\n",
        "print(vec)  "
      ]
    },
    {
      "cell_type": "markdown",
      "metadata": {
        "id": "ygHRNcDIqoHX"
      },
      "source": [
        "#### 46. Create a structured array with `x` and `y` coordinates covering the \\[0,1\\]x\\[0,1\\] area (★★☆) \n",
        "(**hint**: np.meshgrid)"
      ]
    },
    {
      "cell_type": "code",
      "execution_count": 66,
      "metadata": {
        "id": "jg_YZrBJqoHY",
        "colab": {
          "base_uri": "https://localhost:8080/",
          "height": 323
        },
        "outputId": "3710ac3a-55ba-4f86-a5be-5d3a3c412431"
      },
      "outputs": [
        {
          "output_type": "error",
          "ename": "ValueError",
          "evalue": "ignored",
          "traceback": [
            "\u001b[0;31m---------------------------------------------------------------------------\u001b[0m",
            "\u001b[0;31mTypeError\u001b[0m                                 Traceback (most recent call last)",
            "\u001b[0;31mTypeError\u001b[0m: only size-1 arrays can be converted to Python scalars",
            "\nThe above exception was the direct cause of the following exception:\n",
            "\u001b[0;31mValueError\u001b[0m                                Traceback (most recent call last)",
            "\u001b[0;32m<ipython-input-66-2e0191fb1830>\u001b[0m in \u001b[0;36m<module>\u001b[0;34m\u001b[0m\n\u001b[1;32m      6\u001b[0m \u001b[0mX\u001b[0m\u001b[0;34m,\u001b[0m\u001b[0mY\u001b[0m \u001b[0;34m=\u001b[0m \u001b[0mnp\u001b[0m\u001b[0;34m.\u001b[0m\u001b[0mmeshgrid\u001b[0m\u001b[0;34m(\u001b[0m\u001b[0mx\u001b[0m\u001b[0;34m,\u001b[0m\u001b[0my\u001b[0m\u001b[0;34m)\u001b[0m\u001b[0;34m\u001b[0m\u001b[0;34m\u001b[0m\u001b[0m\n\u001b[1;32m      7\u001b[0m \u001b[0;34m\u001b[0m\u001b[0m\n\u001b[0;32m----> 8\u001b[0;31m structured_array= np.array([(x,y) for x,y in zip(X,Y)],\n\u001b[0m\u001b[1;32m      9\u001b[0m                            dtype=[('x',float),('y',float)])\n\u001b[1;32m     10\u001b[0m \u001b[0;34m\u001b[0m\u001b[0m\n",
            "\u001b[0;31mValueError\u001b[0m: setting an array element with a sequence."
          ]
        }
      ],
      "source": [
        "import numpy as np\n",
        "\n",
        "x = np.linspace(0,1,11)\n",
        "y = np.linspace(0,1,11)\n",
        "\n",
        "X,Y = np.meshgrid(x,y)\n",
        "\n",
        "structured_array= np.array([(x,y) for x,y in zip(X,Y)],\n",
        "                           dtype=[('x',float),('y',float)])\n",
        "\n",
        "print(structured_array)\n"
      ]
    },
    {
      "cell_type": "markdown",
      "metadata": {
        "id": "G3T9BRkHqoHY"
      },
      "source": [
        "####  47. Given two arrays, X and Y, construct the Cauchy matrix C (Cij =1/(xi - yj)) \n",
        "(**hint**: np.subtract.outer)"
      ]
    },
    {
      "cell_type": "code",
      "execution_count": 67,
      "metadata": {
        "id": "hqaFYMSjqoHY",
        "colab": {
          "base_uri": "https://localhost:8080/"
        },
        "outputId": "24d072ff-04dc-44b3-cfae-b5947cd93cce"
      },
      "outputs": [
        {
          "output_type": "stream",
          "name": "stdout",
          "text": [
            "[[10.8381722  17.7844292   3.04081816 13.70592791  7.43081137]\n",
            " [ 3.96207553  6.50139621  1.11162205  5.0104317   2.71645766]\n",
            " [15.48124278 25.40327474  4.34350398 19.57754441 10.61416932]\n",
            " [ 8.81039567 14.45703713  2.47189384 11.14160632  6.04053774]\n",
            " [ 6.83921798 11.22251849  1.91884921  8.6488595   4.68906913]]\n"
          ]
        }
      ],
      "source": [
        "import numpy as np\n",
        "\n",
        "X =np.random.rand(5)\n",
        "Y =np.random.rand(5)\n",
        "\n",
        "div = np.outer(X,Y)\n",
        "\n",
        "c = np.reciprocal(div)\n",
        "\n",
        "print(c)"
      ]
    },
    {
      "cell_type": "markdown",
      "metadata": {
        "id": "2kXQeYkfqoHY"
      },
      "source": [
        "#### 48. Print the minimum and maximum representable value for each numpy scalar type (★★☆) \n",
        "(**hint**: np.iinfo, np.finfo, eps)"
      ]
    },
    {
      "cell_type": "code",
      "execution_count": 73,
      "metadata": {
        "id": "XiQpfGLmqoHY",
        "colab": {
          "base_uri": "https://localhost:8080/",
          "height": 479
        },
        "outputId": "c62e88be-503e-4005-d5b6-8e79ebf0de9f"
      },
      "outputs": [
        {
          "output_type": "stream",
          "name": "stdout",
          "text": [
            "<class 'numpy.int8'>: -128 127\n",
            "<class 'numpy.int16'>: -32768 32767\n",
            "<class 'numpy.int32'>: -2147483648 2147483647\n",
            "<class 'numpy.int64'>: -9223372036854775808 9223372036854775807\n",
            "<class 'numpy.uint8'>: 0 255\n",
            "<class 'numpy.uint16'>: 0 65535\n",
            "<class 'numpy.uint32'>: 0 4294967295\n",
            "<class 'numpy.uint64'>: 0 18446744073709551615\n"
          ]
        },
        {
          "output_type": "error",
          "ename": "ValueError",
          "evalue": "ignored",
          "traceback": [
            "\u001b[0;31m---------------------------------------------------------------------------\u001b[0m",
            "\u001b[0;31mValueError\u001b[0m                                Traceback (most recent call last)",
            "\u001b[0;32m<ipython-input-73-8e0e9cce5ffd>\u001b[0m in \u001b[0;36m<module>\u001b[0;34m\u001b[0m\n\u001b[1;32m      5\u001b[0m               \u001b[0mnp\u001b[0m\u001b[0;34m.\u001b[0m\u001b[0mfloat16\u001b[0m\u001b[0;34m,\u001b[0m\u001b[0mnp\u001b[0m\u001b[0;34m.\u001b[0m\u001b[0mfloat32\u001b[0m\u001b[0;34m,\u001b[0m\u001b[0mnp\u001b[0m\u001b[0;34m.\u001b[0m\u001b[0mfloat64\u001b[0m\u001b[0;34m,\u001b[0m\u001b[0mnp\u001b[0m\u001b[0;34m.\u001b[0m\u001b[0mfloat128\u001b[0m\u001b[0;34m,\u001b[0m\u001b[0mnp\u001b[0m\u001b[0;34m.\u001b[0m\u001b[0mcomplex64\u001b[0m\u001b[0;34m,\u001b[0m\u001b[0;34m\u001b[0m\u001b[0;34m\u001b[0m\u001b[0m\n\u001b[1;32m      6\u001b[0m               np.complex128,np.complex256]:\n\u001b[0;32m----> 7\u001b[0;31m                 \u001b[0minfo\u001b[0m \u001b[0;34m=\u001b[0m \u001b[0mnp\u001b[0m\u001b[0;34m.\u001b[0m\u001b[0miinfo\u001b[0m\u001b[0;34m(\u001b[0m\u001b[0mdtype\u001b[0m\u001b[0;34m)\u001b[0m\u001b[0;34m\u001b[0m\u001b[0;34m\u001b[0m\u001b[0m\n\u001b[0m\u001b[1;32m      8\u001b[0m                 \u001b[0mprint\u001b[0m\u001b[0;34m(\u001b[0m\u001b[0;34mf\"{dtype}: {info.min} {info.max}\"\u001b[0m\u001b[0;34m)\u001b[0m\u001b[0;34m\u001b[0m\u001b[0;34m\u001b[0m\u001b[0m\n",
            "\u001b[0;32m/usr/local/lib/python3.8/dist-packages/numpy/core/getlimits.py\u001b[0m in \u001b[0;36m__init__\u001b[0;34m(self, int_type)\u001b[0m\n\u001b[1;32m    521\u001b[0m         \u001b[0mself\u001b[0m\u001b[0;34m.\u001b[0m\u001b[0mkey\u001b[0m \u001b[0;34m=\u001b[0m \u001b[0;34m\"%s%d\"\u001b[0m \u001b[0;34m%\u001b[0m \u001b[0;34m(\u001b[0m\u001b[0mself\u001b[0m\u001b[0;34m.\u001b[0m\u001b[0mkind\u001b[0m\u001b[0;34m,\u001b[0m \u001b[0mself\u001b[0m\u001b[0;34m.\u001b[0m\u001b[0mbits\u001b[0m\u001b[0;34m)\u001b[0m\u001b[0;34m\u001b[0m\u001b[0;34m\u001b[0m\u001b[0m\n\u001b[1;32m    522\u001b[0m         \u001b[0;32mif\u001b[0m \u001b[0mself\u001b[0m\u001b[0;34m.\u001b[0m\u001b[0mkind\u001b[0m \u001b[0;32mnot\u001b[0m \u001b[0;32min\u001b[0m \u001b[0;34m'iu'\u001b[0m\u001b[0;34m:\u001b[0m\u001b[0;34m\u001b[0m\u001b[0;34m\u001b[0m\u001b[0m\n\u001b[0;32m--> 523\u001b[0;31m             \u001b[0;32mraise\u001b[0m \u001b[0mValueError\u001b[0m\u001b[0;34m(\u001b[0m\u001b[0;34m\"Invalid integer data type %r.\"\u001b[0m \u001b[0;34m%\u001b[0m \u001b[0;34m(\u001b[0m\u001b[0mself\u001b[0m\u001b[0;34m.\u001b[0m\u001b[0mkind\u001b[0m\u001b[0;34m,\u001b[0m\u001b[0;34m)\u001b[0m\u001b[0;34m)\u001b[0m\u001b[0;34m\u001b[0m\u001b[0;34m\u001b[0m\u001b[0m\n\u001b[0m\u001b[1;32m    524\u001b[0m \u001b[0;34m\u001b[0m\u001b[0m\n\u001b[1;32m    525\u001b[0m     \u001b[0;34m@\u001b[0m\u001b[0mproperty\u001b[0m\u001b[0;34m\u001b[0m\u001b[0;34m\u001b[0m\u001b[0m\n",
            "\u001b[0;31mValueError\u001b[0m: Invalid integer data type 'f'."
          ]
        }
      ],
      "source": [
        "import numpy as np\n",
        "\n",
        "for dtype in [np.int8,np.int16,np.int32,np.int64,np.uint8,np.uint16,\n",
        "              np.uint32,np.uint64,\n",
        "              np.float16,np.float32,np.float64,np.float128,np.complex64,\n",
        "              np.complex128,np.complex256]:\n",
        "                info = np.iinfo(dtype)\n",
        "                print(f\"{dtype}: {info.min} {info.max}\")"
      ]
    },
    {
      "cell_type": "markdown",
      "metadata": {
        "id": "_28MPuwQqoHY"
      },
      "source": [
        "#### 49. How to print all the values of an array? (★★☆) \n",
        "(**hint**: np.set\\_printoptions)"
      ]
    },
    {
      "cell_type": "code",
      "execution_count": 74,
      "metadata": {
        "id": "tup9cTJqqoHY",
        "colab": {
          "base_uri": "https://localhost:8080/"
        },
        "outputId": "334ef4c3-6dc0-4ec3-abb6-44aca7c7d6e3"
      },
      "outputs": [
        {
          "output_type": "stream",
          "name": "stdout",
          "text": [
            "0.2604153675303523\n",
            "0.07334974366997526\n",
            "0.4677748011128191\n",
            "0.8406498203214611\n",
            "0.10344846223594095\n",
            "0.49008233825610137\n",
            "0.1034810850429716\n",
            "0.027131914475535424\n",
            "0.5248726114060629\n",
            "0.04233079295841102\n",
            "0.04122623608712128\n",
            "0.9785419980139382\n",
            "0.9143846419070237\n",
            "0.876240394836921\n",
            "0.4462739078678102\n",
            "0.5776648650791192\n",
            "0.1650376989655199\n",
            "0.6698930072887113\n",
            "0.36898906107088814\n",
            "0.014667175495209128\n",
            "0.5259700291748577\n",
            "0.1316376859557541\n",
            "0.4675853559728852\n",
            "0.5254614866757841\n"
          ]
        }
      ],
      "source": [
        "import numpy as np\n",
        "\n",
        "arr = np.random.rand(2,3,4)\n",
        "\n",
        "flattened_arr= arr.flatten()\n",
        "\n",
        "for value in flattened_arr:\n",
        "  print(value)"
      ]
    },
    {
      "cell_type": "markdown",
      "metadata": {
        "id": "EY3c03ZoqoHZ"
      },
      "source": [
        "#### 50. How to find the closest value (to a given scalar) in a vector? (★★☆) \n",
        "(**hint**: argmin)"
      ]
    },
    {
      "cell_type": "code",
      "execution_count": 76,
      "metadata": {
        "id": "x7ab3qo5qoHZ",
        "colab": {
          "base_uri": "https://localhost:8080/"
        },
        "outputId": "f8e0bd26-b5a9-4b8f-c41a-962d8ac6f800"
      },
      "outputs": [
        {
          "output_type": "stream",
          "name": "stdout",
          "text": [
            "4\n"
          ]
        }
      ],
      "source": [
        "import numpy as np\n",
        "vec=np.array([1,2,3,4])\n",
        "scalar = 3.6\n",
        "\n",
        "idx = np.abs(vec-scalar).argmin()\n",
        "\n",
        "print(vec[idx])"
      ]
    },
    {
      "cell_type": "markdown",
      "metadata": {
        "id": "Fji6kVkCqoHZ"
      },
      "source": [
        "#### 51. Create a structured array representing a position (x,y) and a color (r,g,b) (★★☆) \n",
        "(**hint**: dtype)"
      ]
    },
    {
      "cell_type": "code",
      "execution_count": 77,
      "metadata": {
        "id": "Gia99rThqoHZ",
        "colab": {
          "base_uri": "https://localhost:8080/"
        },
        "outputId": "91bc096c-b628-4213-a3a9-5c6c90eccb4e"
      },
      "outputs": [
        {
          "output_type": "stream",
          "name": "stdout",
          "text": [
            "[(0., 0., 0, 0, 0) (0., 0., 0, 0, 0) (0., 0., 0, 0, 0)]\n"
          ]
        },
        {
          "output_type": "stream",
          "name": "stderr",
          "text": [
            "<ipython-input-77-5cbcd6d4382c>:3: DeprecationWarning: `np.float` is a deprecated alias for the builtin `float`. To silence this warning, use `float` by itself. Doing this will not modify any behavior and is safe. If you specifically wanted the numpy scalar type, use `np.float64` here.\n",
            "Deprecated in NumPy 1.20; for more details and guidance: https://numpy.org/devdocs/release/1.20.0-notes.html#deprecations\n",
            "  dtype = np.dtype([('x',np.float),('y',np.float),('r',np.uint8),('g',np.uint8),\n"
          ]
        }
      ],
      "source": [
        "import numpy as np\n",
        "\n",
        "dtype = np.dtype([('x',np.float),('y',np.float),('r',np.uint8),('g',np.uint8),\n",
        "                  ('b',np.uint8)])\n",
        "\n",
        "arr = np.zeros(3,dtype=dtype)\n",
        "\n",
        "print(arr)"
      ]
    },
    {
      "cell_type": "markdown",
      "metadata": {
        "id": "DMwFyEJwqoHZ"
      },
      "source": [
        "#### 52. Consider a random vector with shape (100,2) representing coordinates, find point by point distances (★★☆) \n",
        "(**hint**: np.atleast\\_2d, T, np.sqrt)"
      ]
    },
    {
      "cell_type": "code",
      "source": [
        "import numpy as np\n",
        "\n",
        "# Generate a random vector with shape (100, 2) representing coordinates\n",
        "vec = np.random.rand(100, 2)\n",
        "\n",
        "# Compute the Euclidean distance between each pair of points\n",
        "distances = np.linalg.norm(vec[:, None] - vec, axis=-1)\n",
        "\n",
        "# Print the distances\n",
        "print(distances)\n"
      ],
      "metadata": {
        "colab": {
          "base_uri": "https://localhost:8080/"
        },
        "id": "xls8KnmKkIR4",
        "outputId": "c3e60e92-4c88-4a30-be5a-e14de3d50aeb"
      },
      "execution_count": 79,
      "outputs": [
        {
          "output_type": "stream",
          "name": "stdout",
          "text": [
            "[[0.         0.72070817 0.84667097 ... 0.76641355 0.56894514 0.61401374]\n",
            " [0.72070817 0.         0.19371808 ... 0.43393188 0.50472866 0.51296599]\n",
            " [0.84667097 0.19371808 0.         ... 0.33029675 0.48552544 0.47628874]\n",
            " ...\n",
            " [0.76641355 0.43393188 0.33029675 ... 0.         0.23093311 0.19789498]\n",
            " [0.56894514 0.50472866 0.48552544 ... 0.23093311 0.         0.04509715]\n",
            " [0.61401374 0.51296599 0.47628874 ... 0.19789498 0.04509715 0.        ]]\n"
          ]
        }
      ]
    },
    {
      "cell_type": "markdown",
      "metadata": {
        "id": "-6zOhgDTqoHa"
      },
      "source": [
        "#### 53. How to convert a float (32 bits) array into an integer (32 bits) in place? \n",
        "(**hint**: astype(copy=False))"
      ]
    },
    {
      "cell_type": "code",
      "execution_count": 80,
      "metadata": {
        "id": "Bgoysz9pqoHa",
        "colab": {
          "base_uri": "https://localhost:8080/"
        },
        "outputId": "26541258-991f-4302-bded-99b8ed60c003"
      },
      "outputs": [
        {
          "output_type": "stream",
          "name": "stdout",
          "text": [
            "[1066192077 1074580685 1079194419 1082969293]\n"
          ]
        }
      ],
      "source": [
        "import numpy as np\n",
        "\n",
        "# Create a float (32 bits) array\n",
        "arr = np.array([1.1, 2.2, 3.3, 4.4], dtype=np.float32)\n",
        "\n",
        "# Create a view of the array with the desired data type\n",
        "arr_int = arr.view(dtype=np.int32)\n",
        "\n",
        "# Print the array\n",
        "print(arr_int)\n"
      ]
    },
    {
      "cell_type": "markdown",
      "metadata": {
        "id": "TMc-8M7zqoHa"
      },
      "source": [
        "#### 54. How to read the following file? (★★☆) \n",
        "(**hint**: np.genfromtxt)"
      ]
    },
    {
      "cell_type": "markdown",
      "metadata": {
        "id": "C25vWYJfqoHa"
      },
      "source": [
        "```\n",
        "1, 2, 3, 4, 5\n",
        "6,  ,  , 7, 8\n",
        " ,  , 9,10,11\n",
        "```"
      ]
    },
    {
      "cell_type": "code",
      "execution_count": 81,
      "metadata": {
        "id": "xyl2rfnwqoHa",
        "colab": {
          "base_uri": "https://localhost:8080/",
          "height": 236
        },
        "outputId": "34cd973a-0431-4787-9e9d-97f3014ab449"
      },
      "outputs": [
        {
          "output_type": "error",
          "ename": "TypeError",
          "evalue": "ignored",
          "traceback": [
            "\u001b[0;31m---------------------------------------------------------------------------\u001b[0m",
            "\u001b[0;31mTypeError\u001b[0m                                 Traceback (most recent call last)",
            "\u001b[0;32m<ipython-input-81-def7cba225e4>\u001b[0m in \u001b[0;36m<module>\u001b[0;34m\u001b[0m\n\u001b[1;32m      2\u001b[0m \u001b[0;34m\u001b[0m\u001b[0m\n\u001b[1;32m      3\u001b[0m \u001b[0;31m# Read the file and create a NumPy array with the data\u001b[0m\u001b[0;34m\u001b[0m\u001b[0;34m\u001b[0m\u001b[0;34m\u001b[0m\u001b[0m\n\u001b[0;32m----> 4\u001b[0;31m \u001b[0mdata\u001b[0m \u001b[0;34m=\u001b[0m \u001b[0mnp\u001b[0m\u001b[0;34m.\u001b[0m\u001b[0mloadtxt\u001b[0m\u001b[0;34m(\u001b[0m\u001b[0;34m\"data.txt\"\u001b[0m\u001b[0;34m,\u001b[0m \u001b[0mdelimiter\u001b[0m\u001b[0;34m=\u001b[0m\u001b[0;34m\",\"\u001b[0m\u001b[0;34m,\u001b[0m \u001b[0mmissing_values\u001b[0m\u001b[0;34m=\u001b[0m\u001b[0;34m\" \"\u001b[0m\u001b[0;34m,\u001b[0m \u001b[0mfilling_values\u001b[0m\u001b[0;34m=\u001b[0m\u001b[0mnp\u001b[0m\u001b[0;34m.\u001b[0m\u001b[0mnan\u001b[0m\u001b[0;34m)\u001b[0m\u001b[0;34m\u001b[0m\u001b[0;34m\u001b[0m\u001b[0m\n\u001b[0m\u001b[1;32m      5\u001b[0m \u001b[0;34m\u001b[0m\u001b[0m\n\u001b[1;32m      6\u001b[0m \u001b[0;31m# Print the array\u001b[0m\u001b[0;34m\u001b[0m\u001b[0;34m\u001b[0m\u001b[0;34m\u001b[0m\u001b[0m\n",
            "\u001b[0;31mTypeError\u001b[0m: loadtxt() got an unexpected keyword argument 'missing_values'"
          ]
        }
      ],
      "source": [
        "import numpy as np\n",
        "\n",
        "# Read the file and create a NumPy array with the data\n",
        "data = np.loadtxt(\"data.txt\", delimiter=\",\", missing_values=\" \", filling_values=np.nan)\n",
        "\n",
        "# Print the array\n",
        "print(data)\n"
      ]
    },
    {
      "cell_type": "markdown",
      "metadata": {
        "id": "kasZlB-YqoHb"
      },
      "source": [
        "#### 55. What is the equivalent of enumerate for numpy arrays? (★★☆) \n",
        "(**hint**: np.ndenumerate, np.ndindex)"
      ]
    },
    {
      "cell_type": "code",
      "execution_count": 82,
      "metadata": {
        "id": "UnmTmudFqoHb",
        "colab": {
          "base_uri": "https://localhost:8080/"
        },
        "outputId": "28d69855-acc4-41e5-f02f-8605eccdff9e"
      },
      "outputs": [
        {
          "output_type": "stream",
          "name": "stdout",
          "text": [
            "(0, 0) 1\n",
            "(0, 1) 2\n",
            "(0, 2) 3\n",
            "(1, 0) 4\n",
            "(1, 1) 5\n",
            "(1, 2) 6\n"
          ]
        }
      ],
      "source": [
        "import numpy as np\n",
        "\n",
        "arr =np.array([[1,2,3],[4,5,6]])\n",
        "\n",
        "for index,element in np.ndenumerate(arr):\n",
        "   print(index,element)"
      ]
    },
    {
      "cell_type": "markdown",
      "metadata": {
        "id": "dBO3F-woqoHb"
      },
      "source": [
        "#### 56. Generate a generic 2D Gaussian-like array (★★☆) \n",
        "(**hint**: np.meshgrid, np.exp)"
      ]
    },
    {
      "cell_type": "code",
      "execution_count": 84,
      "metadata": {
        "id": "cbIdl_aPqoHb",
        "colab": {
          "base_uri": "https://localhost:8080/",
          "height": 236
        },
        "outputId": "05fefa9d-1dbe-4797-d461-150af4d252bf"
      },
      "outputs": [
        {
          "output_type": "error",
          "ename": "ValueError",
          "evalue": "ignored",
          "traceback": [
            "\u001b[0;31m---------------------------------------------------------------------------\u001b[0m",
            "\u001b[0;31mValueError\u001b[0m                                Traceback (most recent call last)",
            "\u001b[0;32m<ipython-input-84-9e1f40c9b6e9>\u001b[0m in \u001b[0;36m<module>\u001b[0;34m\u001b[0m\n\u001b[1;32m      6\u001b[0m \u001b[0mx\u001b[0m\u001b[0;34m,\u001b[0m\u001b[0my\u001b[0m  \u001b[0;34m=\u001b[0m \u001b[0mnp\u001b[0m\u001b[0;34m.\u001b[0m\u001b[0mmeshgrid\u001b[0m\u001b[0;34m(\u001b[0m\u001b[0mnp\u001b[0m\u001b[0;34m.\u001b[0m\u001b[0mlinspace\u001b[0m\u001b[0;34m(\u001b[0m\u001b[0;34m-\u001b[0m\u001b[0;36m3\u001b[0m\u001b[0;34m,\u001b[0m\u001b[0;36m3\u001b[0m\u001b[0;34m,\u001b[0m\u001b[0;36m100\u001b[0m\u001b[0;34m)\u001b[0m\u001b[0;34m,\u001b[0m\u001b[0mnp\u001b[0m\u001b[0;34m.\u001b[0m\u001b[0mlinspace\u001b[0m\u001b[0;34m(\u001b[0m\u001b[0;34m-\u001b[0m\u001b[0;36m3\u001b[0m\u001b[0;34m,\u001b[0m\u001b[0;36m3\u001b[0m\u001b[0;34m,\u001b[0m\u001b[0;36m100\u001b[0m\u001b[0;34m)\u001b[0m\u001b[0;34m)\u001b[0m\u001b[0;34m\u001b[0m\u001b[0;34m\u001b[0m\u001b[0m\n\u001b[1;32m      7\u001b[0m \u001b[0;34m\u001b[0m\u001b[0m\n\u001b[0;32m----> 8\u001b[0;31m z = np.exp(-0.5 * (np.dot((np.vstack([x, y]) - mean), np.linalg.inv(cov)) * \n\u001b[0m\u001b[1;32m      9\u001b[0m     (np.vstack([x, y]) - mean)).sum(axis=0))\n\u001b[1;32m     10\u001b[0m \u001b[0;34m\u001b[0m\u001b[0m\n",
            "\u001b[0;31mValueError\u001b[0m: operands could not be broadcast together with shapes (200,100) (2,) "
          ]
        }
      ],
      "source": [
        "import numpy as np\n",
        "\n",
        "mean =[0,0]\n",
        "cov = [[1,0],[0,1]]\n",
        "\n",
        "x,y  = np.meshgrid(np.linspace(-3,3,100),np.linspace(-3,3,100))\n",
        "\n",
        "z = np.exp(-0.5 * (np.dot((np.vstack([x, y]) - mean), np.linalg.inv(cov)) * \n",
        "    (np.vstack([x, y]) - mean)).sum(axis=0))\n",
        "\n",
        "\n",
        "print(z)"
      ]
    },
    {
      "cell_type": "markdown",
      "metadata": {
        "id": "SbaDmwJ3qoHb"
      },
      "source": [
        "#### 57. How to randomly place p elements in a 2D array? (★★☆) \n",
        "(**hint**: np.put, np.random.choice)"
      ]
    },
    {
      "cell_type": "code",
      "source": [
        "import numpy as np\n",
        "\n",
        "# Create an array with zeros\n",
        "arr = np.zeros((5, 5))\n",
        "\n",
        "# Set the number of elements to place\n",
        "p = 3\n",
        "\n",
        "# Generate p random indices\n",
        "indices = np.random.random_integers(0, arr.shape[0] - 1, size=p)\n",
        "\n",
        "# Place the elements in the array\n",
        "arr[indices, indices] = 1\n",
        "\n",
        "# Print the array\n",
        "print(arr)\n"
      ],
      "metadata": {
        "colab": {
          "base_uri": "https://localhost:8080/"
        },
        "id": "Yw3lkO-fpUdU",
        "outputId": "a394ae8c-02bb-4fdb-8977-158efe4efd2f"
      },
      "execution_count": 86,
      "outputs": [
        {
          "output_type": "stream",
          "name": "stdout",
          "text": [
            "[[1. 0. 0. 0. 0.]\n",
            " [0. 1. 0. 0. 0.]\n",
            " [0. 0. 0. 0. 0.]\n",
            " [0. 0. 0. 1. 0.]\n",
            " [0. 0. 0. 0. 0.]]\n"
          ]
        },
        {
          "output_type": "stream",
          "name": "stderr",
          "text": [
            "<ipython-input-86-e0b7faf267bf>:10: DeprecationWarning: This function is deprecated. Please call randint(0, 4 + 1) instead\n",
            "  indices = np.random.random_integers(0, arr.shape[0] - 1, size=p)\n"
          ]
        }
      ]
    },
    {
      "cell_type": "markdown",
      "metadata": {
        "id": "0de1s5d-qoHc"
      },
      "source": [
        "#### 58. Subtract the mean of each row of a matrix (★★☆) \n",
        "(**hint**: mean(axis=,keepdims=))"
      ]
    },
    {
      "cell_type": "code",
      "execution_count": 87,
      "metadata": {
        "id": "wELZGvP3qoHc",
        "colab": {
          "base_uri": "https://localhost:8080/"
        },
        "outputId": "3de991a1-2f01-4ea8-af84-fb620ffbedae"
      },
      "outputs": [
        {
          "output_type": "stream",
          "name": "stdout",
          "text": [
            "[[-1.  0.  1.]\n",
            " [-1.  0.  1.]\n",
            " [-1.  0.  1.]]\n"
          ]
        }
      ],
      "source": [
        "import numpy as np\n",
        "\n",
        "# Create a matrix\n",
        "matrix = np.array([[1, 2, 3], [4, 5, 6], [7, 8, 9]])\n",
        "\n",
        "# Calculate the mean of each row\n",
        "means = matrix.mean(axis=1)\n",
        "\n",
        "# Subtract the mean from each row\n",
        "matrix_mean_subtracted = matrix - means[:, np.newaxis]\n",
        "\n",
        "# Print the resulting matrix\n",
        "print(matrix_mean_subtracted)\n"
      ]
    },
    {
      "cell_type": "markdown",
      "metadata": {
        "id": "qq1rwBbXqoHd"
      },
      "source": [
        "#### 59. How to sort an array by the nth column? (★★☆) \n",
        "(**hint**: argsort)"
      ]
    },
    {
      "cell_type": "code",
      "execution_count": 88,
      "metadata": {
        "id": "RHLRIN6SqoHd",
        "colab": {
          "base_uri": "https://localhost:8080/"
        },
        "outputId": "4cb1dfeb-9402-4252-da8b-b07af215bb65"
      },
      "outputs": [
        {
          "output_type": "stream",
          "name": "stdout",
          "text": [
            "[[1 4 3]\n",
            " [2 5 6]\n",
            " [7 8 9]]\n"
          ]
        }
      ],
      "source": [
        "import numpy as np \n",
        "arr = np.array([[1,4,3],[2,5,6],[7,8,9]])\n",
        "\n",
        "indices = arr [:,1].argsort()\n",
        "\n",
        "arr_sorted = arr[indices]\n",
        "\n",
        "print(arr_sorted)"
      ]
    },
    {
      "cell_type": "markdown",
      "metadata": {
        "id": "vc-HhDEgqoHd"
      },
      "source": [
        "#### 60. How to tell if a given 2D array has null columns? (★★☆) \n",
        "(**hint**: any, ~)"
      ]
    },
    {
      "cell_type": "code",
      "execution_count": 89,
      "metadata": {
        "id": "oAEKxCVqqoHd",
        "colab": {
          "base_uri": "https://localhost:8080/"
        },
        "outputId": "dc98daa3-7646-458a-8ca4-6637eea47c64"
      },
      "outputs": [
        {
          "output_type": "stream",
          "name": "stdout",
          "text": [
            "[False  True False]\n"
          ]
        }
      ],
      "source": [
        "import numpy as np\n",
        "\n",
        "arr = np.array([[1,0,3],[0,0,6],[7,0,9]])\n",
        "\n",
        "has_non_zero= np.any(arr,axis=0)\n",
        "\n",
        "null_columns = np.logical_not(has_non_zero)\n",
        "\n",
        "print(null_columns)"
      ]
    },
    {
      "cell_type": "markdown",
      "metadata": {
        "id": "fEbcHarXqoHd"
      },
      "source": [
        "#### 61. Find the nearest value from a given value in an array (★★☆) \n",
        "(**hint**: np.abs, argmin, flat)"
      ]
    },
    {
      "cell_type": "code",
      "execution_count": 90,
      "metadata": {
        "id": "cyADUZOJqoHe",
        "colab": {
          "base_uri": "https://localhost:8080/"
        },
        "outputId": "d5d0ebe0-94f0-4ecb-bb7a-e11b597a5f4a"
      },
      "outputs": [
        {
          "output_type": "stream",
          "name": "stdout",
          "text": [
            "3\n"
          ]
        }
      ],
      "source": [
        "import numpy as np\n",
        "\n",
        "arr = np.array([1,3,5,7,9])\n",
        "\n",
        "value = 4\n",
        "\n",
        "diff =  np.abs(arr-value)\n",
        "\n",
        "index = diff.argmin()\n",
        "\n",
        "nearest_value =arr[index]\n",
        "\n",
        "print(nearest_value)\n"
      ]
    },
    {
      "cell_type": "markdown",
      "metadata": {
        "id": "Ce9MTw6lqoHe"
      },
      "source": [
        "#### 62. Considering two arrays with shape (1,3) and (3,1), how to compute their sum using an iterator? (★★☆) \n",
        "(**hint**: np.nditer)"
      ]
    },
    {
      "cell_type": "code",
      "execution_count": 91,
      "metadata": {
        "id": "KatakKPhqoHe",
        "colab": {
          "base_uri": "https://localhost:8080/"
        },
        "outputId": "77e04389-e9f8-4dab-bd4c-63e1946780ba"
      },
      "outputs": [
        {
          "output_type": "stream",
          "name": "stdout",
          "text": [
            "[[5. 7. 9.]]\n"
          ]
        }
      ],
      "source": [
        "import numpy as np\n",
        "\n",
        "# Create the arrays\n",
        "arr1 = np.array([[1, 2, 3]])\n",
        "arr2 = np.array([[4], [5], [6]])\n",
        "\n",
        "# Initialize the result array\n",
        "result = np.zeros((1, 3))\n",
        "\n",
        "# Iterate over the elements of arr1\n",
        "for i in range(3):\n",
        "    # Sum the corresponding elements of arr1 and arr2\n",
        "    result[0, i] = arr1[0, i] + arr2[i, 0]\n",
        "\n",
        "# Print the result\n",
        "print(result)\n"
      ]
    },
    {
      "cell_type": "markdown",
      "metadata": {
        "id": "rNYGoz-VqoHe"
      },
      "source": [
        "#### 63. Create an array class that has a name attribute (★★☆) \n",
        "(**hint**: class method)"
      ]
    },
    {
      "cell_type": "code",
      "execution_count": 92,
      "metadata": {
        "id": "8F-zqZZiqoHe",
        "colab": {
          "base_uri": "https://localhost:8080/"
        },
        "outputId": "66f6d921-2e7a-466d-e6da-54ee71c30c32"
      },
      "outputs": [
        {
          "output_type": "stream",
          "name": "stdout",
          "text": [
            "my_array\n"
          ]
        }
      ],
      "source": [
        "import numpy as np\n",
        "\n",
        "# Define the array class\n",
        "class NamedArray(np.ndarray):\n",
        "    def __new__(cls, array, name):\n",
        "        # Create a new array from the input array\n",
        "        obj = np.asarray(array).view(cls)\n",
        "        # Add the name attribute\n",
        "        obj.name = name\n",
        "        return obj\n",
        "    \n",
        "    def __array_finalize__(self, obj):\n",
        "        # Set the name attribute if it is not already set\n",
        "        if not hasattr(self, 'name'):\n",
        "            self.name = getattr(obj, 'name', None)\n",
        "\n",
        "# Create an instance of the array class\n",
        "arr = NamedArray([1, 2, 3], name='my_array')\n",
        "\n",
        "# Print the name attribute\n",
        "print(arr.name)\n"
      ]
    },
    {
      "cell_type": "markdown",
      "metadata": {
        "id": "cdtKO_1HqoHf"
      },
      "source": [
        "#### 64. Consider a given vector, how to add 1 to each element indexed by a second vector (be careful with repeated indices)? (★★★) \n",
        "(**hint**: np.bincount | np.add.at)"
      ]
    },
    {
      "cell_type": "code",
      "execution_count": 93,
      "metadata": {
        "id": "bzZWmsrEqoHf",
        "colab": {
          "base_uri": "https://localhost:8080/"
        },
        "outputId": "73489529-e3c0-4008-a95f-5e2d1d484c18"
      },
      "outputs": [
        {
          "output_type": "stream",
          "name": "stdout",
          "text": [
            "[1 3 4 4 6]\n"
          ]
        }
      ],
      "source": [
        "import numpy as np\n",
        "\n",
        "# Define the vectors\n",
        "vector1 = np.array([1, 2, 3, 4, 5])\n",
        "vector2 = np.array([1, 2, 2, 4, 4])\n",
        "\n",
        "# Use indexing and assignment to add 1 to each element of vector1 indexed by vector2\n",
        "vector1[vector2] += 1\n",
        "\n",
        "# Print the modified vector1\n",
        "print(vector1)\n"
      ]
    },
    {
      "cell_type": "markdown",
      "metadata": {
        "id": "O474CI53qoHf"
      },
      "source": [
        "#### 65. How to accumulate elements of a vector (X) to an array (F) based on an index list (I)? (★★★) \n",
        "(**hint**: np.bincount)"
      ]
    },
    {
      "cell_type": "code",
      "execution_count": 94,
      "metadata": {
        "id": "AAMxIK5gqoHg",
        "colab": {
          "base_uri": "https://localhost:8080/"
        },
        "outputId": "88192e21-9318-4202-c2c9-5a01fdf62138"
      },
      "outputs": [
        {
          "output_type": "stream",
          "name": "stdout",
          "text": [
            "[0. 1. 3. 0. 5.]\n"
          ]
        }
      ],
      "source": [
        "import numpy as np\n",
        "\n",
        "# Define the vectors\n",
        "X = np.array([1, 2, 3, 4, 5])\n",
        "I = np.array([1, 2, 2, 4, 4])\n",
        "F = np.zeros(5)\n",
        "\n",
        "# Use indexing and assignment to accumulate the elements of X to F based on I\n",
        "F[I] += X\n",
        "\n",
        "# Print the modified F\n",
        "print(F)\n"
      ]
    },
    {
      "cell_type": "markdown",
      "metadata": {
        "id": "aoxuP1RpqoHg"
      },
      "source": [
        "#### 66. Considering a (w,h,3) image of (dtype=ubyte), compute the number of unique colors (★★★) \n",
        "(**hint**: np.unique)"
      ]
    },
    {
      "cell_type": "code",
      "execution_count": 95,
      "metadata": {
        "id": "mC_Ltow0qoHh",
        "colab": {
          "base_uri": "https://localhost:8080/"
        },
        "outputId": "182359e1-c846-41a9-fb2c-703582da897f"
      },
      "outputs": [
        {
          "output_type": "stream",
          "name": "stdout",
          "text": [
            "3\n"
          ]
        }
      ],
      "source": [
        "import numpy as np\n",
        "\n",
        "# Define the image\n",
        "image = np.array([[[255, 0, 0], [255, 0, 0], [255, 0, 0]],\n",
        "                  [[0, 255, 0], [0, 255, 0], [0, 255, 0]],\n",
        "                  [[0, 0, 255], [0, 0, 255], [0, 0, 255]]], dtype=np.uint8)\n",
        "\n",
        "# Flatten the image to a 1D array\n",
        "image_flat = image.reshape(-1, 3)\n",
        "\n",
        "# Use the unique function to find the unique colors\n",
        "_, counts = np.unique(image_flat, return_counts=True, axis=0)\n",
        "\n",
        "# Print the number of unique colors\n",
        "print(counts.shape[0])\n",
        "\n"
      ]
    },
    {
      "cell_type": "markdown",
      "metadata": {
        "id": "naSdzQ6BqoHh"
      },
      "source": [
        "#### 67. Considering a four dimensions array, how to get sum over the last two axis at once? (★★★) \n",
        "(**hint**: sum(axis=(-2,-1)))"
      ]
    },
    {
      "cell_type": "code",
      "execution_count": 96,
      "metadata": {
        "id": "R63cSgn2qoHi",
        "colab": {
          "base_uri": "https://localhost:8080/"
        },
        "outputId": "ca323c2c-18f0-4546-e855-844c28e0ee49"
      },
      "outputs": [
        {
          "output_type": "stream",
          "name": "stdout",
          "text": [
            "[[10 26]\n",
            " [42 58]]\n"
          ]
        }
      ],
      "source": [
        "import numpy as np\n",
        "\n",
        "\n",
        "array = np.array([[[[1, 2], [3, 4]], [[5, 6], [7, 8]]],\n",
        "                  [[[9, 10], [11, 12]], [[13, 14], [15, 16]]]])\n",
        "\n",
        "\n",
        "result = np.sum(array, axis=(-2, -1))\n",
        "\n",
        "\n",
        "print(result)\n",
        "\n"
      ]
    },
    {
      "cell_type": "markdown",
      "metadata": {
        "id": "Dfdh6IsRqoHi"
      },
      "source": [
        "#### 68. Considering a one-dimensional vector D, how to compute means of subsets of D using a vector S of same size describing subset  indices? (★★★) \n",
        "(**hint**: np.bincount)"
      ]
    },
    {
      "cell_type": "code",
      "execution_count": 97,
      "metadata": {
        "id": "tt4W00ItqoHj",
        "colab": {
          "base_uri": "https://localhost:8080/",
          "height": 236
        },
        "outputId": "83e6a7b2-2ae7-42e6-eab5-2542e3a97669"
      },
      "outputs": [
        {
          "output_type": "error",
          "ename": "ValueError",
          "evalue": "ignored",
          "traceback": [
            "\u001b[0;31m---------------------------------------------------------------------------\u001b[0m",
            "\u001b[0;31mValueError\u001b[0m                                Traceback (most recent call last)",
            "\u001b[0;32m<ipython-input-97-91dbf38695be>\u001b[0m in \u001b[0;36m<module>\u001b[0;34m\u001b[0m\n\u001b[1;32m      6\u001b[0m \u001b[0;34m\u001b[0m\u001b[0m\n\u001b[1;32m      7\u001b[0m \u001b[0;31m# Use the bincount function to get the counts and the indices of the unique elements in S\u001b[0m\u001b[0;34m\u001b[0m\u001b[0;34m\u001b[0m\u001b[0;34m\u001b[0m\u001b[0m\n\u001b[0;32m----> 8\u001b[0;31m \u001b[0mcounts\u001b[0m\u001b[0;34m,\u001b[0m \u001b[0mindices\u001b[0m \u001b[0;34m=\u001b[0m \u001b[0mnp\u001b[0m\u001b[0;34m.\u001b[0m\u001b[0mbincount\u001b[0m\u001b[0;34m(\u001b[0m\u001b[0mS\u001b[0m\u001b[0;34m)\u001b[0m\u001b[0;34m\u001b[0m\u001b[0;34m\u001b[0m\u001b[0m\n\u001b[0m\u001b[1;32m      9\u001b[0m \u001b[0;34m\u001b[0m\u001b[0m\n\u001b[1;32m     10\u001b[0m \u001b[0;31m# Use the unique function to get the unique elements in S\u001b[0m\u001b[0;34m\u001b[0m\u001b[0;34m\u001b[0m\u001b[0;34m\u001b[0m\u001b[0m\n",
            "\u001b[0;31mValueError\u001b[0m: too many values to unpack (expected 2)"
          ]
        }
      ],
      "source": [
        "import numpy as np\n",
        "\n",
        "# Define the vectors\n",
        "D = np.array([1, 2, 3, 4, 5, 6, 7, 8, 9, 10])\n",
        "S = np.array([1, 2, 3, 1, 2, 3, 1, 2, 3, 1])\n",
        "\n",
        "# Use the bincount function to get the counts and the indices of the unique elements in S\n",
        "counts, indices = np.bincount(S)\n",
        "\n",
        "# Use the unique function to get the unique elements in S\n",
        "subsets = np.unique(S)\n",
        "\n",
        "# Initialize an array to store the means of the subsets\n",
        "means = np.zeros(subsets.shape[0])\n",
        "\n",
        "# Loop over the unique elements in S\n",
        "for i, subset in enumerate(subsets):\n",
        "    # Use indexing to get the elements of D belonging to the current subset\n",
        "    subset_values = D[S == subset]\n",
        "    \n",
        "    # Compute the mean of the subset values\n",
        "    means[i] = np.mean(subset_values)\n",
        "\n",
        "# Print the means\n",
        "print(means)\n"
      ]
    },
    {
      "cell_type": "markdown",
      "metadata": {
        "id": "pBqs-hnyqoHj"
      },
      "source": [
        "#### 69. How to get the diagonal of a dot product? (★★★) \n",
        "(**hint**: np.diag)"
      ]
    },
    {
      "cell_type": "code",
      "execution_count": 98,
      "metadata": {
        "id": "cU-FLU0wqoHj",
        "colab": {
          "base_uri": "https://localhost:8080/"
        },
        "outputId": "7b6dfcdd-7067-4e87-c43b-843c841d06ca"
      },
      "outputs": [
        {
          "output_type": "stream",
          "name": "stdout",
          "text": [
            "[ 84 216 366]\n"
          ]
        }
      ],
      "source": [
        "import numpy as np\n",
        "\n",
        "# Define the matrices\n",
        "A = np.array([[1, 2, 3], [4, 5, 6], [7, 8, 9]])\n",
        "B = np.array([[10, 11, 12], [13, 14, 15], [16, 17, 18]])\n",
        "\n",
        "C = np.dot(A, B)\n",
        "\n",
        "diagonal = np.diag(C)\n",
        "\n",
        "print(diagonal)\n"
      ]
    },
    {
      "cell_type": "markdown",
      "metadata": {
        "id": "QabYy3G_qoHk"
      },
      "source": [
        "#### 70. Consider the vector \\[1, 2, 3, 4, 5\\], how to build a new vector with 3 consecutive zeros interleaved between each value? (★★★) \n",
        "(**hint**: array\\[::4\\])"
      ]
    },
    {
      "cell_type": "code",
      "execution_count": null,
      "metadata": {
        "id": "YS6x4TYUqoHk"
      },
      "outputs": [],
      "source": [
        "import numpy as np\n",
        "\n",
        "V = np.array([1, 2, 3, 4, 5])\n",
        "\n",
        "V_zeros = np.repeat(V, 4)\n",
        "\n",
        "zeros = np.zeros(3)\n",
        "\n",
        "V_new = np.concatenate([V_zeros, zeros])\n",
        "\n",
        "print(V_new)\n"
      ]
    },
    {
      "cell_type": "markdown",
      "metadata": {
        "id": "EJ0sWdXFqoHk"
      },
      "source": [
        "#### 71. Consider an array of dimension (5,5,3), how to mulitply it by an array with dimensions (5,5)? (★★★) \n",
        "(**hint**: array\\[:, :, None\\])"
      ]
    },
    {
      "cell_type": "code",
      "execution_count": 100,
      "metadata": {
        "collapsed": true,
        "id": "o6VOhOnZqoHl",
        "colab": {
          "base_uri": "https://localhost:8080/",
          "height": 236
        },
        "outputId": "b227c67d-48b2-499c-9c26-5e5f24d79086"
      },
      "outputs": [
        {
          "output_type": "error",
          "ename": "ValueError",
          "evalue": "ignored",
          "traceback": [
            "\u001b[0;31m---------------------------------------------------------------------------\u001b[0m",
            "\u001b[0;31mValueError\u001b[0m                                Traceback (most recent call last)",
            "\u001b[0;32m<ipython-input-100-2cb24439431e>\u001b[0m in \u001b[0;36m<module>\u001b[0;34m\u001b[0m\n\u001b[1;32m      6\u001b[0m \u001b[0;34m\u001b[0m\u001b[0m\n\u001b[1;32m      7\u001b[0m \u001b[0;31m# Multiply A and B\u001b[0m\u001b[0;34m\u001b[0m\u001b[0;34m\u001b[0m\u001b[0;34m\u001b[0m\u001b[0m\n\u001b[0;32m----> 8\u001b[0;31m \u001b[0mC\u001b[0m \u001b[0;34m=\u001b[0m \u001b[0mA\u001b[0m \u001b[0;34m*\u001b[0m \u001b[0mB\u001b[0m\u001b[0;34m\u001b[0m\u001b[0;34m\u001b[0m\u001b[0m\n\u001b[0m\u001b[1;32m      9\u001b[0m \u001b[0;34m\u001b[0m\u001b[0m\n\u001b[1;32m     10\u001b[0m \u001b[0;31m# Print the resulting array\u001b[0m\u001b[0;34m\u001b[0m\u001b[0;34m\u001b[0m\u001b[0;34m\u001b[0m\u001b[0m\n",
            "\u001b[0;31mValueError\u001b[0m: operands could not be broadcast together with shapes (5,5,3) (5,5) "
          ]
        }
      ],
      "source": [
        "import numpy as np\n",
        "\n",
        "# Define the arrays\n",
        "A = np.random.rand(5, 5, 3)\n",
        "B = np.random.rand(5, 5)\n",
        "\n",
        "# Multiply A and B\n",
        "C = A * B\n",
        "\n",
        "# Print the resulting array\n",
        "print(C)\n"
      ]
    },
    {
      "cell_type": "markdown",
      "metadata": {
        "id": "oiHcmDdUqoHl"
      },
      "source": [
        "#### 72. How to swap two rows of an array? (★★★) \n",
        "(**hint**: array\\[\\[\\]\\] = array\\[\\[\\]\\])"
      ]
    },
    {
      "cell_type": "code",
      "execution_count": 101,
      "metadata": {
        "id": "dj9m4lTcqoHl",
        "colab": {
          "base_uri": "https://localhost:8080/"
        },
        "outputId": "b7b96649-90a8-4909-82c0-b463c2c6e798"
      },
      "outputs": [
        {
          "output_type": "stream",
          "name": "stdout",
          "text": [
            "Original array:\n",
            "[[1 2 3]\n",
            " [4 5 6]\n",
            " [7 8 9]]\n",
            "\n",
            "Swapped array:\n",
            "[[7 8 9]\n",
            " [4 5 6]\n",
            " [1 2 3]]\n"
          ]
        }
      ],
      "source": [
        "import numpy as np\n",
        "\n",
        "# Define the array\n",
        "A = np.array([[1, 2, 3], [4, 5, 6], [7, 8, 9]])\n",
        "\n",
        "print(\"Original array:\")\n",
        "print(A)\n",
        "\n",
        "# Swap the first and the last rows\n",
        "A[[0, 2]] = A[[2, 0]]\n",
        "\n",
        "print(\"\\nSwapped array:\")\n",
        "print(A)\n"
      ]
    },
    {
      "cell_type": "markdown",
      "metadata": {
        "id": "Hy2xpgriqoHl"
      },
      "source": [
        "#### 73. Consider a set of 10 triplets describing 10 triangles (with shared vertices), find the set of unique line segments composing all the  triangles (★★★) \n",
        "(**hint**: repeat, np.roll, np.sort, view, np.unique)"
      ]
    },
    {
      "cell_type": "code",
      "execution_count": 103,
      "metadata": {
        "id": "zvUYOiR3qoHm",
        "colab": {
          "base_uri": "https://localhost:8080/"
        },
        "outputId": "139d6730-7719-49a2-c074-db78fb212935"
      },
      "outputs": [
        {
          "output_type": "stream",
          "name": "stdout",
          "text": [
            "[[0 1]\n",
            " [0 2]\n",
            " [0 3]\n",
            " [1 2]\n",
            " [1 3]\n",
            " [2 3]\n",
            " [2 4]\n",
            " [3 4]\n",
            " [3 5]\n",
            " [4 5]\n",
            " [4 6]\n",
            " [5 6]]\n"
          ]
        }
      ],
      "source": [
        "import numpy as np\n",
        "\n",
        "# Define the triplets\n",
        "triplets = np.array([[0, 1, 2], [0, 1, 3], [1, 2, 3], [2, 3, 4], [3, 4, 5], \n",
        "                     [4, 5, 6]])\n",
        "\n",
        "lines = triplets[:, [0, 1, 1, 2, 2, 0]]\n",
        "\n",
        "lines = lines.reshape(-1, 2)\n",
        "\n",
        "lines = np.sort(lines, axis=1)\n",
        "\n",
        "unique_lines, counts = np.unique(lines, return_counts=True, axis=0)\n",
        "\n",
        "print(unique_lines)\n"
      ]
    },
    {
      "cell_type": "markdown",
      "metadata": {
        "id": "AyLmf2sxqoHm"
      },
      "source": [
        "#### 74. Given an array C that is a bincount, how to produce an array A such that np.bincount(A) == C? (★★★) \n",
        "(**hint**: np.repeat)"
      ]
    },
    {
      "cell_type": "code",
      "execution_count": 1,
      "metadata": {
        "id": "51Vmc4HXqoHm",
        "colab": {
          "base_uri": "https://localhost:8080/"
        },
        "outputId": "60b6edaa-5e50-42c1-d81d-7fdf1aecc127"
      },
      "outputs": [
        {
          "output_type": "stream",
          "name": "stdout",
          "text": [
            "Array A:\n",
            "[0 1 1 3 0 0 0 0 8 9]\n",
            "\n",
            "Bincount of A:\n",
            "[5 2 0 1 0 0 0 0 1 1]\n"
          ]
        }
      ],
      "source": [
        "import numpy as np\n",
        "\n",
        "# Define the array C\n",
        "C = np.array([2, 3, 0, 1, 0, 0, 0, 0, 2, 1])\n",
        "\n",
        "\n",
        "n = len(C)\n",
        "\n",
        "\n",
        "A = np.empty(n, dtype=int)\n",
        "\n",
        "\n",
        "for i, c in enumerate(C):\n",
        "   \n",
        "    A[i:i+c] = i\n",
        "\n",
        "print(\"Array A:\")\n",
        "print(A)\n",
        "\n",
        "\n",
        "print(\"\\nBincount of A:\")\n",
        "print(np.bincount(A))\n"
      ]
    },
    {
      "cell_type": "markdown",
      "metadata": {
        "id": "ua-5IdhJqoHn"
      },
      "source": [
        "#### 75. How to compute averages using a sliding window over an array? (★★★) \n",
        "(**hint**: np.cumsum)"
      ]
    },
    {
      "cell_type": "code",
      "execution_count": 2,
      "metadata": {
        "id": "qVhcFT-pqoHn",
        "colab": {
          "base_uri": "https://localhost:8080/"
        },
        "outputId": "ad8623d4-9568-4737-bba1-376398d77619"
      },
      "outputs": [
        {
          "output_type": "stream",
          "name": "stdout",
          "text": [
            "Averages:\n",
            "[2.         3.         3.66666667 3.33333333 3.         2.\n",
            " 3.         3.66666667]\n"
          ]
        }
      ],
      "source": [
        "import numpy as np\n",
        "\n",
        "# Define the array\n",
        "arr = np.array([1, 3, 2, 4, 5, 1, 3, 2, 4, 5])\n",
        "\n",
        "window_size = 3\n",
        "\n",
        "n = len(arr)\n",
        "\n",
        "avgs = np.empty(n - window_size + 1)\n",
        "\n",
        "for i in range(n - window_size + 1):\n",
        "    \n",
        "    avg = np.mean(arr[i:i+window_size])\n",
        "    \n",
        "    \n",
        "    avgs[i] = avg\n",
        "\n",
        "print(\"Averages:\")\n",
        "print(avgs)\n"
      ]
    },
    {
      "cell_type": "markdown",
      "metadata": {
        "id": "FgCdjxTAqoHn"
      },
      "source": [
        "#### 76. Consider a one-dimensional array Z, build a two-dimensional array whose first row is (Z\\[0\\],Z\\[1\\],Z\\[2\\]) and each subsequent row is  shifted by 1 (last row should be (Z\\[-3\\],Z\\[-2\\],Z\\[-1\\]) (★★★) \n",
        "(**hint**: from numpy.lib import stride_tricks)"
      ]
    },
    {
      "cell_type": "code",
      "execution_count": null,
      "metadata": {
        "id": "YaazDedOqoHn"
      },
      "outputs": [],
      "source": []
    },
    {
      "cell_type": "markdown",
      "metadata": {
        "id": "2ZGe25wUqoHo"
      },
      "source": [
        "#### 77. How to negate a boolean, or to change the sign of a float inplace? (★★★) \n",
        "(**hint**: np.logical_not, np.negative)"
      ]
    },
    {
      "cell_type": "code",
      "execution_count": null,
      "metadata": {
        "id": "g9JclCJ8qoHo"
      },
      "outputs": [],
      "source": [
        "import numpy as np\n",
        "\n",
        "# Define a boolean array\n",
        "bool_arr = np.array([True, False, True])\n",
        "\n",
        "bool_arr = -bool_arr\n",
        "\n",
        "print(\"Boolean array:\")\n",
        "print(bool_arr)\n",
        "\n",
        "float_arr = np.array([1.0, 2.5, -3.0])\n",
        "\n",
        "float_arr = -float_arr\n",
        "\n",
        "print(\"\\nFloat array:\")\n",
        "print(float_arr)\n",
        "\n",
        "float_arr = ~float_arr\n",
        "\n",
        "print(\"\\nFloat array (using inplace negation):\")\n",
        "print(float_arr)\n"
      ]
    },
    {
      "cell_type": "markdown",
      "metadata": {
        "id": "r3x4afOqqoHo"
      },
      "source": [
        "#### 78. Consider 2 sets of points P0,P1 describing lines (2d) and a point p, how to compute distance from p to each line i  (P0\\[i\\],P1\\[i\\])? (★★★)"
      ]
    },
    {
      "cell_type": "code",
      "execution_count": null,
      "metadata": {
        "id": "b-XDV7ktqoHo"
      },
      "outputs": [],
      "source": []
    },
    {
      "cell_type": "markdown",
      "metadata": {
        "id": "2AO-TJ3uqoHo"
      },
      "source": [
        "#### 79. Consider 2 sets of points P0,P1 describing lines (2d) and a set of points P, how to compute distance from each point j (P\\[j\\]) to each line i (P0\\[i\\],P1\\[i\\])? (★★★)"
      ]
    },
    {
      "cell_type": "code",
      "execution_count": null,
      "metadata": {
        "id": "dD3bwhBFqoHo"
      },
      "outputs": [],
      "source": []
    },
    {
      "cell_type": "markdown",
      "metadata": {
        "id": "OApApSjmqoHp"
      },
      "source": [
        "#### 80. Consider an arbitrary array, write a function that extract a subpart with a fixed shape and centered on a given element (pad with a `fill` value when necessary) (★★★) \n",
        "(**hint**: minimum, maximum)"
      ]
    },
    {
      "cell_type": "code",
      "execution_count": null,
      "metadata": {
        "id": "8IOQC9ijqoHp"
      },
      "outputs": [],
      "source": []
    },
    {
      "cell_type": "markdown",
      "metadata": {
        "id": "oRj6_k-OqoHp"
      },
      "source": [
        "#### 81. Consider an array Z = \\[1,2,3,4,5,6,7,8,9,10,11,12,13,14\\], how to generate an array R = \\[\\[1,2,3,4\\], \\[2,3,4,5\\], \\[3,4,5,6\\], ..., \\[11,12,13,14\\]\\]? (★★★) \n",
        "(**hint**: stride\\_tricks.as\\_strided)"
      ]
    },
    {
      "cell_type": "code",
      "execution_count": null,
      "metadata": {
        "id": "hF5BOfCGqoHp"
      },
      "outputs": [],
      "source": []
    },
    {
      "cell_type": "markdown",
      "metadata": {
        "id": "QVF3TmOGqoHp"
      },
      "source": [
        "#### 82. Compute a matrix rank (★★★) \n",
        "(**hint**: np.linalg.svd) (suggestion: np.linalg.svd)"
      ]
    },
    {
      "cell_type": "code",
      "execution_count": 3,
      "metadata": {
        "id": "BYUKEA04qoHp",
        "colab": {
          "base_uri": "https://localhost:8080/"
        },
        "outputId": "79b4fea0-1224-4f74-9339-b883e075afdb"
      },
      "outputs": [
        {
          "output_type": "stream",
          "name": "stdout",
          "text": [
            "2\n"
          ]
        }
      ],
      "source": [
        "import numpy as np\n",
        "\n",
        "A = np.array([[1,2,3],[2,3,4],[3,4,5]])\n",
        "\n",
        "rank = np.linalg.matrix_rank(A)\n",
        "\n",
        "print(rank)"
      ]
    },
    {
      "cell_type": "markdown",
      "metadata": {
        "id": "Is_-K6pZqoHq"
      },
      "source": [
        "#### 83. How to find the most frequent value in an array? \n",
        "(**hint**: np.bincount, argmax)"
      ]
    },
    {
      "cell_type": "code",
      "execution_count": 4,
      "metadata": {
        "id": "tM2s5K6sqoHq",
        "colab": {
          "base_uri": "https://localhost:8080/"
        },
        "outputId": "2a83c725-e05c-45d8-ccac-477d9b3ee774"
      },
      "outputs": [
        {
          "output_type": "stream",
          "name": "stdout",
          "text": [
            "3\n"
          ]
        }
      ],
      "source": [
        "import numpy as np\n",
        "\n",
        "a =np.array([1,2,3,1,2,3,1,2,1,3,3,3,3])\n",
        "\n",
        "values,counts = np.unique(a,return_counts=True)\n",
        "\n",
        "index = np.argmax(counts)\n",
        "\n",
        "print(values[index])\n"
      ]
    },
    {
      "cell_type": "markdown",
      "metadata": {
        "id": "F98XAcOjqoHq"
      },
      "source": [
        "#### 84. Extract all the contiguous 3x3 blocks from a random 10x10 matrix (★★★) \n",
        "(**hint**: stride\\_tricks.as\\_strided)"
      ]
    },
    {
      "cell_type": "code",
      "execution_count": 6,
      "metadata": {
        "id": "oIuOY2M9qoHq",
        "colab": {
          "base_uri": "https://localhost:8080/"
        },
        "outputId": "6cf2a26f-17d2-4791-d38f-23b4e2042e2d"
      },
      "outputs": [
        {
          "output_type": "stream",
          "name": "stdout",
          "text": [
            "[[0.8770664  0.50951637 0.72656364 0.61664663 0.10031848 0.72400006\n",
            "  0.77240597 0.49444444 0.62671413]\n",
            " [0.50951637 0.72656364 0.24209516 0.10031848 0.72400006 0.1231071\n",
            "  0.49444444 0.62671413 0.25398373]\n",
            " [0.72656364 0.24209516 0.94527409 0.72400006 0.1231071  0.20814887\n",
            "  0.62671413 0.25398373 0.95506355]\n",
            " [0.24209516 0.94527409 0.75051521 0.1231071  0.20814887 0.2278247\n",
            "  0.25398373 0.95506355 0.70605909]\n",
            " [0.94527409 0.75051521 0.83701937 0.20814887 0.2278247  0.30867708\n",
            "  0.95506355 0.70605909 0.63906192]\n",
            " [0.75051521 0.83701937 0.51933715 0.2278247  0.30867708 0.44634166\n",
            "  0.70605909 0.63906192 0.62854358]\n",
            " [0.83701937 0.51933715 0.56524038 0.30867708 0.44634166 0.59842837\n",
            "  0.63906192 0.62854358 0.59499482]\n",
            " [0.51933715 0.56524038 0.46295383 0.44634166 0.59842837 0.94613306\n",
            "  0.62854358 0.59499482 0.02611098]\n",
            " [0.61664663 0.10031848 0.72400006 0.77240597 0.49444444 0.62671413\n",
            "  0.30579387 0.9212626  0.73101994]\n",
            " [0.10031848 0.72400006 0.1231071  0.49444444 0.62671413 0.25398373\n",
            "  0.9212626  0.73101994 0.82552374]\n",
            " [0.72400006 0.1231071  0.20814887 0.62671413 0.25398373 0.95506355\n",
            "  0.73101994 0.82552374 0.50216803]\n",
            " [0.1231071  0.20814887 0.2278247  0.25398373 0.95506355 0.70605909\n",
            "  0.82552374 0.50216803 0.61137377]\n",
            " [0.20814887 0.2278247  0.30867708 0.95506355 0.70605909 0.63906192\n",
            "  0.50216803 0.61137377 0.88226693]\n",
            " [0.2278247  0.30867708 0.44634166 0.70605909 0.63906192 0.62854358\n",
            "  0.61137377 0.88226693 0.29950317]\n",
            " [0.30867708 0.44634166 0.59842837 0.63906192 0.62854358 0.59499482\n",
            "  0.88226693 0.29950317 0.96984743]\n",
            " [0.44634166 0.59842837 0.94613306 0.62854358 0.59499482 0.02611098\n",
            "  0.29950317 0.96984743 0.20194312]\n",
            " [0.77240597 0.49444444 0.62671413 0.30579387 0.9212626  0.73101994\n",
            "  0.49897269 0.88397388 0.70292119]\n",
            " [0.49444444 0.62671413 0.25398373 0.9212626  0.73101994 0.82552374\n",
            "  0.88397388 0.70292119 0.44113049]\n",
            " [0.62671413 0.25398373 0.95506355 0.73101994 0.82552374 0.50216803\n",
            "  0.70292119 0.44113049 0.37453241]\n",
            " [0.25398373 0.95506355 0.70605909 0.82552374 0.50216803 0.61137377\n",
            "  0.44113049 0.37453241 0.74923803]\n",
            " [0.95506355 0.70605909 0.63906192 0.50216803 0.61137377 0.88226693\n",
            "  0.37453241 0.74923803 0.09033139]\n",
            " [0.70605909 0.63906192 0.62854358 0.61137377 0.88226693 0.29950317\n",
            "  0.74923803 0.09033139 0.6674583 ]\n",
            " [0.63906192 0.62854358 0.59499482 0.88226693 0.29950317 0.96984743\n",
            "  0.09033139 0.6674583  0.97614209]\n",
            " [0.62854358 0.59499482 0.02611098 0.29950317 0.96984743 0.20194312\n",
            "  0.6674583  0.97614209 0.81727133]\n",
            " [0.30579387 0.9212626  0.73101994 0.49897269 0.88397388 0.70292119\n",
            "  0.11620998 0.20430025 0.6359568 ]\n",
            " [0.9212626  0.73101994 0.82552374 0.88397388 0.70292119 0.44113049\n",
            "  0.20430025 0.6359568  0.11187817]\n",
            " [0.73101994 0.82552374 0.50216803 0.70292119 0.44113049 0.37453241\n",
            "  0.6359568  0.11187817 0.10227535]\n",
            " [0.82552374 0.50216803 0.61137377 0.44113049 0.37453241 0.74923803\n",
            "  0.11187817 0.10227535 0.56815926]\n",
            " [0.50216803 0.61137377 0.88226693 0.37453241 0.74923803 0.09033139\n",
            "  0.10227535 0.56815926 0.89032374]\n",
            " [0.61137377 0.88226693 0.29950317 0.74923803 0.09033139 0.6674583\n",
            "  0.56815926 0.89032374 0.29667924]\n",
            " [0.88226693 0.29950317 0.96984743 0.09033139 0.6674583  0.97614209\n",
            "  0.89032374 0.29667924 0.57028723]\n",
            " [0.29950317 0.96984743 0.20194312 0.6674583  0.97614209 0.81727133\n",
            "  0.29667924 0.57028723 0.07120609]\n",
            " [0.49897269 0.88397388 0.70292119 0.11620998 0.20430025 0.6359568\n",
            "  0.15444957 0.65698121 0.09800744]\n",
            " [0.88397388 0.70292119 0.44113049 0.20430025 0.6359568  0.11187817\n",
            "  0.65698121 0.09800744 0.34401487]\n",
            " [0.70292119 0.44113049 0.37453241 0.6359568  0.11187817 0.10227535\n",
            "  0.09800744 0.34401487 0.01577281]\n",
            " [0.44113049 0.37453241 0.74923803 0.11187817 0.10227535 0.56815926\n",
            "  0.34401487 0.01577281 0.74370685]\n",
            " [0.37453241 0.74923803 0.09033139 0.10227535 0.56815926 0.89032374\n",
            "  0.01577281 0.74370685 0.0788724 ]\n",
            " [0.74923803 0.09033139 0.6674583  0.56815926 0.89032374 0.29667924\n",
            "  0.74370685 0.0788724  0.65155453]\n",
            " [0.09033139 0.6674583  0.97614209 0.89032374 0.29667924 0.57028723\n",
            "  0.0788724  0.65155453 0.91201945]\n",
            " [0.6674583  0.97614209 0.81727133 0.29667924 0.57028723 0.07120609\n",
            "  0.65155453 0.91201945 0.57440643]\n",
            " [0.11620998 0.20430025 0.6359568  0.15444957 0.65698121 0.09800744\n",
            "  0.72342267 0.75583369 0.5060738 ]\n",
            " [0.20430025 0.6359568  0.11187817 0.65698121 0.09800744 0.34401487\n",
            "  0.75583369 0.5060738  0.49816366]\n",
            " [0.6359568  0.11187817 0.10227535 0.09800744 0.34401487 0.01577281\n",
            "  0.5060738  0.49816366 0.3986043 ]\n",
            " [0.11187817 0.10227535 0.56815926 0.34401487 0.01577281 0.74370685\n",
            "  0.49816366 0.3986043  0.6549711 ]\n",
            " [0.10227535 0.56815926 0.89032374 0.01577281 0.74370685 0.0788724\n",
            "  0.3986043  0.6549711  0.50576577]\n",
            " [0.56815926 0.89032374 0.29667924 0.74370685 0.0788724  0.65155453\n",
            "  0.6549711  0.50576577 0.89228759]\n",
            " [0.89032374 0.29667924 0.57028723 0.0788724  0.65155453 0.91201945\n",
            "  0.50576577 0.89228759 0.85830516]\n",
            " [0.29667924 0.57028723 0.07120609 0.65155453 0.91201945 0.57440643\n",
            "  0.89228759 0.85830516 0.64182171]\n",
            " [0.15444957 0.65698121 0.09800744 0.72342267 0.75583369 0.5060738\n",
            "  0.35365483 0.32561997 0.89477534]\n",
            " [0.65698121 0.09800744 0.34401487 0.75583369 0.5060738  0.49816366\n",
            "  0.32561997 0.89477534 0.67808375]\n",
            " [0.09800744 0.34401487 0.01577281 0.5060738  0.49816366 0.3986043\n",
            "  0.89477534 0.67808375 0.70858334]\n",
            " [0.34401487 0.01577281 0.74370685 0.49816366 0.3986043  0.6549711\n",
            "  0.67808375 0.70858334 0.13030398]\n",
            " [0.01577281 0.74370685 0.0788724  0.3986043  0.6549711  0.50576577\n",
            "  0.70858334 0.13030398 0.94862527]\n",
            " [0.74370685 0.0788724  0.65155453 0.6549711  0.50576577 0.89228759\n",
            "  0.13030398 0.94862527 0.32744643]\n",
            " [0.0788724  0.65155453 0.91201945 0.50576577 0.89228759 0.85830516\n",
            "  0.94862527 0.32744643 0.8206297 ]\n",
            " [0.65155453 0.91201945 0.57440643 0.89228759 0.85830516 0.64182171\n",
            "  0.32744643 0.8206297  0.49643138]\n",
            " [0.72342267 0.75583369 0.5060738  0.35365483 0.32561997 0.89477534\n",
            "  0.06196476 0.87304795 0.66799449]\n",
            " [0.75583369 0.5060738  0.49816366 0.32561997 0.89477534 0.67808375\n",
            "  0.87304795 0.66799449 0.28434135]\n",
            " [0.5060738  0.49816366 0.3986043  0.89477534 0.67808375 0.70858334\n",
            "  0.66799449 0.28434135 0.86137692]\n",
            " [0.49816366 0.3986043  0.6549711  0.67808375 0.70858334 0.13030398\n",
            "  0.28434135 0.86137692 0.61657444]\n",
            " [0.3986043  0.6549711  0.50576577 0.70858334 0.13030398 0.94862527\n",
            "  0.86137692 0.61657444 0.77099588]\n",
            " [0.6549711  0.50576577 0.89228759 0.13030398 0.94862527 0.32744643\n",
            "  0.61657444 0.77099588 0.93099408]\n",
            " [0.50576577 0.89228759 0.85830516 0.94862527 0.32744643 0.8206297\n",
            "  0.77099588 0.93099408 0.41020481]\n",
            " [0.89228759 0.85830516 0.64182171 0.32744643 0.8206297  0.49643138\n",
            "  0.93099408 0.41020481 0.9841034 ]]\n"
          ]
        }
      ],
      "source": [
        "import numpy as np\n",
        "\n",
        "A = np.random.rand(10,10)\n",
        "\n",
        "blocks= np.lib.stride_tricks.as_strided(A,shape=(8,8,3,3),\n",
        "        strides=A.strides+A.strides)\n",
        "\n",
        "blocks = blocks.reshape(8*8,3*3)\n",
        "print(blocks)"
      ]
    },
    {
      "cell_type": "markdown",
      "metadata": {
        "id": "GiP1cDKqqoHq"
      },
      "source": [
        "#### 85. Create a 2D array subclass such that Z\\[i,j\\] == Z\\[j,i\\] (★★★) \n",
        "(**hint**: class method)"
      ]
    },
    {
      "cell_type": "code",
      "execution_count": null,
      "metadata": {
        "id": "ad7hINubqoHr"
      },
      "outputs": [],
      "source": []
    },
    {
      "cell_type": "markdown",
      "metadata": {
        "id": "9qKbcTdZqoHr"
      },
      "source": [
        "#### 86. Consider a set of p matrices wich shape (n,n) and a set of p vectors with shape (n,1). How to compute the sum of of the p matrix products at once? (result has shape (n,1)) (★★★) \n",
        "(**hint**: np.tensordot)"
      ]
    },
    {
      "cell_type": "code",
      "execution_count": null,
      "metadata": {
        "id": "69SveLAIqoHr"
      },
      "outputs": [],
      "source": []
    },
    {
      "cell_type": "markdown",
      "metadata": {
        "id": "yOKLmbIcqoHs"
      },
      "source": [
        "#### 87. Consider a 16x16 array, how to get the block-sum (block size is 4x4)? (★★★) \n",
        "(**hint**: np.add.reduceat)"
      ]
    },
    {
      "cell_type": "code",
      "execution_count": null,
      "metadata": {
        "id": "TIHP9BTeqoHs"
      },
      "outputs": [],
      "source": []
    },
    {
      "cell_type": "markdown",
      "metadata": {
        "id": "KAW7mq8xqoHs"
      },
      "source": [
        "#### 88. How to implement the Game of Life using numpy arrays? (★★★)"
      ]
    },
    {
      "cell_type": "code",
      "execution_count": 7,
      "metadata": {
        "id": "WsM7idZvqoHs",
        "colab": {
          "base_uri": "https://localhost:8080/"
        },
        "outputId": "b0bb31f3-46cc-49bd-f760-268bf73b83b1"
      },
      "outputs": [
        {
          "output_type": "stream",
          "name": "stdout",
          "text": [
            "[[0 0 0 ... 0 0 0]\n",
            " [0 0 0 ... 0 0 0]\n",
            " [0 0 0 ... 0 0 0]\n",
            " ...\n",
            " [0 0 0 ... 0 0 0]\n",
            " [0 0 0 ... 0 0 0]\n",
            " [0 0 0 ... 0 0 0]]\n"
          ]
        }
      ],
      "source": [
        "import numpy as np\n",
        "\n",
        "# Define the size of the grid\n",
        "N = 10\n",
        "\n",
        "# Define the initial state of the grid\n",
        "grid = np.random.randint(2, size=(N, N))\n",
        "\n",
        "# Define the rules of the game\n",
        "def game_of_life(grid):\n",
        "    # Pad the grid with zeros\n",
        "    grid = np.pad(grid, 1, mode='constant')\n",
        "\n",
        "    # Create a copy of the grid\n",
        "    new_grid = grid.copy()\n",
        "\n",
        "    # Iterate over the rows and columns\n",
        "    for i in range(1, N+1):\n",
        "        for j in range(1, N+1):\n",
        "            # Get the 3x3 neighborhood around (i, j)\n",
        "            neighbors = grid[i-1:i+2, j-1:j+2]\n",
        "\n",
        "            # Apply the rules of the game\n",
        "            if grid[i, j] == 1:\n",
        "                if np.sum(neighbors) < 2 or np.sum(neighbors) > 3:\n",
        "                    new_grid[i, j] = 0\n",
        "            else:\n",
        "                if np.sum(neighbors) == 3:\n",
        "                    new_grid[i, j] = 1\n",
        "\n",
        "    # Return the new grid\n",
        "    return new_grid\n",
        "\n",
        "# Run the game for 100 iterations\n",
        "for i in range(100):\n",
        "    grid = game_of_life(grid)\n",
        "\n",
        "# Print the final state of the grid\n",
        "print(grid)\n"
      ]
    },
    {
      "cell_type": "markdown",
      "metadata": {
        "id": "VDrj58DDqoHt"
      },
      "source": [
        "#### 89. How to get the n largest values of an array (★★★) \n",
        "(**hint**: np.argsort | np.argpartition)"
      ]
    },
    {
      "cell_type": "code",
      "execution_count": 8,
      "metadata": {
        "id": "gLPpbdicqoHt",
        "colab": {
          "base_uri": "https://localhost:8080/"
        },
        "outputId": "a042cdae-c7b0-4bde-ba15-723683ac9803"
      },
      "outputs": [
        {
          "output_type": "stream",
          "name": "stdout",
          "text": [
            "[3 4 5]\n"
          ]
        }
      ],
      "source": [
        "import numpy as np\n",
        "\n",
        "arr = np.array([3,5,2,1,4])\n",
        "\n",
        "sorted_arr = np.sort(arr)\n",
        "\n",
        "n=3\n",
        "\n",
        "largest_values = sorted_arr[-n:]\n",
        "\n",
        "print(largest_values)\n"
      ]
    },
    {
      "cell_type": "markdown",
      "metadata": {
        "id": "YtUQgdikqoHt"
      },
      "source": [
        "#### 90. Given an arbitrary number of vectors, build the cartesian product (every combinations of every item) (★★★) \n",
        "(**hint**: np.indices)"
      ]
    },
    {
      "cell_type": "code",
      "execution_count": 9,
      "metadata": {
        "scrolled": true,
        "id": "AX9S-dIkqoHt",
        "colab": {
          "base_uri": "https://localhost:8080/"
        },
        "outputId": "ae0b999c-a797-49a4-8bcf-9a76776864c9"
      },
      "outputs": [
        {
          "output_type": "stream",
          "name": "stdout",
          "text": [
            "[[[1 1 4 5 6 6]\n",
            "  [2 2 4 5 6 6]\n",
            "  [3 3 4 5 6 6]]\n",
            "\n",
            " [[1 1 4 5 7 7]\n",
            "  [2 2 4 5 7 7]\n",
            "  [3 3 4 5 7 7]]\n",
            "\n",
            " [[1 1 4 5 8 8]\n",
            "  [2 2 4 5 8 8]\n",
            "  [3 3 4 5 8 8]]\n",
            "\n",
            " [[1 1 4 5 9 9]\n",
            "  [2 2 4 5 9 9]\n",
            "  [3 3 4 5 9 9]]]\n"
          ]
        }
      ],
      "source": [
        "import numpy as np\n",
        "\n",
        "vectors = [np.array([1,2,3]),np.array([4,5]),np.array([6,7,8,9])]\n",
        "\n",
        "coords = np.meshgrid(*vectors)\n",
        "\n",
        "cartesian_product = np.vstack(coords).T\n",
        "\n",
        "print(cartesian_product)  "
      ]
    },
    {
      "cell_type": "markdown",
      "metadata": {
        "id": "L0N4jIKZqoHu"
      },
      "source": [
        "#### 91. How to create a record array from a regular array? (★★★) \n",
        "(**hint**: np.core.records.fromarrays)"
      ]
    },
    {
      "cell_type": "code",
      "execution_count": 12,
      "metadata": {
        "id": "xqgC-zbsqoHu",
        "colab": {
          "base_uri": "https://localhost:8080/",
          "height": 236
        },
        "outputId": "37dfbba9-b1a7-4041-e246-fd6e7ba6d5ce"
      },
      "outputs": [
        {
          "output_type": "error",
          "ename": "AttributeError",
          "evalue": "ignored",
          "traceback": [
            "\u001b[0;31m---------------------------------------------------------------------------\u001b[0m",
            "\u001b[0;31mAttributeError\u001b[0m                            Traceback (most recent call last)",
            "\u001b[0;32m<ipython-input-12-11b9211c3880>\u001b[0m in \u001b[0;36m<module>\u001b[0;34m\u001b[0m\n\u001b[1;32m     10\u001b[0m \u001b[0mdtypes\u001b[0m \u001b[0;34m=\u001b[0m\u001b[0;34m[\u001b[0m\u001b[0;34m'int32'\u001b[0m\u001b[0;34m,\u001b[0m\u001b[0;34m'float32'\u001b[0m\u001b[0;34m,\u001b[0m\u001b[0;34m'float64'\u001b[0m\u001b[0;34m,\u001b[0m\u001b[0;34m...\u001b[0m\u001b[0;34m]\u001b[0m\u001b[0;34m\u001b[0m\u001b[0;34m\u001b[0m\u001b[0m\n\u001b[1;32m     11\u001b[0m \u001b[0;34m\u001b[0m\u001b[0m\n\u001b[0;32m---> 12\u001b[0;31m \u001b[0mrec_array\u001b[0m \u001b[0;34m=\u001b[0m \u001b[0mnp\u001b[0m\u001b[0;34m.\u001b[0m\u001b[0mrec\u001b[0m\u001b[0;34m.\u001b[0m\u001b[0mfromarrays\u001b[0m\u001b[0;34m(\u001b[0m\u001b[0mdata\u001b[0m\u001b[0;34m.\u001b[0m\u001b[0mT\u001b[0m\u001b[0;34m,\u001b[0m\u001b[0mnames\u001b[0m\u001b[0;34m=\u001b[0m\u001b[0mnames\u001b[0m\u001b[0;34m,\u001b[0m\u001b[0mdtypes\u001b[0m\u001b[0;34m=\u001b[0m\u001b[0mdtypes\u001b[0m\u001b[0;34m)\u001b[0m\u001b[0;34m\u001b[0m\u001b[0;34m\u001b[0m\u001b[0m\n\u001b[0m\u001b[1;32m     13\u001b[0m \u001b[0;34m\u001b[0m\u001b[0m\n\u001b[1;32m     14\u001b[0m \u001b[0mprint\u001b[0m\u001b[0;34m(\u001b[0m\u001b[0mrec_array\u001b[0m\u001b[0;34m)\u001b[0m\u001b[0;34m\u001b[0m\u001b[0;34m\u001b[0m\u001b[0m\n",
            "\u001b[0;31mAttributeError\u001b[0m: 'list' object has no attribute 'T'"
          ]
        }
      ],
      "source": [
        "import numpy as np\n",
        "\n",
        "data=([[ 1,  2,  3,  4],\n",
        "       [ 5,  6,  7,  8],\n",
        "       [ 9, 10, 11, 12]])\n",
        "\n",
        "\n",
        "\n",
        "names = ['field1','field2','field3',...]\n",
        "dtypes =['int32','float32','float64',...]\n",
        "\n",
        "rec_array = np.rec.fromarrays(data.T,names=names,dtypes=dtypes)\n",
        "\n",
        "print(rec_array)"
      ]
    },
    {
      "cell_type": "markdown",
      "metadata": {
        "id": "GcZqHejkqoHu"
      },
      "source": [
        "#### 92. Consider a large vector Z, compute Z to the power of 3 using 3 different methods (★★★) \n",
        "(**hint**: np.power, \\*, np.einsum)"
      ]
    },
    {
      "cell_type": "code",
      "execution_count": 16,
      "metadata": {
        "id": "k-K3-RntqoHu",
        "colab": {
          "base_uri": "https://localhost:8080/"
        },
        "outputId": "fcd9e71b-bffb-4fd9-d0b3-790af521b834"
      },
      "outputs": [
        {
          "output_type": "stream",
          "name": "stdout",
          "text": [
            "[5.42692482e-01 5.86838937e-02 4.91931767e-02 ... 1.56544078e-07\n",
            " 1.35987397e-06 1.20706537e-01]\n",
            "[5.42692482e-01 5.86838937e-02 4.91931767e-02 ... 1.56544078e-07\n",
            " 1.35987397e-06 1.20706537e-01]\n",
            "[5.42692482e-01 5.86838937e-02 4.91931767e-02 ... 1.56544078e-07\n",
            " 1.35987397e-06 1.20706537e-01]\n"
          ]
        }
      ],
      "source": [
        "import numpy as np\n",
        "\n",
        "Z = np.random.rand(10000000)\n",
        "\n",
        "Z_cubed = Z**3\n",
        "print(Z_cubed)\n",
        "\n",
        "Z_cubed2=np.power(Z,3)\n",
        "print(Z_cubed2)\n",
        "\n",
        "Z_cubed3=np.multiply(Z,np.multiply(Z,Z))\n",
        "\n",
        "print(Z_cubed3)\n"
      ]
    },
    {
      "cell_type": "markdown",
      "metadata": {
        "id": "PR1jGhshqoHv"
      },
      "source": [
        "#### 93. Consider two arrays A and B of shape (8,3) and (2,2). How to find rows of A that contain elements of each row of B regardless of the order of the elements in B? (★★★) \n",
        "(**hint**: np.where)"
      ]
    },
    {
      "cell_type": "code",
      "execution_count": 18,
      "metadata": {
        "id": "KMja22MGqoHv",
        "colab": {
          "base_uri": "https://localhost:8080/"
        },
        "outputId": "6b51bd37-1539-4b54-e8bc-8d60320055bb"
      },
      "outputs": [
        {
          "output_type": "stream",
          "name": "stdout",
          "text": [
            "[]\n"
          ]
        }
      ],
      "source": [
        "import numpy as np\n",
        "\n",
        "A = np.random.randint(10,size=(8,3))\n",
        "\n",
        "B = np.random.randint(10,size= (2,2))\n",
        "\n",
        "mask = np.all(np.isin(A,B),axis=1)\n",
        "\n",
        "result =A[mask]\n",
        "\n",
        "print(result)"
      ]
    },
    {
      "cell_type": "markdown",
      "metadata": {
        "id": "UXnMrOt3qoHv"
      },
      "source": [
        "#### 94. Considering a 10x3 matrix, extract rows with unequal values (e.g. \\[2,2,3\\]) (★★★)"
      ]
    },
    {
      "cell_type": "code",
      "execution_count": 19,
      "metadata": {
        "id": "cT0JZ1RbqoHw",
        "colab": {
          "base_uri": "https://localhost:8080/"
        },
        "outputId": "d0eae011-6f6a-4616-f737-e785931dad68"
      },
      "outputs": [
        {
          "output_type": "stream",
          "name": "stdout",
          "text": [
            "[[0 8 2]\n",
            " [8 3 5]\n",
            " [1 7 6]\n",
            " [6 0 7]\n",
            " [9 2 4]\n",
            " [2 7 6]\n",
            " [5 3 1]\n",
            " [5 8 1]\n",
            " [1 7 4]\n",
            " [1 6 8]]\n"
          ]
        }
      ],
      "source": [
        "import numpy as np\n",
        "\n",
        "matrix = np.random.randint(10,size=(10,3))\n",
        "\n",
        "mask = np.any(matrix[:,1:] !=matrix[:,:-1],axis=1)\n",
        "\n",
        "result =matrix[mask]\n",
        "\n",
        "print(result)\n"
      ]
    },
    {
      "cell_type": "markdown",
      "metadata": {
        "id": "fyAag8UoqoHw"
      },
      "source": [
        "#### 95. Convert a vector of ints into a matrix binary representation (★★★) \n",
        "(**hint**: np.unpackbits)"
      ]
    },
    {
      "cell_type": "code",
      "execution_count": 20,
      "metadata": {
        "id": "lvhWCA4nqoHw",
        "colab": {
          "base_uri": "https://localhost:8080/",
          "height": 271
        },
        "outputId": "6327d3c3-09cb-4cd8-9b59-2d203395ad3a"
      },
      "outputs": [
        {
          "output_type": "error",
          "ename": "AxisError",
          "evalue": "ignored",
          "traceback": [
            "\u001b[0;31m---------------------------------------------------------------------------\u001b[0m",
            "\u001b[0;31mAxisError\u001b[0m                                 Traceback (most recent call last)",
            "\u001b[0;32m<ipython-input-20-5b0f96a2bc20>\u001b[0m in \u001b[0;36m<module>\u001b[0;34m\u001b[0m\n\u001b[1;32m      5\u001b[0m \u001b[0;34m\u001b[0m\u001b[0m\n\u001b[1;32m      6\u001b[0m \u001b[0;31m# Convert the vector to a matrix of binary representations\u001b[0m\u001b[0;34m\u001b[0m\u001b[0;34m\u001b[0m\u001b[0;34m\u001b[0m\u001b[0m\n\u001b[0;32m----> 7\u001b[0;31m \u001b[0mmatrix\u001b[0m \u001b[0;34m=\u001b[0m \u001b[0mnp\u001b[0m\u001b[0;34m.\u001b[0m\u001b[0munpackbits\u001b[0m\u001b[0;34m(\u001b[0m\u001b[0mvector\u001b[0m\u001b[0;34m.\u001b[0m\u001b[0mastype\u001b[0m\u001b[0;34m(\u001b[0m\u001b[0mnp\u001b[0m\u001b[0;34m.\u001b[0m\u001b[0muint8\u001b[0m\u001b[0;34m)\u001b[0m\u001b[0;34m,\u001b[0m \u001b[0maxis\u001b[0m\u001b[0;34m=\u001b[0m\u001b[0;36m1\u001b[0m\u001b[0;34m)\u001b[0m\u001b[0;34m\u001b[0m\u001b[0;34m\u001b[0m\u001b[0m\n\u001b[0m\u001b[1;32m      8\u001b[0m \u001b[0;34m\u001b[0m\u001b[0m\n\u001b[1;32m      9\u001b[0m \u001b[0mprint\u001b[0m\u001b[0;34m(\u001b[0m\u001b[0mmatrix\u001b[0m\u001b[0;34m)\u001b[0m\u001b[0;34m\u001b[0m\u001b[0;34m\u001b[0m\u001b[0m\n",
            "\u001b[0;32m<__array_function__ internals>\u001b[0m in \u001b[0;36munpackbits\u001b[0;34m(*args, **kwargs)\u001b[0m\n",
            "\u001b[0;31mAxisError\u001b[0m: axis 1 is out of bounds for array of dimension 1"
          ]
        }
      ],
      "source": [
        "import numpy as np\n",
        "\n",
        "# Create a random vector of integers\n",
        "vector = np.random.randint(10, size=10)\n",
        "\n",
        "# Convert the vector to a matrix of binary representations\n",
        "matrix = np.unpackbits(vector.astype(np.uint8), axis=1)\n",
        "\n",
        "print(matrix)\n"
      ]
    },
    {
      "cell_type": "markdown",
      "metadata": {
        "id": "7v1oV6SYqoHw"
      },
      "source": [
        "#### 96. Given a two dimensional array, how to extract unique rows? (★★★) \n",
        "(**hint**: np.ascontiguousarray)"
      ]
    },
    {
      "cell_type": "code",
      "execution_count": 21,
      "metadata": {
        "id": "wLpyLtv6qoHx",
        "colab": {
          "base_uri": "https://localhost:8080/"
        },
        "outputId": "e049b2b4-5ff5-4a7b-e36b-4113b794e862"
      },
      "outputs": [
        {
          "output_type": "stream",
          "name": "stdout",
          "text": [
            "[[2 2 0]\n",
            " [3 5 2]\n",
            " [6 0 1]\n",
            " [7 4 4]\n",
            " [7 7 4]]\n",
            "[1 3 2 4 0]\n"
          ]
        }
      ],
      "source": [
        "import numpy as np\n",
        "\n",
        "# Create a random 2D array\n",
        "array = np.random.randint(10, size=(5, 3))\n",
        "\n",
        "# Extract unique rows and their indices\n",
        "unique_rows, indices = np.unique(array, axis=0, return_index=True)\n",
        "\n",
        "print(unique_rows)\n",
        "print(indices)\n"
      ]
    },
    {
      "cell_type": "markdown",
      "metadata": {
        "id": "BwYAF_8hqoHx"
      },
      "source": [
        "#### 97. Considering 2 vectors A & B, write the einsum equivalent of inner, outer, sum, and mul function (★★★) \n",
        "(**hint**: np.einsum)"
      ]
    },
    {
      "cell_type": "code",
      "execution_count": null,
      "metadata": {
        "id": "aEWHnlsKqoHx"
      },
      "outputs": [],
      "source": [
        "#inner\n",
        "result = np.einsum(\"i,i->\", A, B)\n",
        "\n",
        "#outer\n",
        "result = np.einsum(\"i,j->ij\", A, B)\n",
        "\n",
        "#sum\n",
        "\n",
        "result = np.einsum(\"i->\", A)\n",
        "\n",
        "#mul\n",
        "result = np.einsum(\"i->\", A)\n"
      ]
    },
    {
      "cell_type": "markdown",
      "metadata": {
        "id": "RBaKXgs3qoHx"
      },
      "source": [
        "#### 98. Considering a path described by two vectors (X,Y), how to sample it using equidistant samples (★★★)? \n",
        "(**hint**: np.cumsum, np.interp)"
      ]
    },
    {
      "cell_type": "code",
      "execution_count": 22,
      "metadata": {
        "collapsed": true,
        "id": "QylwWJeiqoHx",
        "colab": {
          "base_uri": "https://localhost:8080/"
        },
        "outputId": "f136937f-dd8e-40a6-beab-5c7b72ec70e7"
      },
      "outputs": [
        {
          "output_type": "stream",
          "name": "stdout",
          "text": [
            "[0.         0.44444444 0.88888889 1.33333333 1.77777778 2.22222222\n",
            " 2.66666667 3.11111111 3.55555556 4.        ]\n",
            "[ 0.          0.44444444  0.88888889  2.          3.33333333  5.11111111\n",
            "  7.33333333  9.77777778 12.88888889 16.        ]\n"
          ]
        }
      ],
      "source": [
        "import numpy as np\n",
        "\n",
        "# Create the X and Y vectors\n",
        "X = np.array([0, 1, 2, 3, 4])\n",
        "Y = np.array([0, 1, 4, 9, 16])\n",
        "\n",
        "# Create the indices for the equidistant samples\n",
        "num_samples = 10  # Number of samples to take along the path\n",
        "indices = np.linspace(0, len(X) - 1, num_samples)\n",
        "\n",
        "# Interpolate the X and Y vectors at the indices\n",
        "X_samples = np.interp(indices, np.arange(len(X)), X)\n",
        "Y_samples = np.interp(indices, np.arange(len(Y)), Y)\n",
        "\n",
        "# The X_samples and Y_samples arrays now contain the equidistant samples of the path\n",
        "print(X_samples)\n",
        "print(Y_samples)\n"
      ]
    },
    {
      "cell_type": "markdown",
      "metadata": {
        "id": "w3VzBSNGqoHx"
      },
      "source": [
        "#### 99. Given an integer n and a 2D array X, select from X the rows which can be interpreted as draws from a multinomial distribution with n degrees, i.e., the rows which only contain integers and which sum to n. (★★★) \n",
        "(**hint**: np.logical\\_and.reduce, np.mod)"
      ]
    },
    {
      "cell_type": "code",
      "execution_count": 23,
      "metadata": {
        "id": "8CfdeM6XqoHx",
        "colab": {
          "base_uri": "https://localhost:8080/",
          "height": 358
        },
        "outputId": "7a8a99a1-363a-483b-d189-9e8853c8ba56"
      },
      "outputs": [
        {
          "output_type": "error",
          "ename": "AttributeError",
          "evalue": "ignored",
          "traceback": [
            "\u001b[0;31m---------------------------------------------------------------------------\u001b[0m",
            "\u001b[0;31mAttributeError\u001b[0m                            Traceback (most recent call last)",
            "\u001b[0;32m<ipython-input-23-bee24fc9041e>\u001b[0m in \u001b[0;36m<module>\u001b[0;34m\u001b[0m\n\u001b[1;32m      5\u001b[0m \u001b[0;34m\u001b[0m\u001b[0m\n\u001b[1;32m      6\u001b[0m \u001b[0;31m# Create mask for rows that are integer\u001b[0m\u001b[0;34m\u001b[0m\u001b[0;34m\u001b[0m\u001b[0;34m\u001b[0m\u001b[0m\n\u001b[0;32m----> 7\u001b[0;31m \u001b[0mmask_int\u001b[0m \u001b[0;34m=\u001b[0m \u001b[0mnp\u001b[0m\u001b[0;34m.\u001b[0m\u001b[0misinteger\u001b[0m\u001b[0;34m(\u001b[0m\u001b[0mX\u001b[0m\u001b[0;34m)\u001b[0m\u001b[0;34m\u001b[0m\u001b[0;34m\u001b[0m\u001b[0m\n\u001b[0m\u001b[1;32m      8\u001b[0m \u001b[0;34m\u001b[0m\u001b[0m\n\u001b[1;32m      9\u001b[0m \u001b[0;31m# Create mask for rows that sum to n\u001b[0m\u001b[0;34m\u001b[0m\u001b[0;34m\u001b[0m\u001b[0;34m\u001b[0m\u001b[0m\n",
            "\u001b[0;32m/usr/local/lib/python3.8/dist-packages/numpy/__init__.py\u001b[0m in \u001b[0;36m__getattr__\u001b[0;34m(attr)\u001b[0m\n\u001b[1;32m    311\u001b[0m                 \u001b[0;32mreturn\u001b[0m \u001b[0mTester\u001b[0m\u001b[0;34m\u001b[0m\u001b[0;34m\u001b[0m\u001b[0m\n\u001b[1;32m    312\u001b[0m \u001b[0;34m\u001b[0m\u001b[0m\n\u001b[0;32m--> 313\u001b[0;31m             raise AttributeError(\"module {!r} has no attribute \"\n\u001b[0m\u001b[1;32m    314\u001b[0m                                  \"{!r}\".format(__name__, attr))\n\u001b[1;32m    315\u001b[0m \u001b[0;34m\u001b[0m\u001b[0m\n",
            "\u001b[0;31mAttributeError\u001b[0m: module 'numpy' has no attribute 'isinteger'"
          ]
        }
      ],
      "source": [
        "import numpy as np\n",
        "\n",
        "# Example input array\n",
        "X = np.array([[1, 2, 3], [4, 5, 6], [7, 8, 9], [10, 11, 12]])\n",
        "\n",
        "# Create mask for rows that are integer\n",
        "mask_int = np.isinteger(X)\n",
        "\n",
        "# Create mask for rows that sum to n\n",
        "mask_sum = np.sum(X, axis=1) == n\n",
        "\n",
        "# Combine masks\n",
        "mask = np.logical_and(mask_int, mask_sum)\n",
        "\n",
        "# Select rows that match mask\n",
        "selected_rows = X[mask]\n"
      ]
    },
    {
      "cell_type": "markdown",
      "metadata": {
        "id": "umuwR1oWqoHx"
      },
      "source": [
        "#### 100. Compute bootstrapped 95% confidence intervals for the mean of a 1D array X (i.e., resample the elements of an array with replacement N times, compute the mean of each sample, and then compute percentiles over the means). (★★★) \n",
        "(**hint**: np.percentile)"
      ]
    },
    {
      "cell_type": "code",
      "execution_count": 24,
      "metadata": {
        "id": "UQLh3hxKqoHy",
        "colab": {
          "base_uri": "https://localhost:8080/",
          "height": 236
        },
        "outputId": "3eca0330-2b1f-479a-b956-bb3829c18fca"
      },
      "outputs": [
        {
          "output_type": "error",
          "ename": "AttributeError",
          "evalue": "ignored",
          "traceback": [
            "\u001b[0;31m---------------------------------------------------------------------------\u001b[0m",
            "\u001b[0;31mAttributeError\u001b[0m                            Traceback (most recent call last)",
            "\u001b[0;32m<ipython-input-24-9a235c4bdc35>\u001b[0m in \u001b[0;36m<module>\u001b[0;34m\u001b[0m\n\u001b[1;32m      8\u001b[0m \u001b[0;34m\u001b[0m\u001b[0m\n\u001b[1;32m      9\u001b[0m \u001b[0;31m# Generate bootstrapped samples\u001b[0m\u001b[0;34m\u001b[0m\u001b[0;34m\u001b[0m\u001b[0;34m\u001b[0m\u001b[0m\n\u001b[0;32m---> 10\u001b[0;31m \u001b[0msamples\u001b[0m \u001b[0;34m=\u001b[0m \u001b[0mnp\u001b[0m\u001b[0;34m.\u001b[0m\u001b[0mrandom\u001b[0m\u001b[0;34m.\u001b[0m\u001b[0mbootstrap\u001b[0m\u001b[0;34m(\u001b[0m\u001b[0mX\u001b[0m\u001b[0;34m,\u001b[0m \u001b[0mN\u001b[0m\u001b[0;34m)\u001b[0m\u001b[0;34m\u001b[0m\u001b[0;34m\u001b[0m\u001b[0m\n\u001b[0m\u001b[1;32m     11\u001b[0m \u001b[0;34m\u001b[0m\u001b[0m\n\u001b[1;32m     12\u001b[0m \u001b[0;31m# Compute means of samples\u001b[0m\u001b[0;34m\u001b[0m\u001b[0;34m\u001b[0m\u001b[0;34m\u001b[0m\u001b[0m\n",
            "\u001b[0;31mAttributeError\u001b[0m: module 'numpy.random' has no attribute 'bootstrap'"
          ]
        }
      ],
      "source": [
        "import numpy as np\n",
        "\n",
        "# Example input array\n",
        "X = np.array([1, 2, 3, 4, 5])\n",
        "\n",
        "# Number of bootstrap samples\n",
        "N = 1000\n",
        "\n",
        "# Generate bootstrapped samples\n",
        "samples = np.random.bootstrap(X, N)\n",
        "\n",
        "# Compute means of samples\n",
        "means = np.mean(samples, axis=1)\n",
        "\n",
        "# Compute 95% confidence interval\n",
        "conf_interval = np.percentile(means, [2.5, 97.5])\n",
        "print(conf_interval)\n"
      ]
    }
  ],
  "metadata": {
    "kernelspec": {
      "display_name": "Python 3",
      "language": "python",
      "name": "python3"
    },
    "language_info": {
      "codemirror_mode": {
        "name": "ipython",
        "version": 3
      },
      "file_extension": ".py",
      "mimetype": "text/x-python",
      "name": "python",
      "nbconvert_exporter": "python",
      "pygments_lexer": "ipython3",
      "version": "3.8.3"
    },
    "colab": {
      "provenance": [],
      "include_colab_link": true
    }
  },
  "nbformat": 4,
  "nbformat_minor": 0
}