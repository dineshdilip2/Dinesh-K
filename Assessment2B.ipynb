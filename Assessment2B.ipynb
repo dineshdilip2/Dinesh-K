{
  "cells": [
    {
      "cell_type": "markdown",
      "metadata": {
        "id": "view-in-github",
        "colab_type": "text"
      },
      "source": [
        "<a href=\"https://colab.research.google.com/github/dineshdilip2/Dinesh-K/blob/main/Assessment2B.ipynb\" target=\"_parent\"><img src=\"https://colab.research.google.com/assets/colab-badge.svg\" alt=\"Open In Colab\"/></a>"
      ]
    },
    {
      "cell_type": "markdown",
      "metadata": {
        "id": "RyMW41KABqTG"
      },
      "source": [
        "###### Assessment"
      ]
    },
    {
      "cell_type": "markdown",
      "metadata": {
        "id": "iVJLGTLWBqTM"
      },
      "source": [
        "###### I am going to provide two .csv files , you are supposed to work on them and have to provide solutions to the following problems"
      ]
    },
    {
      "cell_type": "markdown",
      "metadata": {
        "id": "9d4w8nlVBqTN"
      },
      "source": [
        "###### import necessary libraries"
      ]
    },
    {
      "cell_type": "code",
      "execution_count": 1,
      "metadata": {
        "id": "6JzcAClGBqTO"
      },
      "outputs": [],
      "source": [
        "import pandas as pd\n",
        "import numpy as np\n",
        "import matplotlib.pyplot as plt\n",
        "import seaborn as sns "
      ]
    },
    {
      "cell_type": "markdown",
      "metadata": {
        "id": "1jaJI8vpBqTP"
      },
      "source": [
        "###### merge those two csv files (after getting as dataframes, get them as a single dataframe)"
      ]
    },
    {
      "cell_type": "code",
      "execution_count": 3,
      "metadata": {
        "id": "ye0SJ16PBqTP",
        "colab": {
          "base_uri": "https://localhost:8080/"
        },
        "outputId": "bdc453f9-1f11-44e9-903c-7f5e22731241"
      },
      "outputs": [
        {
          "output_type": "stream",
          "name": "stdout",
          "text": [
            "              Name  python  mysql  Previous Geekions  CodeKata Score  \\\n",
            "0        A.Dharani    82.0   20.0              24500           24500   \n",
            "1      V.JEEVITHA     82.0   20.0              21740           21740   \n",
            "2      HEMAVATHI.R   100.0  100.0              19680           19680   \n",
            "3      Mugunthan S   100.0   47.0              10610           10610   \n",
            "4      Sathammai.S   100.0    8.0               8980            8980   \n",
            "..             ...     ...    ...                ...             ...   \n",
            "114  praveen raj j    24.0    0.0               2380            2380   \n",
            "115     AMARNATH D    -1.0   12.0               1890            1890   \n",
            "116           bala    32.0    0.0               1720            1720   \n",
            "117           XY Z    -1.0   -1.0                  0               0   \n",
            "118      Hariharan    -1.0   -1.0                  0               0   \n",
            "\n",
            "                                    Department  Rising  python_en  \\\n",
            "0             Computer Science and Engineering       0        NaN   \n",
            "1             Computer Science and Engineering       0        NaN   \n",
            "2             Computer Science and Engineering       0        NaN   \n",
            "3             Computer Science and Engineering       0        NaN   \n",
            "4             Computer Science and Engineering       0        NaN   \n",
            "..                                         ...     ...        ...   \n",
            "114           Computer Science and Engineering       0       -1.0   \n",
            "115  Electronics and Communication Engineering       0       52.0   \n",
            "116  Electronics and Communication Engineering       0       49.0   \n",
            "117           Computer Science and Engineering       0       20.0   \n",
            "118           Computer Science and Engineering       0       -1.0   \n",
            "\n",
            "     computational_thinking  \n",
            "0                       NaN  \n",
            "1                       NaN  \n",
            "2                       NaN  \n",
            "3                       NaN  \n",
            "4                       NaN  \n",
            "..                      ...  \n",
            "114                     0.0  \n",
            "115                    -1.0  \n",
            "116                    -1.0  \n",
            "117                    -1.0  \n",
            "118                     0.0  \n",
            "\n",
            "[119 rows x 9 columns]\n"
          ]
        }
      ],
      "source": [
        "#To read the two csv files into separate Dataframes\n",
        "college_1= pd.read_csv(\"college_1.csv\")\n",
        "college_2= pd.read_csv(\"college_2.csv\")\n",
        "\n",
        "#Merge the two dataframes into a single dataframe\n",
        "merged_college= pd.concat([college_1,college_2])\n",
        "\n",
        "#reset the index of the merged dataframe\n",
        "\n",
        "merged_college.reset_index(drop=True,inplace=True)\n",
        "\n",
        "#df=merged_college\n",
        "#df.to_csv('merged_college.csv',index=False)\n",
        "\n",
        "print(merged_college)\n"
      ]
    },
    {
      "cell_type": "markdown",
      "metadata": {
        "id": "9OpGiz3rBqTP"
      },
      "source": [
        "###### Take each csv file , split that csv file into multiple categories (example csv files are added in the repo) \n"
      ]
    },
    {
      "cell_type": "markdown",
      "metadata": {
        "id": "R6zzD5s1BqTQ"
      },
      "source": [
        "###### consider if the codekata score exceeds 15000 points(present week) then make a csv on those observations as Exceeded expectations.csv\n"
      ]
    },
    {
      "cell_type": "markdown",
      "metadata": {
        "id": "fptYIu1uBqTR"
      },
      "source": [
        "###### if  10000<codekata score<15000   (Reached_expectations.csv)\n",
        "\n"
      ]
    },
    {
      "cell_type": "markdown",
      "metadata": {
        "id": "N1vSjmwcBqTR"
      },
      "source": [
        "###### if  7000<codekata score<10000   (Needs_Improvement.csv)\n"
      ]
    },
    {
      "cell_type": "markdown",
      "metadata": {
        "id": "6lNHGCN2BqTS"
      },
      "source": [
        "###### if  codekate score < 7000        (Unsatisfactory.csv)"
      ]
    },
    {
      "cell_type": "code",
      "execution_count": 5,
      "metadata": {
        "id": "guSg-8zFBqTS"
      },
      "outputs": [],
      "source": [
        "#Read the two CSV files into seperate Dataframes\n",
        "college_1 = pd.read_csv(\"college_1.csv\")\n",
        "college_2 = pd.read_csv(\"college_2.csv\")\n",
        "\n",
        "bins = [0,7000,10000,15000,float(\"inf\")]\n",
        "labels = ['Unsatisfactory','Needs_Improvement','Reached_expectations','Exceeded_expectations']\n",
        "\n",
        "#split the first csv files into multible categories\n",
        "college_1['Category'] = pd.cut(college_1['CodeKata Score'],bins=bins,labels=labels)\n",
        "exceeded_expectations_1 = college_1[college_1['Category'] == 'Exceeded_expectations']\n",
        "reached_expectations_1 = college_1[college_1['Category']=='Reached_expectations']\n",
        "needs_improvement_1 = college_1[college_1['Category']=='Needs_Improvement']\n",
        "unsatisfactory_1 = college_1[college_1['Category']=='Unsatisfactory']\n",
        "\n",
        "#split second CSV files into multible categories\n",
        "college_2['Category']=pd.cut(college_2['CodeKata Score'],bins=bins,labels=labels)\n",
        "exceeded_expectations_2 = college_2[college_2['Category']=='Exceeded_expectations']\n",
        "reached_expectations_2 = college_2[college_2['Category']=='Reached_expectations']\n",
        "needs_improvement_2 = college_2[college_2['Category']=='Needs_improvement']\n",
        "unsatisfactory_2 = college_2[college_2['Category']=='Unsatisfactory']"
      ]
    },
    {
      "cell_type": "code",
      "execution_count": 6,
      "metadata": {
        "id": "e_tX3JgGBqTS"
      },
      "outputs": [],
      "source": [
        "#Seperate CSV files for each category\n",
        "exceeded_expectations_1.to_csv('Exceeded_expectations_1.csv',index=False)\n",
        "exceeded_expectations_2.to_csv('Exceeded_expectations_2.csv',index=False)\n",
        "reached_expectations_1.to_csv('Reached_expectations_1.csv',index=False)\n",
        "reached_expectations_2.to_csv('Reached_expectations_2.csv',index=False)\n",
        "needs_improvement_1.to_csv('Needs_Improvement_1.csv',index=False)\n",
        "needs_improvement_2.to_csv('Needs_Improvement_2.csv',index=False)\n",
        "unsatisfactory_1.to_csv('Unsatisfactory_1.csv',index=False)\n",
        "unsatisfactory_2.to_csv('Unsatisfactory_2.csv',index=False)\n"
      ]
    },
    {
      "cell_type": "markdown",
      "metadata": {
        "id": "OeNy5zbhBqTT"
      },
      "source": [
        "###### Average of previous week geekions vs this week geekions (i.e Previous Geekions vs CodeKata Score)"
      ]
    },
    {
      "cell_type": "code",
      "execution_count": 7,
      "metadata": {
        "id": "RTMfsxk6BqTT",
        "colab": {
          "base_uri": "https://localhost:8080/"
        },
        "outputId": "670549b0-a55a-4446-f340-df10e19ecc3e"
      },
      "outputs": [
        {
          "output_type": "stream",
          "name": "stdout",
          "text": [
            "Average of previous week geekions:4498.83\n",
            "Average of this week CodeKata score:4853.75\n"
          ]
        }
      ],
      "source": [
        "import pandas as pd\n",
        "\n",
        "college_1 =pd.read_csv(\"college_1.csv\")\n",
        "college_2 =pd.read_csv(\"college_2.csv\")\n",
        "\n",
        "prev_week_geekions_avg = (college_1['Previous Geekions'].mean()+college_2['Previous Geekions'].mean())/2\n",
        "this_week_codekata_score_avgm = (college_1['CodeKata Score'].mean()+college_2['CodeKata Score'].mean())/2\n",
        "\n",
        "\n",
        "print(\"Average of previous week geekions:{:.2f}\".format(prev_week_geekions_avg))\n",
        "print(\"Average of this week CodeKata score:{:.2f}\".format(this_week_codekata_score_avgm))\n"
      ]
    },
    {
      "cell_type": "markdown",
      "metadata": {
        "id": "nzNoHfDfBqTT"
      },
      "source": [
        "###### No of students participated "
      ]
    },
    {
      "cell_type": "code",
      "execution_count": 8,
      "metadata": {
        "id": "E7mJgQ0HBqTT",
        "colab": {
          "base_uri": "https://localhost:8080/"
        },
        "outputId": "8ae15ad8-c444-4cdc-952d-9fee9694e206"
      },
      "outputs": [
        {
          "output_type": "stream",
          "name": "stdout",
          "text": [
            "Number of students who particibated in both colleges: 119\n"
          ]
        }
      ],
      "source": [
        "import pandas as pd\n",
        "\n",
        "college_1 = pd.read_csv(\"college_1.csv\")\n",
        "college_2 = pd.read_csv(\"college_2.csv\")\n",
        "\n",
        "college = pd.concat([college_1,college_2])\n",
        "num_participants = college['Name'].nunique()\n",
        "#common_students = len(college_1['Name']+college_2['Name'])\n",
        "\n",
        "print(\"Number of students who particibated in both colleges:\",num_participants)"
      ]
    },
    {
      "cell_type": "markdown",
      "metadata": {
        "id": "tcjaSpLjBqTU"
      },
      "source": [
        "###### #Average completion of python course or my_sql or python english or computational thinking"
      ]
    },
    {
      "cell_type": "code",
      "execution_count": 9,
      "metadata": {
        "id": "K-Ys-Qa1BqTU",
        "colab": {
          "base_uri": "https://localhost:8080/"
        },
        "outputId": "65aace70-4774-420d-976a-591cc9f5afd3"
      },
      "outputs": [
        {
          "output_type": "stream",
          "name": "stdout",
          "text": [
            "Average completion of python:54.35%\n",
            "Average completion of MySQL:23.50%\n",
            "Average completion of python english:29.66%\n",
            "Average completion of computational_thinking:2.20%\n"
          ]
        }
      ],
      "source": [
        "import pandas as pd\n",
        "\n",
        "college_1 = pd.read_csv(\"college_1.csv\")\n",
        "college_2 = pd.read_csv(\"college_2.csv\")\n",
        "\n",
        "college = pd.concat([college_1,college_2])\n",
        "python_completion_avg = college['python'].mean()\n",
        "mysql_completion_avg = college['mysql'].mean()\n",
        "python_english_completion_avg = college['python_en'].mean()\n",
        "comp_thinking_completion_avg = college['computational_thinking'].mean()\n",
        "\n",
        "\n",
        "print(\"Average completion of python:{:.2f}%\".format(python_completion_avg))\n",
        "print(\"Average completion of MySQL:{:.2f}%\".format(mysql_completion_avg))\n",
        "print(\"Average completion of python english:{:.2f}%\".format(python_english_completion_avg))\n",
        "print(\"Average completion of computational_thinking:{:.2f}%\".format(comp_thinking_completion_avg))"
      ]
    },
    {
      "cell_type": "markdown",
      "metadata": {
        "id": "YoFr3kXDBqTU"
      },
      "source": [
        "###### rising star of the week (top 3 candidate who performed well in that particular week)"
      ]
    },
    {
      "cell_type": "code",
      "execution_count": null,
      "metadata": {
        "id": "Jcdn34UKBqTU"
      },
      "outputs": [],
      "source": []
    },
    {
      "cell_type": "markdown",
      "metadata": {
        "id": "ndtx4fHABqTV"
      },
      "source": [
        "###### Shining stars of the week (top 3 candidates who has highest geekions)"
      ]
    },
    {
      "cell_type": "code",
      "execution_count": null,
      "metadata": {
        "id": "MY3uhYOvBqTV"
      },
      "outputs": [],
      "source": []
    },
    {
      "cell_type": "markdown",
      "metadata": {
        "id": "Arnb77L1BqTV"
      },
      "source": [
        "###### Department wise codekata performence (pie chart)"
      ]
    },
    {
      "cell_type": "code",
      "execution_count": 10,
      "metadata": {
        "id": "rnBxOBbnBqTV",
        "colab": {
          "base_uri": "https://localhost:8080/",
          "height": 264
        },
        "outputId": "231574f5-6ee7-4a85-c8f8-2dd18e9e8556"
      },
      "outputs": [
        {
          "output_type": "display_data",
          "data": {
            "text/plain": [
              "<Figure size 432x288 with 1 Axes>"
            ],
            "image/png": "[encoded data removed]"
          },
          "metadata": {}
        }
      ],
      "source": [
        "import pandas as pd\n",
        "import matplotlib.pyplot as plt\n",
        "\n",
        "college = pd.concat([pd.read_csv(\"college_1.csv\"),pd.read_csv(\"college_2.csv\")])\n",
        "\n",
        "dept_scores = college.groupby('Department')['CodeKata Score'].mean()\n",
        "plt.pie(dept_scores,labels = dept_scores.index,autopct = '%1.1f%%')\n",
        "plt.title(\"Department wise CodeKata Performance\")\n",
        "plt.axis('equal')\n",
        "plt.show()"
      ]
    },
    {
      "cell_type": "markdown",
      "metadata": {
        "id": "vBZYOnMCBqTV"
      },
      "source": [
        "###### Department wise toppers (horizantal bar graph or any visual representations of your choice)"
      ]
    },
    {
      "cell_type": "code",
      "execution_count": 11,
      "metadata": {
        "id": "J3GYueOxBqTW",
        "colab": {
          "base_uri": "https://localhost:8080/",
          "height": 350
        },
        "outputId": "e2322e35-ddf9-4699-8632-7856f4c41b01"
      },
      "outputs": [
        {
          "output_type": "stream",
          "name": "stderr",
          "text": [
            "<ipython-input-11-9d1a781e5678>:6: FutureWarning: Indexing with multiple keys (implicitly converted to a tuple of keys) will be deprecated, use a list instead.\n",
            "  dept_toppers = college.groupby('Department')['Name','CodeKata Score'].apply(lambda x: x[x['CodeKata Score']==x['CodeKata Score'].max()])\n"
          ]
        },
        {
          "output_type": "display_data",
          "data": {
            "text/plain": [
              "<Figure size 432x288 with 1 Axes>"
            ],
            "image/png": "[encoded data removed]"
          },
          "metadata": {
            "needs_background": "light"
          }
        }
      ],
      "source": [
        "import pandas as pd\n",
        "import matplotlib.pyplot as plt\n",
        "\n",
        "college = pd.concat([pd.read_csv(\"college_1.csv\"),pd.read_csv(\"college_2.csv\")])\n",
        "\n",
        "dept_toppers = college.groupby('Department')['Name','CodeKata Score'].apply(lambda x: x[x['CodeKata Score']==x['CodeKata Score'].max()])\n",
        "\n",
        "plt.barh(dept_toppers.index.get_level_values(0),dept_toppers['CodeKata Score'],align='center',color = 'green')\n",
        "plt.xlabel('CodeKata Score')\n",
        "plt.ylabel('Department')\n",
        "plt.title('Department-wise Toppers')\n",
        "plt.show()\n",
        "\n"
      ]
    }
  ],
  "metadata": {
    "kernelspec": {
      "display_name": "Python 3",
      "language": "python",
      "name": "python3"
    },
    "language_info": {
      "codemirror_mode": {
        "name": "ipython",
        "version": 3
      },
      "file_extension": ".py",
      "mimetype": "text/x-python",
      "name": "python",
      "nbconvert_exporter": "python",
      "pygments_lexer": "ipython3",
      "version": "3.8.3"
    },
    "colab": {
      "provenance": [],
      "include_colab_link": true
    }
  },
  "nbformat": 4,
  "nbformat_minor": 0
}