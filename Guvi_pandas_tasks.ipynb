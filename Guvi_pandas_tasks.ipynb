{
  "cells": [
    {
      "cell_type": "markdown",
      "metadata": {
        "id": "view-in-github",
        "colab_type": "text"
      },
      "source": [
        "<a href=\"https://colab.research.google.com/github/dineshdilip2/Dinesh-K/blob/main/Guvi_pandas_tasks.ipynb\" target=\"_parent\"><img src=\"https://colab.research.google.com/assets/colab-badge.svg\" alt=\"Open In Colab\"/></a>"
      ]
    },
    {
      "cell_type": "markdown",
      "metadata": {
        "id": "yzPv1UL3qcsg"
      },
      "source": [
        "# pandas \n"
      ]
    },
    {
      "cell_type": "markdown",
      "metadata": {
        "id": "6QPNjD0wqcsj"
      },
      "source": [
        "## Importing pandas\n",
        "\n",
        "### Getting started and checking your pandas setup\n",
        "\n",
        "Difficulty: *easy* \n",
        "\n",
        "**1.** Import pandas under the name `pd`."
      ]
    },
    {
      "cell_type": "code",
      "execution_count": null,
      "metadata": {
        "collapsed": true,
        "id": "CGpGB752qcsk"
      },
      "outputs": [],
      "source": [
        "import pandas as pd"
      ]
    },
    {
      "cell_type": "markdown",
      "metadata": {
        "id": "mj5Gk5LOqcsk"
      },
      "source": [
        "**2.** Print the version of pandas that has been imported."
      ]
    },
    {
      "cell_type": "code",
      "execution_count": null,
      "metadata": {
        "id": "zNEWITgSqcsl",
        "colab": {
          "base_uri": "https://localhost:8080/"
        },
        "outputId": "ead3c6d6-1872-41d0-dcdf-6261d5fb2be8"
      },
      "outputs": [
        {
          "output_type": "stream",
          "name": "stdout",
          "text": [
            "1.3.5\n"
          ]
        }
      ],
      "source": [
        "import pandas as pd\n",
        "print(pd.__version__)"
      ]
    },
    {
      "cell_type": "markdown",
      "metadata": {
        "id": "ANTp9VWNqcsl"
      },
      "source": [
        "**3.** Print out all the version information of the libraries that are required by the pandas library."
      ]
    },
    {
      "cell_type": "code",
      "execution_count": null,
      "metadata": {
        "id": "ILj8EqIhqcsl",
        "colab": {
          "base_uri": "https://localhost:8080/"
        },
        "outputId": "769a630a-4da1-48a2-9664-416bed6e29e5"
      },
      "outputs": [
        {
          "output_type": "stream",
          "name": "stdout",
          "text": [
            "numpyversion:1.21.6\n",
            "pandasversion:1.3.5\n"
          ]
        }
      ],
      "source": [
        "import pandas as pd\n",
        "import numpy as np\n",
        "\n",
        "def print_library_versions(library):\n",
        "  print(f\"{library.__name__}version:{library.__version__}\")\n",
        "\n",
        "required_libraries=[np,pd]\n",
        "\n",
        "for library in required_libraries:\n",
        "  print_library_versions(library)"
      ]
    },
    {
      "cell_type": "markdown",
      "metadata": {
        "id": "VGWKtWP7qcsl"
      },
      "source": [
        "## DataFrame basics\n",
        "\n",
        "### A few of the fundamental routines for selecting, sorting, adding and aggregating data in DataFrames\n",
        "\n",
        "Difficulty: *easy*\n",
        "\n",
        "Note: remember to import numpy using:\n",
        "```python\n",
        "import numpy as np\n",
        "```\n",
        "\n",
        "Consider the following Python dictionary `data` and Python list `labels`:\n",
        "\n",
        "``` python\n",
        "data = {'animal': ['cat', 'cat', 'snake', 'dog', 'dog', 'cat', 'snake', 'cat', 'dog', 'dog'],\n",
        "        'age': [2.5, 3, 0.5, np.nan, 5, 2, 4.5, np.nan, 7, 3],\n",
        "        'visits': [1, 3, 2, 3, 2, 3, 1, 1, 2, 1],\n",
        "        'priority': ['yes', 'yes', 'no', 'yes', 'no', 'no', 'no', 'yes', 'no', 'no']}\n",
        "\n",
        "labels = ['a', 'b', 'c', 'd', 'e', 'f', 'g', 'h', 'i', 'j']\n",
        "```\n",
        "(This is just some meaningless data I made up with the theme of animals and trips to a vet.)\n",
        "\n",
        "**4.** Create a DataFrame `df` from this dictionary `data` which has the index `labels`."
      ]
    },
    {
      "cell_type": "code",
      "execution_count": 13,
      "metadata": {
        "collapsed": true,
        "id": "QrgOGEgyqcsm",
        "colab": {
          "base_uri": "https://localhost:8080/"
        },
        "outputId": "02165107-938e-413c-ad83-112adb946adc"
      },
      "outputs": [
        {
          "output_type": "stream",
          "name": "stdout",
          "text": [
            "  animal  age  visits priority\n",
            "a    cat  2.5       1      yes\n",
            "b    cat  3.0       3      yes\n",
            "c  snake  0.5       2       no\n",
            "d    dog  NaN       3      yes\n",
            "e    dog  5.0       2       no\n",
            "f    cat  2.0       3       no\n",
            "g  snake  4.5       1       no\n",
            "h    cat  NaN       1      yes\n",
            "i    dog  7.0       2       no\n",
            "j    dog  3.0       1       no\n"
          ]
        }
      ],
      "source": [
        "import pandas as pd\n",
        "import numpy as np\n",
        "data = {'animal': ['cat', 'cat', 'snake', 'dog', 'dog', 'cat', 'snake', 'cat', \n",
        "                   'dog', 'dog'],\n",
        "        'age': [2.5, 3, 0.5, np.nan, 5, 2, 4.5, np.nan, 7, 3],\n",
        "        'visits': [1, 3, 2, 3, 2, 3, 1, 1, 2, 1],\n",
        "        'priority': ['yes', 'yes', 'no', 'yes', 'no', 'no', 'no', \n",
        "                     'yes', 'no', 'no']}\n",
        "\n",
        "labels = ['a', 'b', 'c', 'd', 'e', 'f', 'g', 'h', 'i', 'j']\n",
        "\n",
        "df = pd.DataFrame(data,index=labels)\n",
        "print(df)\n"
      ]
    },
    {
      "cell_type": "markdown",
      "metadata": {
        "id": "KOPV7k9qqcsm"
      },
      "source": [
        "**5.** Display a summary of the basic information about this DataFrame and its data."
      ]
    },
    {
      "cell_type": "code",
      "execution_count": null,
      "metadata": {
        "id": "WRaaGMj8qcsn",
        "colab": {
          "base_uri": "https://localhost:8080/"
        },
        "outputId": "e7a49d5f-45d9-48cb-a0a8-d8ebebfe30b3"
      },
      "outputs": [
        {
          "output_type": "stream",
          "name": "stdout",
          "text": [
            "<class 'pandas.core.frame.DataFrame'>\n",
            "Index: 10 entries, a to j\n",
            "Data columns (total 4 columns):\n",
            " #   Column    Non-Null Count  Dtype  \n",
            "---  ------    --------------  -----  \n",
            " 0   animal    10 non-null     object \n",
            " 1   age       8 non-null      float64\n",
            " 2   visits    10 non-null     int64  \n",
            " 3   priority  10 non-null     object \n",
            "dtypes: float64(1), int64(1), object(2)\n",
            "memory usage: 700.0+ bytes\n"
          ]
        }
      ],
      "source": [
        "import pandas as pd\n",
        "import numpy as np\n",
        "df.info()"
      ]
    },
    {
      "cell_type": "markdown",
      "metadata": {
        "id": "Zf2_UIcxqcsn"
      },
      "source": [
        "**6.** Return the first 3 rows of the DataFrame `df`."
      ]
    },
    {
      "cell_type": "code",
      "execution_count": null,
      "metadata": {
        "id": "eQRq3XnTqcsn",
        "colab": {
          "base_uri": "https://localhost:8080/"
        },
        "outputId": "6c6fe419-7905-4c86-ec9a-fdbecadcf9b4"
      },
      "outputs": [
        {
          "output_type": "stream",
          "name": "stdout",
          "text": [
            "  animal  age  visits priority\n",
            "a    cat  2.5       1      yes\n",
            "b    cat  3.0       3      yes\n",
            "c  snake  0.5       2       no\n"
          ]
        }
      ],
      "source": [
        "import pandas as pd\n",
        "import numpy as np\n",
        "print(df.head(3))"
      ]
    },
    {
      "cell_type": "markdown",
      "metadata": {
        "id": "T2McpZypqcsn"
      },
      "source": [
        "**7.** Select just the 'animal' and 'age' columns from the DataFrame `df`."
      ]
    },
    {
      "cell_type": "code",
      "execution_count": null,
      "metadata": {
        "id": "ieKpyuaKqcsn",
        "colab": {
          "base_uri": "https://localhost:8080/"
        },
        "outputId": "5890ecc7-ce85-403b-e11c-5b62ecbf5dab"
      },
      "outputs": [
        {
          "output_type": "stream",
          "name": "stdout",
          "text": [
            "  animal  age\n",
            "a    cat  2.5\n",
            "b    cat  3.0\n",
            "c  snake  0.5\n",
            "d    dog  NaN\n",
            "e    dog  5.0\n",
            "f    cat  2.0\n",
            "g  snake  4.5\n",
            "h    cat  NaN\n",
            "i    dog  7.0\n",
            "j    dog  3.0\n"
          ]
        }
      ],
      "source": [
        "import pandas as pd\n",
        "import numpy as np\n",
        "print(df[['animal','age']])"
      ]
    },
    {
      "cell_type": "markdown",
      "metadata": {
        "id": "TOS3y8zyqcso"
      },
      "source": [
        "**8.** Select the data in rows `[3, 4, 8]` *and* in columns `['animal', 'age']`."
      ]
    },
    {
      "cell_type": "code",
      "execution_count": null,
      "metadata": {
        "id": "j8lSYVI-qcso"
      },
      "outputs": [],
      "source": [
        "import pandas as pd\n",
        "import numpy as np\n",
        "data = {'animal': ['cat', 'cat', 'snake', 'dog', 'dog', 'cat', 'snake', 'cat', 'dog', 'dog'],\n",
        "        'age': [2.5, 3, 0.5, np.nan, 5, 2, 4.5, np.nan, 7, 3],\n",
        "        'visits': [1, 3, 2, 3, 2, 3, 1, 1, 2, 1],\n",
        "        'priority': ['yes', 'yes', 'no', 'yes', 'no', 'no', 'no', 'yes', 'no', 'no']}\n",
        "\n",
        "labels = ['a', 'b', 'c', 'd', 'e', 'f', 'g', 'h', 'i', 'j']\n",
        "\n",
        "df = pd.DataFrame(data,index=labels)\n",
        "\n",
        "specified=df.loc[[3,4,8],['animal','age']]\n",
        "print(specified)"
      ]
    },
    {
      "cell_type": "markdown",
      "metadata": {
        "id": "NjHAOrfhqcso"
      },
      "source": [
        "**9.** Select only the rows where the number of visits is greater than 3."
      ]
    },
    {
      "cell_type": "code",
      "execution_count": null,
      "metadata": {
        "id": "F7ASxy8Aqcso",
        "colab": {
          "base_uri": "https://localhost:8080/"
        },
        "outputId": "5b09ab77-7881-496e-ef1a-a9a8336d0113"
      },
      "outputs": [
        {
          "output_type": "stream",
          "name": "stdout",
          "text": [
            "Empty DataFrame\n",
            "Columns: [animal, age, visits, priority]\n",
            "Index: []\n"
          ]
        }
      ],
      "source": [
        "import pandas as pd\n",
        "import numpy as np\n",
        "\n",
        "visits_gt_3=(df[df['visits']>3])\n",
        "print(visits_gt_3)"
      ]
    },
    {
      "cell_type": "markdown",
      "metadata": {
        "id": "0rX9eb2vqcso"
      },
      "source": [
        "**10.** Select the rows where the age is missing, i.e. is `NaN`."
      ]
    },
    {
      "cell_type": "code",
      "execution_count": null,
      "metadata": {
        "id": "goXR_TyUqcso",
        "colab": {
          "base_uri": "https://localhost:8080/"
        },
        "outputId": "daf081e1-7b2c-4be5-f373-c12d618eae10"
      },
      "outputs": [
        {
          "output_type": "stream",
          "name": "stdout",
          "text": [
            "  animal  age  visits priority\n",
            "d    dog  NaN       3      yes\n",
            "h    cat  NaN       1      yes\n"
          ]
        }
      ],
      "source": [
        "import pandas as pd \n",
        "import numpy as np\n",
        "missing_age=df[df['age'].isna()]\n",
        "print(missing_age)"
      ]
    },
    {
      "cell_type": "markdown",
      "metadata": {
        "id": "0H2iFR2xqcsp"
      },
      "source": [
        "**11.** Select the rows where the animal is a cat *and* the age is less than 3."
      ]
    },
    {
      "cell_type": "code",
      "execution_count": null,
      "metadata": {
        "id": "06wPBJToqcsp",
        "colab": {
          "base_uri": "https://localhost:8080/"
        },
        "outputId": "8a8c4939-5e87-4445-fb98-b32b849a05ef"
      },
      "outputs": [
        {
          "output_type": "stream",
          "name": "stdout",
          "text": [
            "  animal  age  visits priority\n",
            "a    cat  2.5       1      yes\n",
            "f    cat  2.0       3       no\n"
          ]
        }
      ],
      "source": [
        "import pandas as pd \n",
        "import numpy as np\n",
        "cat_and_age_lst3=df[(df['animal']=='cat')&(df['age']<3)]\n",
        "print(cat_and_age_lst3)"
      ]
    },
    {
      "cell_type": "markdown",
      "metadata": {
        "id": "1U9KDE85qcsp"
      },
      "source": [
        "**12.** Select the rows the age is between 2 and 4 (inclusive)."
      ]
    },
    {
      "cell_type": "code",
      "execution_count": null,
      "metadata": {
        "id": "8nUXntXnqcsp",
        "colab": {
          "base_uri": "https://localhost:8080/"
        },
        "outputId": "4d1789a9-6f68-48c6-b778-98f9d3382a8e"
      },
      "outputs": [
        {
          "output_type": "stream",
          "name": "stdout",
          "text": [
            "  animal  age  visits priority\n",
            "a    cat  2.5       1      yes\n",
            "b    cat  3.0       3      yes\n",
            "f    cat  2.0       3       no\n",
            "j    dog  3.0       1       no\n"
          ]
        }
      ],
      "source": [
        "import pandas as pd\n",
        "age_2_to_4=df[(df['age']>=2)&(df['age']<=4)]\n",
        "print(age_2_to_4)"
      ]
    },
    {
      "cell_type": "markdown",
      "metadata": {
        "id": "PVhDpj87qcsp"
      },
      "source": [
        "**13.** Change the age in row 'f' to 1.5."
      ]
    },
    {
      "cell_type": "code",
      "execution_count": null,
      "metadata": {
        "id": "dvCkYe_vqcsq",
        "colab": {
          "base_uri": "https://localhost:8080/"
        },
        "outputId": "6d39af36-7d2e-44c2-9b2c-50d68c647328"
      },
      "outputs": [
        {
          "output_type": "stream",
          "name": "stdout",
          "text": [
            "  animal  age  visits priority\n",
            "a    cat  2.5       1      yes\n",
            "b    cat  3.0       3      yes\n",
            "c  snake  0.5       2       no\n",
            "d    dog  NaN       3      yes\n",
            "e    dog  5.0       2       no\n",
            "f    cat  1.5       3       no\n",
            "g  snake  4.5       1       no\n",
            "h    cat  NaN       1      yes\n",
            "i    dog  7.0       2       no\n",
            "j    dog  3.0       1       no\n"
          ]
        }
      ],
      "source": [
        "import pandas as pd\n",
        "\n",
        "changed_age=df.at['f','age']=1.5\n",
        "print(df)"
      ]
    },
    {
      "cell_type": "markdown",
      "metadata": {
        "id": "xPOyCU52qcsq"
      },
      "source": [
        "**14.** Calculate the sum of all visits (the total number of visits)."
      ]
    },
    {
      "cell_type": "code",
      "execution_count": null,
      "metadata": {
        "id": "jWjpItyRqcsq",
        "colab": {
          "base_uri": "https://localhost:8080/"
        },
        "outputId": "a079a239-dcdb-4a82-a975-079bafadb62d"
      },
      "outputs": [
        {
          "output_type": "stream",
          "name": "stdout",
          "text": [
            "19\n"
          ]
        }
      ],
      "source": [
        "import pandas as pd\n",
        "sum_of_visits=df['visits'].sum()\n",
        "print(sum_of_visits)"
      ]
    },
    {
      "cell_type": "markdown",
      "metadata": {
        "id": "6hRYMH4iqcsq"
      },
      "source": [
        "**15.** Calculate the mean age for each different animal in `df`."
      ]
    },
    {
      "cell_type": "code",
      "execution_count": null,
      "metadata": {
        "id": "lyN1Hl1Jqcsq",
        "colab": {
          "base_uri": "https://localhost:8080/"
        },
        "outputId": "bcd0fac2-51af-466e-a153-4e76f470f96b"
      },
      "outputs": [
        {
          "output_type": "stream",
          "name": "stdout",
          "text": [
            "animal\n",
            "cat      2.333333\n",
            "dog      5.000000\n",
            "snake    2.500000\n",
            "Name: age, dtype: float64\n"
          ]
        }
      ],
      "source": [
        "import pandas as pd\n",
        "mean_age=df.groupby('animal')['age'].mean()\n",
        "print(mean_age)"
      ]
    },
    {
      "cell_type": "markdown",
      "metadata": {
        "id": "13SKM3Gyqcsq"
      },
      "source": [
        "**16.** Append a new row 'k' to `df` with your choice of values for each column. Then delete that row to return the original DataFrame."
      ]
    },
    {
      "cell_type": "code",
      "execution_count": null,
      "metadata": {
        "id": "bHEi3hoAqcsr",
        "colab": {
          "base_uri": "https://localhost:8080/"
        },
        "outputId": "44501436-c388-4dab-8d29-c1df3861555a"
      },
      "outputs": [
        {
          "output_type": "stream",
          "name": "stdout",
          "text": [
            "  animal  age  visits priority\n",
            "a    cat  2.5       1      yes\n",
            "b    cat  3.0       3      yes\n",
            "c  snake  0.5       2       no\n",
            "d    dog  NaN       3      yes\n",
            "e    dog  5.0       2       no\n",
            "f    cat  1.5       3       no\n",
            "g  snake  4.5       1       no\n",
            "h    cat  NaN       1      yes\n",
            "i    dog  7.0       2       no\n",
            "j    dog  3.0       1       no\n"
          ]
        }
      ],
      "source": [
        "import pandas as pd\n",
        "df.loc['k']=['dog',5.5,1,'yes']\n",
        "df=df.drop('k')\n",
        "#print(df)"
      ]
    },
    {
      "cell_type": "markdown",
      "metadata": {
        "id": "HmlCV1m1qcsr"
      },
      "source": [
        "**17.** Count the number of each type of animal in `df`."
      ]
    },
    {
      "cell_type": "code",
      "execution_count": null,
      "metadata": {
        "id": "m6phaNF_qcsr",
        "colab": {
          "base_uri": "https://localhost:8080/"
        },
        "outputId": "759f2b3d-dc8e-4efe-f35c-6fa4d41eda33"
      },
      "outputs": [
        {
          "output_type": "stream",
          "name": "stdout",
          "text": [
            "cat      4\n",
            "dog      4\n",
            "snake    2\n",
            "Name: animal, dtype: int64\n"
          ]
        }
      ],
      "source": [
        "import pandas as pd\n",
        "count_of_each_animals=df['animal'].value_counts()\n",
        "print(count_of_each_animals)"
      ]
    },
    {
      "cell_type": "markdown",
      "metadata": {
        "id": "Z6dnc7Ydqcsr"
      },
      "source": [
        "**18.** Sort `df` first by the values in the 'age' in *decending* order, then by the value in the 'visit' column in *ascending* order."
      ]
    },
    {
      "cell_type": "code",
      "execution_count": null,
      "metadata": {
        "id": "pkScN_E-qcsr",
        "colab": {
          "base_uri": "https://localhost:8080/"
        },
        "outputId": "d5eaa2a6-07b3-49cb-c6b5-ea5b48f9ef85"
      },
      "outputs": [
        {
          "output_type": "stream",
          "name": "stdout",
          "text": [
            "  animal  age  visits priority\n",
            "i    dog  7.0       2      NaN\n",
            "e    dog  5.0       2      NaN\n",
            "g  snake  4.5       1      NaN\n",
            "j    dog  3.0       1      NaN\n",
            "b    cat  3.0       3      NaN\n",
            "a    cat  2.5       1      NaN\n",
            "f    cat  1.5       3      NaN\n",
            "c  snake  0.5       2      NaN\n",
            "h    cat  NaN       1      NaN\n",
            "d    dog  NaN       3      NaN\n"
          ]
        }
      ],
      "source": [
        "import pandas as pd \n",
        "import numpy as np\n",
        "df.sort_values(by=['age','visits'],ascending=[False,True],inplace=True)\n",
        "print(df)"
      ]
    },
    {
      "cell_type": "markdown",
      "metadata": {
        "id": "ywCjY4AQqcsr"
      },
      "source": [
        "**19.** The 'priority' column contains the values 'yes' and 'no'. Replace this column with a column of boolean values: 'yes' should be `True` and 'no' should be `False`."
      ]
    },
    {
      "cell_type": "code",
      "execution_count": null,
      "metadata": {
        "id": "9nK8i8Adqcss",
        "colab": {
          "base_uri": "https://localhost:8080/"
        },
        "outputId": "7e3ebfd3-cd9d-4c88-ac8b-7d3dcaf7865e"
      },
      "outputs": [
        {
          "output_type": "stream",
          "name": "stdout",
          "text": [
            "  animal  age  visits priority\n",
            "i    dog  7.0       2      NaN\n",
            "e    dog  5.0       2      NaN\n",
            "g  snake  4.5       1      NaN\n",
            "j    dog  3.0       1      NaN\n",
            "b    cat  3.0       3      NaN\n",
            "a    cat  2.5       1      NaN\n",
            "f    cat  1.5       3      NaN\n",
            "c  snake  0.5       2      NaN\n",
            "h    cat  NaN       1      NaN\n",
            "d    dog  NaN       3      NaN\n"
          ]
        }
      ],
      "source": [
        "import pandas as pd\n",
        "import numpy as np\n",
        "df['priority'].map({'yes':True,'no':False})\n",
        "print(df)"
      ]
    },
    {
      "cell_type": "markdown",
      "metadata": {
        "id": "6gGi2vSMqcss"
      },
      "source": [
        "**20.** In the 'animal' column, change the 'snake' entries to 'python'."
      ]
    },
    {
      "cell_type": "code",
      "execution_count": null,
      "metadata": {
        "id": "19Iyemwyqcss",
        "colab": {
          "base_uri": "https://localhost:8080/"
        },
        "outputId": "6660962c-41b0-4437-8fe9-bbdd0137bb22"
      },
      "outputs": [
        {
          "output_type": "stream",
          "name": "stdout",
          "text": [
            "   animal  age  visits priority\n",
            "i     dog  7.0       2      NaN\n",
            "e     dog  5.0       2      NaN\n",
            "g  python  4.5       1      NaN\n",
            "j     dog  3.0       1      NaN\n",
            "b     cat  3.0       3      NaN\n",
            "a     cat  2.5       1      NaN\n",
            "f     cat  1.5       3      NaN\n",
            "c  python  0.5       2      NaN\n",
            "h     cat  NaN       1      NaN\n",
            "d     dog  NaN       3      NaN\n"
          ]
        }
      ],
      "source": [
        "df['animal'].replace('snake','python',inplace=True)\n",
        "print(df)"
      ]
    },
    {
      "cell_type": "markdown",
      "metadata": {
        "id": "f5PEoG6Iqcss"
      },
      "source": [
        "**21.** For each animal type and each number of visits, find the mean age. In other words, each row is an animal, each column is a number of visits and the values are the mean ages (hint: use a pivot table)."
      ]
    },
    {
      "cell_type": "code",
      "execution_count": null,
      "metadata": {
        "id": "ivM6RQvBqcss",
        "colab": {
          "base_uri": "https://localhost:8080/"
        },
        "outputId": "0b28ebc8-5d4c-4366-ca39-c67bd03c5e91"
      },
      "outputs": [
        {
          "output_type": "stream",
          "name": "stdout",
          "text": [
            "visits    1    2    3\n",
            "animal               \n",
            "cat     2.5  NaN  2.5\n",
            "dog     3.0  6.0  NaN\n",
            "snake   4.5  0.5  NaN\n"
          ]
        }
      ],
      "source": [
        "import pandas as pd\n",
        "table=df.pivot_table(index='animal',columns='visits',values='age',\n",
        "                     aggfunc='mean')\n",
        "print(table)"
      ]
    },
    {
      "cell_type": "markdown",
      "metadata": {
        "id": "g_Uo1x4Dqcss"
      },
      "source": [
        "## DataFrames: beyond the basics\n",
        "\n",
        "### Slightly trickier: you may need to combine two or more methods to get the right answer\n",
        "\n",
        "Difficulty: *medium*\n",
        "\n",
        "The previous section was tour through some basic but essential DataFrame operations. Below are some ways that you might need to cut your data, but for which there is no single \"out of the box\" method."
      ]
    },
    {
      "cell_type": "markdown",
      "metadata": {
        "id": "dm6Nr1koqcst"
      },
      "source": [
        "**22.** You have a DataFrame `df` with a column 'A' of integers. For example:\n",
        "```python\n",
        "df = pd.DataFrame({'A': [1, 2, 2, 3, 4, 5, 5, 5, 6, 7, 7]})\n",
        "```\n",
        "\n",
        "How do you filter out rows which contain the same integer as the row immediately above?"
      ]
    },
    {
      "cell_type": "code",
      "execution_count": null,
      "metadata": {
        "id": "sgbfMtMvqcst",
        "colab": {
          "base_uri": "https://localhost:8080/"
        },
        "outputId": "2e145ccf-dfb5-4bd7-e33f-6363c831c23c"
      },
      "outputs": [
        {
          "output_type": "stream",
          "name": "stdout",
          "text": [
            "   A\n",
            "0  1\n",
            "1  2\n",
            "3  3\n",
            "4  4\n",
            "5  5\n",
            "8  6\n",
            "9  7\n"
          ]
        }
      ],
      "source": [
        "import pandas as pd\n",
        "df = pd.DataFrame({'A':[1,2,2,3,4,5,5,5,6,7,7]})\n",
        "df1=df[df['A']!=df['A'].shift(1)]\n",
        "print(df1)"
      ]
    },
    {
      "cell_type": "markdown",
      "metadata": {
        "id": "17qhbxS_qcst"
      },
      "source": [
        "**23.** Given a DataFrame of numeric values, say\n",
        "```python\n",
        "df = pd.DataFrame(np.random.random(size=(5, 3))) # a 5x3 frame of float values\n",
        "```\n",
        "\n",
        "how do you subtract the row mean from each element in the row?"
      ]
    },
    {
      "cell_type": "code",
      "execution_count": null,
      "metadata": {
        "id": "FdzuPxzdqcst",
        "colab": {
          "base_uri": "https://localhost:8080/"
        },
        "outputId": "a428793e-dbfc-422d-ac2f-b2fa08b456a3"
      },
      "outputs": [
        {
          "output_type": "stream",
          "name": "stdout",
          "text": [
            "          0         1         2\n",
            "0 -0.049750  0.039196  0.010554\n",
            "1 -0.167593 -0.247299  0.414893\n",
            "2  0.025702 -0.216493  0.190791\n",
            "3 -0.320910  0.279735  0.041175\n",
            "4 -0.292589  0.009872  0.282717\n"
          ]
        }
      ],
      "source": [
        "import pandas as pd\n",
        "import numpy as np\n",
        "df = pd.DataFrame(np.random.random(size=(5, 3)))\n",
        "df1=df.sub(df.mean(axis=1),axis=0)\n",
        "print(df1)"
      ]
    },
    {
      "cell_type": "markdown",
      "metadata": {
        "id": "rNDBuKk9qcsu"
      },
      "source": [
        "**24.** Suppose you have DataFrame with 10 columns of real numbers, for example:\n",
        "\n",
        "```python\n",
        "df = pd.DataFrame(np.random.random(size=(5, 10)), columns=list('abcdefghij'))\n",
        "```\n",
        "Which column of numbers has the smallest sum? (Find that column's label.)"
      ]
    },
    {
      "cell_type": "code",
      "execution_count": null,
      "metadata": {
        "id": "P1iQKsyOqcsu",
        "colab": {
          "base_uri": "https://localhost:8080/"
        },
        "outputId": "46c85a6b-b897-482a-fd78-69a880023953"
      },
      "outputs": [
        {
          "output_type": "stream",
          "name": "stdout",
          "text": [
            "a\n"
          ]
        }
      ],
      "source": [
        "import pandas as pd\n",
        "import numpy as np\n",
        "df =pd.DataFrame(np.random.random(size=(5,10)),columns=list('abcdefghij'))\n",
        "sum_of_columns=df.sum().idxmin()\n",
        "print(sum_of_columns)"
      ]
    },
    {
      "cell_type": "markdown",
      "metadata": {
        "id": "kXLOfWaTqcsu"
      },
      "source": [
        "**25.** How do you count how many unique rows a DataFrame has (i.e. ignore all rows that are duplicates)?"
      ]
    },
    {
      "cell_type": "code",
      "execution_count": null,
      "metadata": {
        "collapsed": true,
        "id": "doNr_oFYqcsv"
      },
      "outputs": [],
      "source": [
        "len(df.drop_dupliates())"
      ]
    },
    {
      "cell_type": "markdown",
      "metadata": {
        "id": "ubi5kBh8qcsv"
      },
      "source": [
        "The next three puzzles are slightly harder...\n",
        "\n",
        "**26.** You have a DataFrame that consists of 10 columns of floating--point numbers. Suppose that exactly 5 entries in each row are NaN values. For each row of the DataFrame, find the *column* which contains the *third* NaN value.\n",
        "\n",
        "(You should return a Series of column labels.)"
      ]
    },
    {
      "cell_type": "code",
      "execution_count": 14,
      "metadata": {
        "collapsed": true,
        "id": "z8Zruy5Bqcsv",
        "colab": {
          "base_uri": "https://localhost:8080/"
        },
        "outputId": "822305c4-7121-4ef4-857f-1d9639b6244a"
      },
      "outputs": [
        {
          "output_type": "stream",
          "name": "stdout",
          "text": [
            "          a         b         c         d         e         f         g  \\\n",
            "0       NaN       NaN       NaN       NaN       NaN       NaN       NaN   \n",
            "1  0.793168  0.671716 -0.222668  0.066884  0.407647  1.166029 -0.841980   \n",
            "2       NaN       NaN       NaN       NaN       NaN       NaN       NaN   \n",
            "3  1.705636 -0.540296  0.543197  0.391301 -0.445911 -1.166436 -0.845364   \n",
            "4       NaN       NaN       NaN       NaN       NaN       NaN       NaN   \n",
            "\n",
            "          h         i         j  \n",
            "0       NaN       NaN       NaN  \n",
            "1  0.431819  0.477240  0.748901  \n",
            "2       NaN       NaN       NaN  \n",
            "3 -1.082707  0.478052  1.714455  \n",
            "4       NaN       NaN       NaN  \n"
          ]
        }
      ],
      "source": [
        "import pandas as pd\n",
        "import numpy as np\n",
        "\n",
        "df = pd.DataFrame(np.random.randn(5, 10), columns=list('abcdefghij'))\n",
        "df[::2] = np.nan\n",
        "\n",
        "print(df)\n"
      ]
    },
    {
      "cell_type": "markdown",
      "metadata": {
        "id": "G0rMgThzqcsv"
      },
      "source": [
        "**27.** A DataFrame has a column of groups 'grps' and and column of numbers 'vals'. For example: \n",
        "\n",
        "```python\n",
        "df = pd.DataFrame({'grps': list('aaabbcaabcccbbc'), \n",
        "                   'vals': [12,345,3,1,45,14,4,52,54,23,235,21,57,3,87]})\n",
        "```\n",
        "For each *group*, find the sum of the three greatest values."
      ]
    },
    {
      "cell_type": "code",
      "execution_count": null,
      "metadata": {
        "id": "HG7ZbNS7qcsv",
        "colab": {
          "base_uri": "https://localhost:8080/"
        },
        "outputId": "f01fd5f1-b902-44ea-dccf-4c99729d9685"
      },
      "outputs": [
        {
          "output_type": "stream",
          "name": "stdout",
          "text": [
            "grps\n",
            "a    409\n",
            "b    156\n",
            "c    345\n",
            "Name: vals, dtype: int64\n"
          ]
        },
        {
          "output_type": "stream",
          "name": "stderr",
          "text": [
            "<ipython-input-2-17ce009aa146>:5: FutureWarning: Using the level keyword in DataFrame and Series aggregations is deprecated and will be removed in a future version. Use groupby instead. df.sum(level=1) should use df.groupby(level=1).sum().\n",
            "  result= df.groupby('grps')['vals'].nlargest(3).sum(level=0)\n"
          ]
        }
      ],
      "source": [
        "import pandas as pd\n",
        "import numpy as np\n",
        "df = pd.DataFrame({'grps':list('aaabbcaabcccbbc'),\n",
        "                   'vals':[12,345,3,1,45,14,4,52,54,23,235,21,57,3,87]})\n",
        "result= df.groupby('grps')['vals'].nlargest(3).sum(level=0)\n",
        "print(result)"
      ]
    },
    {
      "cell_type": "markdown",
      "metadata": {
        "id": "M1dRYvGxqcsw"
      },
      "source": [
        "**28.** A DataFrame has two integer columns 'A' and 'B'. The values in 'A' are between 1 and 100 (inclusive). For each group of 10 consecutive integers in 'A' (i.e. `(0, 10]`, `(10, 20]`, ...), calculate the sum of the corresponding values in column 'B'."
      ]
    },
    {
      "cell_type": "code",
      "execution_count": null,
      "metadata": {
        "id": "B2-64jGuqcsw",
        "colab": {
          "base_uri": "https://localhost:8080/"
        },
        "outputId": "2d6b244d-38a1-42c8-81f3-e59db9ae2787"
      },
      "outputs": [
        {
          "output_type": "stream",
          "name": "stdout",
          "text": [
            "A\n",
            "0.0    12\n",
            "1.0     2\n",
            "2.0    15\n",
            "3.0     4\n",
            "4.0     5\n",
            "5.0    19\n",
            "6.0     7\n",
            "7.0    22\n",
            "8.0     9\n",
            "Name: B, dtype: int64\n"
          ]
        }
      ],
      "source": [
        "import pandas as pd\n",
        "import numpy as np\n",
        "df=pd.DataFrame({'A':[3,15,25,35,45,55,65,75,85,95,5,25,50,70,90],\n",
        "                 'B':[1,2,3,4,5,6,7,8,9,10,11,12,13,14,15]})\n",
        "df['A']=pd.cut(df['A'],bins=range(0,100,10),right=False,labels=False)\n",
        "result=df.groupby('A')['B'].sum()\n",
        "print(result)"
      ]
    },
    {
      "cell_type": "markdown",
      "metadata": {
        "id": "hfiBtsAyqcsw"
      },
      "source": [
        "## DataFrames: harder problems \n",
        "\n",
        "### These might require a bit of thinking outside the box...\n",
        "\n",
        "...but all are solvable using just the usual pandas/NumPy methods (and so avoid using explicit `for` loops).\n",
        "\n",
        "Difficulty: *hard*"
      ]
    },
    {
      "cell_type": "markdown",
      "metadata": {
        "id": "WH5QbcOsqcsw"
      },
      "source": [
        "**29.** Consider a DataFrame `df` where there is an integer column 'X':\n",
        "```python\n",
        "df = pd.DataFrame({'X': [7, 2, 0, 3, 4, 2, 5, 0, 3, 4]})\n",
        "```\n",
        "For each value, count the difference back to the previous zero (or the start of the Series, whichever is closer). These values should therefore be `[1, 2, 0, 1, 2, 3, 4, 0, 1, 2]`. Make this a new column 'Y'."
      ]
    },
    {
      "cell_type": "code",
      "execution_count": null,
      "metadata": {
        "id": "GxyBhzkIqcsw"
      },
      "outputs": [],
      "source": [
        "import pandas as pd\n",
        "import numpy as np\n",
        "df =pd.DataFrame({'X':[7,2,0,3,4,2,5,0,3,4]})\n",
        "df['Y']=(df['X'] !=0).cumsum()\n",
        "\n",
        "g=df.groupby('Y').first().reset_index()\n",
        "\n",
        "df['Y'] =df['Y'].map(g.set_index('Y')['index'])\n",
        "\n",
        "df['Y'] =df.index-df['Y']\n",
        "\n",
        "df.loc[df.index[0],'Y']=0"
      ]
    },
    {
      "cell_type": "markdown",
      "metadata": {
        "id": "E0yi2baAqcsx"
      },
      "source": [
        "Here's an alternative approach based on a [cookbook recipe](http://pandas.pydata.org/pandas-docs/stable/cookbook.html#grouping):"
      ]
    },
    {
      "cell_type": "code",
      "execution_count": null,
      "metadata": {
        "collapsed": true,
        "id": "M9s1Ch4oqcsx"
      },
      "outputs": [],
      "source": []
    },
    {
      "cell_type": "markdown",
      "metadata": {
        "id": "22K5QVSyqcsx"
      },
      "source": [
        "**30.** Consider a DataFrame containing rows and columns of purely numerical data. Create a list of the row-column index locations of the 3 largest values."
      ]
    },
    {
      "cell_type": "code",
      "execution_count": null,
      "metadata": {
        "collapsed": true,
        "id": "oDyeOAgTqcsx",
        "colab": {
          "base_uri": "https://localhost:8080/"
        },
        "outputId": "41a8bd9f-78cd-48ea-cb46-eec4e1624fd1"
      },
      "outputs": [
        {
          "output_type": "stream",
          "name": "stdout",
          "text": [
            "[6, 11, 0]\n"
          ]
        }
      ],
      "source": [
        "import pandas as pandas\n",
        "import numpy as np\n",
        "\n",
        "df =pd.DataFrame(np.random.randint(0,100,size=(5,3)))\n",
        "\n",
        "s=df.unstack().reset_index()\n",
        "s.columns=['row','col','value']\n",
        "\n",
        "s=s.sort_values('value',ascending=False)\n",
        "\n",
        "result = list(s.head(3).index)\n",
        "#print(s)\n",
        "print(result)"
      ]
    },
    {
      "cell_type": "markdown",
      "metadata": {
        "id": "MCzijuC2qcsx"
      },
      "source": [
        "**31.** Given a DataFrame with a column of group IDs, 'grps', and a column of corresponding integer values, 'vals', replace any negative values in 'vals' with the group mean."
      ]
    },
    {
      "cell_type": "code",
      "execution_count": null,
      "metadata": {
        "id": "FvMJRUnlqcsx",
        "colab": {
          "base_uri": "https://localhost:8080/"
        },
        "outputId": "84adfe7b-b24a-47c3-d3c2-3b41da4e4859"
      },
      "outputs": [
        {
          "output_type": "stream",
          "name": "stdout",
          "text": [
            "   grps  vals\n",
            "0     a  12.0\n",
            "1     a -75.6\n",
            "2     a   3.0\n",
            "3     b   1.0\n",
            "4     b  45.0\n",
            "5     c  14.0\n",
            "6     a   4.0\n",
            "7     a -75.6\n",
            "8     b  54.0\n",
            "9     c  23.0\n",
            "10    c -18.0\n",
            "11    c  21.0\n",
            "12    b  57.0\n",
            "13    b   3.0\n",
            "14    c  87.0\n"
          ]
        }
      ],
      "source": [
        "import pandas as pd\n",
        "\n",
        "df =  pd.DataFrame({'grps':list('aaabbcaabcccbbc'),\n",
        "                    'vals':[12,-345,3,1,45,14,4,-52,54,23,-235,21,57,3,87]})\n",
        "\n",
        "group_means = df.groupby('grps').mean()\n",
        "\n",
        "for grp,mean in group_means['vals'].iteritems():\n",
        "  df.loc[(df['grps']==grp)&(df['vals']<0),'vals']=mean\n",
        "\n",
        "print(df)"
      ]
    },
    {
      "cell_type": "markdown",
      "metadata": {
        "id": "JLam2Ftfqcsx"
      },
      "source": [
        "**32.** Implement a rolling mean over groups with window size 3, which ignores NaN value. For example consider the following DataFrame:\n",
        "\n",
        "```python\n",
        ">>> df = pd.DataFrame({'group': list('aabbabbbabab'),\n",
        "                       'value': [1, 2, 3, np.nan, 2, 3, \n",
        "                                 np.nan, 1, 7, 3, np.nan, 8]})\n",
        ">>> df\n",
        "   group  value\n",
        "0      a    1.0\n",
        "1      a    2.0\n",
        "2      b    3.0\n",
        "3      b    NaN\n",
        "4      a    2.0\n",
        "5      b    3.0\n",
        "6      b    NaN\n",
        "7      b    1.0\n",
        "8      a    7.0\n",
        "9      b    3.0\n",
        "10     a    NaN\n",
        "11     b    8.0\n",
        "```\n",
        "The goal is to compute the Series:\n",
        "\n",
        "```\n",
        "0     1.000000\n",
        "1     1.500000\n",
        "2     3.000000\n",
        "3     3.000000\n",
        "4     1.666667\n",
        "5     3.000000\n",
        "6     3.000000\n",
        "7     2.000000\n",
        "8     3.666667\n",
        "9     2.000000\n",
        "10    4.500000\n",
        "11    4.000000\n",
        "```\n",
        "E.g. the first window of size three for group 'b' has values 3.0, NaN and 3.0 and occurs at row index 5. Instead of being NaN the value in the new column at this row index should be 3.0 (just the two non-NaN values are used to compute the mean (3+3)/2)"
      ]
    },
    {
      "cell_type": "code",
      "execution_count": null,
      "metadata": {
        "collapsed": true,
        "id": "EYomyMeUqcsy"
      },
      "outputs": [],
      "source": []
    },
    {
      "cell_type": "markdown",
      "metadata": {
        "id": "GegA_sRTqcsy"
      },
      "source": [
        "## Series and DatetimeIndex\n",
        "\n",
        "### Exercises for creating and manipulating Series with datetime data\n",
        "\n",
        "Difficulty: *easy/medium*\n",
        "\n",
        "pandas is fantastic for working with dates and times. These puzzles explore some of this functionality.\n"
      ]
    },
    {
      "cell_type": "markdown",
      "metadata": {
        "id": "aOwsbmZxqcsy"
      },
      "source": [
        "**33.** Create a DatetimeIndex that contains each business day of 2015 and use it to index a Series of random numbers. Let's call this Series `s`."
      ]
    },
    {
      "cell_type": "code",
      "execution_count": null,
      "metadata": {
        "id": "RGBSI5O_qcsz",
        "colab": {
          "base_uri": "https://localhost:8080/"
        },
        "outputId": "afab4a26-57a8-4d5e-a2e7-a0aa092a2f03"
      },
      "outputs": [
        {
          "output_type": "stream",
          "name": "stdout",
          "text": [
            "DatetimeIndex(['2015-01-01', '2015-01-02', '2015-01-05', '2015-01-06',\n",
            "               '2015-01-07', '2015-01-08', '2015-01-09', '2015-01-12',\n",
            "               '2015-01-13', '2015-01-14',\n",
            "               ...\n",
            "               '2015-12-18', '2015-12-21', '2015-12-22', '2015-12-23',\n",
            "               '2015-12-24', '2015-12-25', '2015-12-28', '2015-12-29',\n",
            "               '2015-12-30', '2015-12-31'],\n",
            "              dtype='datetime64[ns]', length=261, freq='B')\n"
          ]
        }
      ],
      "source": [
        "import pandas as pd\n",
        "import numpy as np\n",
        "\n",
        "idx = pd.date_range(start='2015-01-01',end='2015-12-31',freq='B')\n",
        "\n",
        "s=pd.Series(data=np.random.rand(len(idx)),index=idx)\n",
        "print(idx)\n",
        "#print(s)"
      ]
    },
    {
      "cell_type": "markdown",
      "metadata": {
        "id": "PLL195GKqcsz"
      },
      "source": [
        "**34.** Find the sum of the values in `s` for every Wednesday."
      ]
    },
    {
      "cell_type": "code",
      "execution_count": null,
      "metadata": {
        "id": "sipDusFkqcsz",
        "colab": {
          "base_uri": "https://localhost:8080/"
        },
        "outputId": "0cd4de31-7126-4b2d-c794-c29fa2fba3fe"
      },
      "outputs": [
        {
          "output_type": "stream",
          "name": "stdout",
          "text": [
            "28.097330302148098\n"
          ]
        }
      ],
      "source": [
        "import pandas as pd\n",
        "import numpy as np\n",
        "\n",
        "sum_wed_val=s[s.index.weekday == 2].sum()\n",
        "\n",
        "print(sum_wed_val)"
      ]
    },
    {
      "cell_type": "markdown",
      "metadata": {
        "id": "76Wd2o7oqcsz"
      },
      "source": [
        "**35.** For each calendar month in `s`, find the mean of values."
      ]
    },
    {
      "cell_type": "code",
      "execution_count": null,
      "metadata": {
        "id": "s_KaGOxEqcsz",
        "colab": {
          "base_uri": "https://localhost:8080/"
        },
        "outputId": "76a0a882-5c61-4920-f7c4-d8dba0fb0d99"
      },
      "outputs": [
        {
          "output_type": "stream",
          "name": "stdout",
          "text": [
            "2015-01-31    0.537332\n",
            "2015-02-28    0.554988\n",
            "2015-03-31    0.450656\n",
            "2015-04-30    0.589685\n",
            "2015-05-31    0.448384\n",
            "2015-06-30    0.537768\n",
            "2015-07-31    0.423201\n",
            "2015-08-31    0.330409\n",
            "2015-09-30    0.528214\n",
            "2015-10-31    0.474791\n",
            "2015-11-30    0.519267\n",
            "2015-12-31    0.451912\n",
            "Freq: M, dtype: float64\n"
          ]
        }
      ],
      "source": [
        "import pandas as pd\n",
        "\n",
        "mean_val=s.resample('M').mean()\n",
        "\n",
        "print(mean_val)\n"
      ]
    },
    {
      "cell_type": "markdown",
      "metadata": {
        "id": "J5taBvxpqcs0"
      },
      "source": [
        "**36.** For each group of four consecutive calendar months in `s`, find the date on which the highest value occurred."
      ]
    },
    {
      "cell_type": "code",
      "execution_count": null,
      "metadata": {
        "id": "wNWYLo-mqcs0",
        "colab": {
          "base_uri": "https://localhost:8080/"
        },
        "outputId": "b73a80bf-889d-4484-d5fc-242da94a9c0c"
      },
      "outputs": [
        {
          "output_type": "stream",
          "name": "stdout",
          "text": [
            "2015-05-31 00:00:00\n"
          ]
        }
      ],
      "source": [
        "import pandas as pd\n",
        "date_on_highest_value=s.resample('4M').max().idxmax()\n",
        "\n",
        "print(date_on_highest_value)"
      ]
    },
    {
      "cell_type": "markdown",
      "metadata": {
        "id": "drrRbtShqcs0"
      },
      "source": [
        "**37.** Create a DateTimeIndex consisting of the third Thursday in each month for the years 2015 and 2016."
      ]
    },
    {
      "cell_type": "code",
      "execution_count": null,
      "metadata": {
        "id": "f3nNmKTHqcs0",
        "colab": {
          "base_uri": "https://localhost:8080/"
        },
        "outputId": "31390bcb-4eb1-4fb1-ac0d-9627a86131ca"
      },
      "outputs": [
        {
          "output_type": "stream",
          "name": "stdout",
          "text": [
            "DatetimeIndex(['2015-01-15', '2015-02-19', '2015-03-19', '2015-04-16',\n",
            "               '2015-05-21', '2015-06-18', '2015-07-16', '2015-08-20',\n",
            "               '2015-09-17', '2015-10-15', '2015-11-19', '2015-12-17',\n",
            "               '2016-01-21', '2016-02-18', '2016-03-17', '2016-04-21',\n",
            "               '2016-05-19', '2016-06-16', '2016-07-21', '2016-08-18',\n",
            "               '2016-09-15', '2016-10-20', '2016-11-17', '2016-12-15'],\n",
            "              dtype='datetime64[ns]', freq='WOM-3THU')\n"
          ]
        }
      ],
      "source": [
        "import pandas as pd\n",
        "\n",
        "third_thuday=pd.date_range(start='2015-01-01',end='2016-12-31',freq='WOM-3THU')\n",
        "\n",
        "print(third_thuday)"
      ]
    },
    {
      "cell_type": "markdown",
      "metadata": {
        "id": "dIVvpRJPqcs1"
      },
      "source": [
        "## Cleaning Data\n",
        "\n",
        "### Making a DataFrame easier to work with\n",
        "\n",
        "Difficulty: *easy/medium*\n",
        "\n",
        "It happens all the time: someone gives you data containing malformed strings, Python, lists and missing data. How do you tidy it up so you can get on with the analysis?\n",
        "\n",
        "Take this monstrosity as the DataFrame to use in the following puzzles:\n",
        "\n",
        "```python\n",
        "df = pd.DataFrame({'From_To': ['LoNDon_paris', 'MAdrid_miLAN', 'londON_StockhOlm', \n",
        "                               'Budapest_PaRis', 'Brussels_londOn'],\n",
        "              'FlightNumber': [10045, np.nan, 10065, np.nan, 10085],\n",
        "              'RecentDelays': [[23, 47], [], [24, 43, 87], [13], [67, 32]],\n",
        "                   'Airline': ['KLM(!)', '<Air France> (12)', '(British Airways. )', \n",
        "                               '12. Air France', '\"Swiss Air\"']})\n",
        "```\n",
        "(It's some flight data I made up; it's not meant to be accurate in any way.)\n"
      ]
    },
    {
      "cell_type": "markdown",
      "metadata": {
        "id": "OUCGQHc1qcs1"
      },
      "source": [
        "**38.** Some values in the the FlightNumber column are missing. These numbers are meant to increase by 10 with each row so 10055 and 10075 need to be put in place. Fill in these missing numbers and make the column an integer column (instead of a float column)."
      ]
    },
    {
      "cell_type": "code",
      "execution_count": 23,
      "metadata": {
        "collapsed": true,
        "id": "icfkNwJyqcs1",
        "colab": {
          "base_uri": "https://localhost:8080/"
        },
        "outputId": "6d9c9bca-5361-486d-aa5b-ed4d5ab1ff9b"
      },
      "outputs": [
        {
          "output_type": "stream",
          "name": "stdout",
          "text": [
            "            From_To  FlightNumber  RecentDelays             Airline\n",
            "0      LoNDon_paris         10045      [23, 47]              KLM(!)\n",
            "1      MAdrid_miLAN         10045            []   <Air France> (12)\n",
            "2  londON_StockhOlm         10065  [24, 43, 87]  (British Airways.)\n",
            "3    Budapest_PaRis         10065          [13]      12. Air France\n",
            "4   Brussels_londOn         10085      [67, 32]         \"Swiss Air\"\n"
          ]
        }
      ],
      "source": [
        "import pandas as pd\n",
        "import numpy as np\n",
        "\n",
        "df =pd.DataFrame({'From_To':['LoNDon_paris', 'MAdrid_miLAN', 'londON_StockhOlm', \n",
        "                               'Budapest_PaRis', 'Brussels_londOn'],\n",
        "             'FlightNumber':[10045, np.nan, 10065, np.nan, 10085],\n",
        "             'RecentDelays':[[23, 47], [], [24, 43, 87], [13], [67, 32]],\n",
        "                  'Airline':['KLM(!)','<Air France> (12)', '(British Airways.)', \n",
        "                               '12. Air France', '\"Swiss Air\"']})\n",
        "\n",
        "df['FlightNumber'] = df['FlightNumber'].fillna(method='ffill').astype(int)\n",
        "\n",
        "print(df)\n"
      ]
    },
    {
      "cell_type": "markdown",
      "metadata": {
        "id": "rQ7RTLDGqcs1"
      },
      "source": [
        "**39.** The From\\_To column would be better as two separate columns! Split each string on the underscore delimiter `_` to give a new temporary DataFrame with the correct values. Assign the correct column names to this temporary DataFrame. "
      ]
    },
    {
      "cell_type": "code",
      "execution_count": 24,
      "metadata": {
        "collapsed": true,
        "id": "6mpYRIy9qcs1",
        "colab": {
          "base_uri": "https://localhost:8080/"
        },
        "outputId": "56f6e616-221b-4aeb-d715-39b95ab7d330"
      },
      "outputs": [
        {
          "output_type": "stream",
          "name": "stdout",
          "text": [
            "   FlightNumber  RecentDelays             Airline      From         To\n",
            "0         10045      [23, 47]              KLM(!)    LoNDon      paris\n",
            "1         10045            []   <Air France> (12)    MAdrid      miLAN\n",
            "2         10065  [24, 43, 87]  (British Airways.)    londON  StockhOlm\n",
            "3         10065          [13]      12. Air France  Budapest      PaRis\n",
            "4         10085      [67, 32]         \"Swiss Air\"  Brussels     londOn\n"
          ]
        }
      ],
      "source": [
        "import pandas as pd\n",
        "import numpy as np\n",
        "temp_df = df['From_To'].str.split('_', expand=True)\n",
        "temp_df.columns = ['From', 'To']\n",
        "df = pd.concat([df, temp_df], axis=1)\n",
        "df.drop(['From_To'], axis=1, inplace=True)\n",
        "\n",
        "print(df)\n"
      ]
    },
    {
      "cell_type": "markdown",
      "metadata": {
        "id": "PQDd5k-Kqcs2"
      },
      "source": [
        "**40.** Notice how the capitalisation of the city names is all mixed up in this temporary DataFrame. Standardise the strings so that only the first letter is uppercase (e.g. \"londON\" should become \"London\".)"
      ]
    },
    {
      "cell_type": "code",
      "execution_count": null,
      "metadata": {
        "collapsed": true,
        "id": "1v_sgIN0qcs2"
      },
      "outputs": [],
      "source": [
        "temp['From'] = temp['From_To'].str.split('_').str[0].str.capitalize()\n",
        "temp['To'] = temp['From_To'].str.split('_').str[1].str.capitalize()\n",
        "temp.drop(columns=['From_To'], inplace=True)"
      ]
    },
    {
      "cell_type": "markdown",
      "metadata": {
        "id": "ocx_KoELqcs2"
      },
      "source": [
        "**41.** Delete the From_To column from `df` and attach the temporary DataFrame from the previous questions."
      ]
    },
    {
      "cell_type": "code",
      "execution_count": null,
      "metadata": {
        "collapsed": true,
        "id": "Zr4Bbr7Lqcs2"
      },
      "outputs": [],
      "source": [
        "df.drop('From_To', axis=1, inplace=True)\n",
        "df = pd.concat([df,temp_df], axis=1)\n"
      ]
    },
    {
      "cell_type": "markdown",
      "metadata": {
        "id": "O12ZTwSUqcs2"
      },
      "source": [
        "**42**. In the Airline column, you can see some extra puctuation and symbols have appeared around the airline names. Pull out just the airline name. E.g. `'(British Airways. )'` should become `'British Airways'`."
      ]
    },
    {
      "cell_type": "code",
      "execution_count": 26,
      "metadata": {
        "collapsed": true,
        "id": "jfmokKTVqcs2"
      },
      "outputs": [],
      "source": [
        "df['Airline'] = df['Airline'].str.extract(r'([a-zA-Z\\s]+)')\n"
      ]
    },
    {
      "cell_type": "markdown",
      "metadata": {
        "id": "4a6pY0Epqcs2"
      },
      "source": [
        "**43**. In the RecentDelays column, the values have been entered into the DataFrame as a list. We would like each first value in its own column, each second value in its own column, and so on. If there isn't an Nth value, the value should be NaN.\n",
        "\n",
        "Expand the Series of lists into a DataFrame named `delays`, rename the columns `delay_1`, `delay_2`, etc. and replace the unwanted RecentDelays column in `df` with `delays`."
      ]
    },
    {
      "cell_type": "code",
      "execution_count": 27,
      "metadata": {
        "collapsed": true,
        "id": "k6g9TlQkqcs3"
      },
      "outputs": [],
      "source": [
        "delays = df['RecentDelays'].apply(pd.Series)\n",
        "delays = delays.rename(columns = lambda x : 'delay_' + str(x + 1))\n",
        "df.drop('RecentDelays', axis=1, inplace=True)\n",
        "df = pd.concat([df, delays], axis=1)\n",
        "\n"
      ]
    },
    {
      "cell_type": "markdown",
      "metadata": {
        "id": "Xdn143Foqcs3"
      },
      "source": [
        "The DataFrame should look much better now."
      ]
    },
    {
      "cell_type": "markdown",
      "metadata": {
        "collapsed": true,
        "id": "40a0e6Ojqcs3"
      },
      "source": [
        "## Using MultiIndexes\n",
        "\n",
        "### Go beyond flat DataFrames with additional index levels\n",
        "\n",
        "Difficulty: *medium*\n",
        "\n",
        "Previous exercises have seen us analysing data from DataFrames equipped with a single index level. However, pandas also gives you the possibilty of indexing your data using *multiple* levels. This is very much like adding new dimensions to a Series or a DataFrame. For example, a Series is 1D, but by using a MultiIndex with 2 levels we gain of much the same functionality as a 2D DataFrame.\n",
        "\n",
        "The set of puzzles below explores how you might use multiple index levels to enhance data analysis.\n",
        "\n",
        "To warm up, we'll look make a Series with two index levels. "
      ]
    },
    {
      "cell_type": "markdown",
      "metadata": {
        "id": "dfbzdq20qcs3"
      },
      "source": [
        "**44**. Given the lists `letters = ['A', 'B', 'C']` and `numbers = list(range(10))`, construct a MultiIndex object from the product of the two lists. Use it to index a Series of random numbers. Call this Series `s`."
      ]
    },
    {
      "cell_type": "code",
      "execution_count": null,
      "metadata": {
        "id": "xzhObATVqcs3",
        "colab": {
          "base_uri": "https://localhost:8080/"
        },
        "outputId": "be1eb6d1-d705-48f5-931a-38013555cd3b"
      },
      "outputs": [
        {
          "output_type": "stream",
          "name": "stdout",
          "text": [
            "letter  number\n",
            "A       0        -0.224278\n",
            "        1        -0.350494\n",
            "        2         0.020661\n",
            "        3        -0.631467\n",
            "        4        -0.163360\n",
            "        5         1.674313\n",
            "        6         0.527714\n",
            "        7        -0.219602\n",
            "        8        -0.669874\n",
            "        9        -0.841470\n",
            "B       0         1.143179\n",
            "        1        -0.277065\n",
            "        2        -0.566094\n",
            "        3        -0.634456\n",
            "        4         0.697306\n",
            "        5         0.492701\n",
            "        6        -1.621305\n",
            "        7         1.015571\n",
            "        8        -2.594506\n",
            "        9         0.441234\n",
            "C       0        -1.670409\n",
            "        1        -0.608179\n",
            "        2        -0.542917\n",
            "        3        -0.607863\n",
            "        4        -0.747949\n",
            "        5        -0.850516\n",
            "        6         1.576639\n",
            "        7        -0.202842\n",
            "        8        -1.631319\n",
            "        9        -0.069610\n",
            "dtype: float64\n"
          ]
        }
      ],
      "source": [
        "import pandas as pd\n",
        "import numpy as np\n",
        "\n",
        "letters=['A','B','C']\n",
        "\n",
        "numbers = list(range(10))\n",
        "\n",
        "index = pd.MultiIndex.from_product([letters,numbers],names=['letter','number'])\n",
        "\n",
        "s=pd.Series(np.random.randn(30),index=index)\n",
        "\n",
        "print(s)"
      ]
    },
    {
      "cell_type": "markdown",
      "metadata": {
        "id": "FihiSk_Lqcs3"
      },
      "source": [
        "**45.** Check the index of `s` is lexicographically sorted (this is a necessary proprty for indexing to work correctly with a MultiIndex)."
      ]
    },
    {
      "cell_type": "code",
      "execution_count": null,
      "metadata": {
        "id": "cCj95g0gqcs3",
        "colab": {
          "base_uri": "https://localhost:8080/"
        },
        "outputId": "7c828cab-c612-4e62-e281-6d3b16dae0d9"
      },
      "outputs": [
        {
          "output_type": "stream",
          "name": "stdout",
          "text": [
            "The index is lexicographically sorted.\n"
          ]
        }
      ],
      "source": [
        "if s.index.is_unique and s.index.is_monotonic:\n",
        "  print('The index is lexicographically sorted.')\n",
        "else:\n",
        "  print(\"The index is not lexicographically sorted.\")  "
      ]
    },
    {
      "cell_type": "markdown",
      "metadata": {
        "id": "SuVCLQA2qcs4"
      },
      "source": [
        "**46**. Select the labels `1`, `3` and `6` from the second level of the MultiIndexed Series."
      ]
    },
    {
      "cell_type": "code",
      "execution_count": null,
      "metadata": {
        "id": "kawLVtfoqcs4",
        "colab": {
          "base_uri": "https://localhost:8080/"
        },
        "outputId": "8302e670-b881-423e-d4bd-d870b76cc569"
      },
      "outputs": [
        {
          "output_type": "stream",
          "name": "stdout",
          "text": [
            "letter  number\n",
            "A       1        -2.236866\n",
            "        3         0.798576\n",
            "        6         0.165391\n",
            "B       1        -0.725753\n",
            "        3         0.450700\n",
            "        6         0.939885\n",
            "C       1         1.092572\n",
            "        3         0.309947\n",
            "        6         1.321919\n",
            "dtype: float64\n"
          ]
        }
      ],
      "source": [
        "import pandas as pd\n",
        "\n",
        "multi_index=s.loc[:,[1,3,6]]\n",
        "\n",
        "print(multi_index)"
      ]
    },
    {
      "cell_type": "markdown",
      "metadata": {
        "id": "US2HGesMqcs4"
      },
      "source": [
        "**47**. Slice the Series `s`; slice up to label 'B' for the first level and from label 5 onwards for the second level."
      ]
    },
    {
      "cell_type": "code",
      "execution_count": null,
      "metadata": {
        "id": "wmkeh1dIqcs4"
      },
      "outputs": [],
      "source": [
        "idx=pd.IndexSlice\n",
        "index_slice=s.loc[idx['A':'B', 5:],:]\n",
        "print(index_slice)"
      ]
    },
    {
      "cell_type": "markdown",
      "metadata": {
        "id": "sgZLVcMJqcs4"
      },
      "source": [
        "**48**. Sum the values in `s` for each label in the first level (you should have Series giving you a total for labels A, B and C)."
      ]
    },
    {
      "cell_type": "code",
      "execution_count": null,
      "metadata": {
        "id": "Ycz8HY-pqcs4",
        "colab": {
          "base_uri": "https://localhost:8080/"
        },
        "outputId": "bb2f6195-1492-4fd5-fc32-04312530107a"
      },
      "outputs": [
        {
          "output_type": "stream",
          "name": "stdout",
          "text": [
            "letter\n",
            "A   -1.097282\n",
            "B    1.465541\n",
            "C    1.641305\n",
            "dtype: float64\n"
          ]
        }
      ],
      "source": [
        "import pandas as pd\n",
        "s_sum=s.groupby(level=0).sum()\n",
        "print(s_sum)"
      ]
    },
    {
      "cell_type": "markdown",
      "metadata": {
        "id": "v5mjTUjsqcs4"
      },
      "source": [
        "**49**. Suppose that `sum()` (and other methods) did not accept a `level` keyword argument. How else could you perform the equivalent of `s.sum(level=1)`?"
      ]
    },
    {
      "cell_type": "code",
      "execution_count": null,
      "metadata": {
        "id": "3h_Kf-ojqcs5"
      },
      "outputs": [],
      "source": [
        "import pandas as pd\n",
        "df=s.unstack()\n",
        "result =df.sum(axis=0)\n",
        "result1=result.stack()\n",
        "print(result1)"
      ]
    },
    {
      "cell_type": "markdown",
      "metadata": {
        "id": "RpChhXFFqcs5"
      },
      "source": [
        "**50**. Exchange the levels of the MultiIndex so we have an index of the form (letters, numbers). Is this new Series properly lexsorted? If not, sort it."
      ]
    },
    {
      "cell_type": "markdown",
      "metadata": {
        "id": "Jtmge3OHqcs5"
      },
      "source": [
        "## Minesweeper\n",
        "\n",
        "### Generate the numbers for safe squares in a Minesweeper grid\n",
        "\n",
        "Difficulty: *medium* to *hard*\n",
        "\n",
        "If you've ever used an older version of Windows, there's a good chance you've played with [Minesweeper](https://en.wikipedia.org/wiki/Minesweeper_(video_game). If you're not familiar with the game, imagine a grid of squares: some of these squares conceal a mine. If you click on a mine, you lose instantly. If you click on a safe square, you reveal a number telling you how many mines are found in the squares that are immediately adjacent. The aim of the game is to uncover all squares in the grid that do not contain a mine.\n",
        "\n",
        "In this section, we'll make a DataFrame that contains the necessary data for a game of Minesweeper: coordinates of the squares, whether the square contains a mine and the number of mines found on adjacent squares."
      ]
    },
    {
      "cell_type": "markdown",
      "metadata": {
        "id": "zo2f3ohdqcs5"
      },
      "source": [
        "**51**. Let's suppose we're playing Minesweeper on a 5 by 4 grid, i.e.\n",
        "```\n",
        "X = 5\n",
        "Y = 4\n",
        "```\n",
        "To begin, generate a DataFrame `df` with two columns, `'x'` and `'y'` containing every coordinate for this grid. That is, the DataFrame should start:\n",
        "```\n",
        "   x  y\n",
        "0  0  0\n",
        "1  0  1\n",
        "2  0  2\n",
        "```"
      ]
    },
    {
      "cell_type": "code",
      "execution_count": null,
      "metadata": {
        "collapsed": true,
        "id": "PgGGx-2kqcs6",
        "colab": {
          "base_uri": "https://localhost:8080/"
        },
        "outputId": "f41a5f69-eaec-4258-9ba4-86215933872a"
      },
      "outputs": [
        {
          "output_type": "stream",
          "name": "stdout",
          "text": [
            "    x  y\n",
            "0   0  0\n",
            "1   0  1\n",
            "2   0  2\n",
            "3   0  3\n",
            "4   1  0\n",
            "5   1  1\n",
            "6   1  2\n",
            "7   1  3\n",
            "8   2  0\n",
            "9   2  1\n",
            "10  2  2\n",
            "11  2  3\n",
            "12  3  0\n",
            "13  3  1\n",
            "14  3  2\n",
            "15  3  3\n",
            "16  4  0\n",
            "17  4  1\n",
            "18  4  2\n",
            "19  4  3\n"
          ]
        }
      ],
      "source": [
        "import pandas as pd\n",
        "X=5\n",
        "Y=4\n",
        "\n",
        "data = {'x':[x for x in range(X) for y in range(Y)],\n",
        "        'y':[y for x in range(X) for y in range(Y)]}\n",
        "df =pd.DataFrame(data)\n",
        "\n",
        "print(df)"
      ]
    },
    {
      "cell_type": "markdown",
      "metadata": {
        "id": "rmQoVP5Yqcs6"
      },
      "source": [
        "**52**. For this DataFrame `df`, create a new column of zeros (safe) and ones (mine). The probability of a mine occuring at each location should be 0.4."
      ]
    },
    {
      "cell_type": "code",
      "execution_count": null,
      "metadata": {
        "id": "F3txLvkzqcs6",
        "colab": {
          "base_uri": "https://localhost:8080/"
        },
        "outputId": "3fa584bc-a154-4c2e-dca3-a7713520c07e"
      },
      "outputs": [
        {
          "output_type": "stream",
          "name": "stdout",
          "text": [
            "    x  y  z\n",
            "0   0  0  0\n",
            "1   0  1  1\n",
            "2   0  2  1\n",
            "3   0  3  0\n",
            "4   1  0  0\n",
            "5   1  1  0\n",
            "6   1  2  0\n",
            "7   1  3  0\n",
            "8   2  0  1\n",
            "9   2  1  0\n",
            "10  2  2  0\n",
            "11  2  3  0\n",
            "12  3  0  0\n",
            "13  3  1  1\n",
            "14  3  2  0\n",
            "15  3  3  0\n",
            "16  4  0  0\n",
            "17  4  1  1\n",
            "18  4  2  0\n",
            "19  4  3  0\n"
          ]
        }
      ],
      "source": [
        "import pandas as pd\n",
        "import numpy as np\n",
        "\n",
        "df['z'] = np.random.binomial(1,0.4,size=X*Y)\n",
        "\n",
        "print(df)\n"
      ]
    },
    {
      "cell_type": "markdown",
      "metadata": {
        "id": "henJvLfFqcs6"
      },
      "source": [
        "**53**. Now create a new column for this DataFrame called `'adjacent'`. This column should contain the number of mines found on adjacent squares in the grid. \n",
        "\n",
        "(E.g. for the first row, which is the entry for the coordinate `(0, 0)`, count how many mines are found on the coordinates `(0, 1)`, `(1, 0)` and `(1, 1)`.)"
      ]
    },
    {
      "cell_type": "code",
      "execution_count": 29,
      "metadata": {
        "collapsed": true,
        "id": "D7WbrZ7uqcs6",
        "colab": {
          "base_uri": "https://localhost:8080/"
        },
        "outputId": "5f60c118-9363-4975-a392-3f9dd6bdee66"
      },
      "outputs": [
        {
          "output_type": "stream",
          "name": "stdout",
          "text": [
            "   row  col  adjacent\n",
            "0    0    1         2\n",
            "1    0    3         1\n",
            "2    1    0         2\n",
            "3    1    2         4\n",
            "4    2    1         4\n",
            "5    2    3         2\n",
            "6    3    0         1\n",
            "7    3    2         2\n"
          ]
        }
      ],
      "source": [
        "def count_adjacent(coord):\n",
        "    row, col = coord\n",
        "    count = 0\n",
        "    for i in [-1, 0, 1]:\n",
        "        for j in [-1, 0, 1]:\n",
        "            if (0 <= row + i < grid.shape[0]) and (0 <= col + j < grid.shape[1]):\n",
        "                count += grid[row + i, col + j]\n",
        "    return count - grid[row, col]\n",
        "\n",
        "grid = np.array([[0, 1, 0, 1],\n",
        "                 [1, 0, 1, 0],\n",
        "                 [0, 1, 0, 1],\n",
        "                 [1, 0, 1, 0]])\n",
        "\n",
        "coords = np.array(np.where(grid)).T\n",
        "\n",
        "adjacent = np.array([count_adjacent(coord) for coord in coords])\n",
        "\n",
        "df = pd.DataFrame(coords, columns=['row', 'col'])\n",
        "df['adjacent'] = adjacent\n",
        "print(df)"
      ]
    },
    {
      "cell_type": "markdown",
      "metadata": {
        "id": "-O6Wu4Wkqcs6"
      },
      "source": [
        "**54**. For rows of the DataFrame that contain a mine, set the value in the `'adjacent'` column to NaN."
      ]
    },
    {
      "cell_type": "code",
      "execution_count": null,
      "metadata": {
        "collapsed": true,
        "id": "L0_tPuyOqcs7"
      },
      "outputs": [],
      "source": [
        "df.loc[df[\"is_mine\"] == 1, \"adjacent\"] = np.nan"
      ]
    },
    {
      "cell_type": "markdown",
      "metadata": {
        "id": "jjX2sXvgqcs7"
      },
      "source": [
        "**55**. Finally, convert the DataFrame to grid of the adjacent mine counts: columns are the `x` coordinate, rows are the `y` coordinate."
      ]
    },
    {
      "cell_type": "code",
      "execution_count": null,
      "metadata": {
        "collapsed": true,
        "id": "aYEeaSLMqcs7"
      },
      "outputs": [],
      "source": [
        "df = df.pivot(index='y', columns='x', values='adjacent')\n"
      ]
    },
    {
      "cell_type": "markdown",
      "metadata": {
        "id": "UCs-PSFmqcs7"
      },
      "source": [
        "## Plotting\n",
        "\n",
        "### Visualize trends and patterns in data\n",
        "\n",
        "Difficulty: *medium*\n",
        "\n",
        "To really get a good understanding of the data contained in your DataFrame, it is often essential to create plots: if you're lucky, trends and anomalies will jump right out at you. This functionality is baked into pandas and the puzzles below explore some of what's possible with the library.\n",
        "\n",
        "**56.** Pandas is highly integrated with the plotting library matplotlib, and makes plotting DataFrames very user-friendly! Plotting in a notebook environment usually makes use of the following boilerplate:\n",
        "\n",
        "```python\n",
        "import matplotlib.pyplot as plt\n",
        "%matplotlib inline\n",
        "plt.style.use('ggplot')\n",
        "```\n",
        "\n",
        "matplotlib is the plotting library which pandas' plotting functionality is built upon, and it is usually aliased to ```plt```.\n",
        "\n",
        "```%matplotlib inline``` tells the notebook to show plots inline, instead of creating them in a separate window.  \n",
        "\n",
        "```plt.style.use('ggplot')``` is a style theme that most people find agreeable, based upon the styling of R's ggplot package.\n",
        "\n",
        "For starters, make a scatter plot of this random data, but use black X's instead of the default markers. \n",
        "\n",
        "```df = pd.DataFrame({\"xs\":[1,5,2,8,1], \"ys\":[4,2,1,9,6]})```\n",
        "\n",
        "Consult the [documentation](https://pandas.pydata.org/pandas-docs/stable/generated/pandas.DataFrame.plot.html) if you get stuck!"
      ]
    },
    {
      "cell_type": "code",
      "execution_count": null,
      "metadata": {
        "id": "xwrJA_FQqcs7",
        "colab": {
          "base_uri": "https://localhost:8080/",
          "height": 265
        },
        "outputId": "c27e2d44-aec1-4141-ac1f-5a58caa7f384"
      },
      "outputs": [
        {
          "output_type": "display_data",
          "data": {
            "text/plain": [
              "<Figure size 432x288 with 1 Axes>"
            ],
            "image/png": "[encoded data removed]"
          },
          "metadata": {}
        }
      ],
      "source": [
        "import matplotlib.pyplot as plt\n",
        "%matplotlib inline\n",
        "plt.style.use('ggplot')\n",
        "\n",
        "df =pd.DataFrame({\"xs\":[1,5,2,8,1],\"ys\":[4,2,1,9,6]})\n",
        "\n",
        "plt.scatter(df[\"xs\"],df[\"ys\"],marker = \"x\",color =\"black\")\n",
        "plt.show()\n"
      ]
    },
    {
      "cell_type": "markdown",
      "metadata": {
        "id": "FsOWW8qGqcs7"
      },
      "source": [
        "**57.** Columns in your DataFrame can also be used to modify colors and sizes.  Bill has been keeping track of his performance at work over time, as well as how good he was feeling that day, and whether he had a cup of coffee in the morning.  Make a plot which incorporates all four features of this DataFrame.\n",
        "\n",
        "(Hint:  If you're having trouble seeing the plot, try multiplying the Series which you choose to represent size by 10 or more)\n",
        "\n",
        "*The chart doesn't have to be pretty: this isn't a course in data viz!*\n",
        "\n",
        "```\n",
        "df = pd.DataFrame({\"productivity\":[5,2,3,1,4,5,6,7,8,3,4,8,9],\n",
        "                   \"hours_in\"    :[1,9,6,5,3,9,2,9,1,7,4,2,2],\n",
        "                   \"happiness\"   :[2,1,3,2,3,1,2,3,1,2,2,1,3],\n",
        "                   \"caffienated\" :[0,0,1,1,0,0,0,0,1,1,0,1,0]})\n",
        "```"
      ]
    },
    {
      "cell_type": "code",
      "execution_count": null,
      "metadata": {
        "id": "901uRjlGqcs8",
        "colab": {
          "base_uri": "https://localhost:8080/",
          "height": 299
        },
        "outputId": "df51960b-5a80-4061-fd38-617d13a10dfa"
      },
      "outputs": [
        {
          "output_type": "display_data",
          "data": {
            "text/plain": [
              "<Figure size 432x288 with 1 Axes>"
            ],
            "image/png": "[encoded data removed]"
          },
          "metadata": {}
        }
      ],
      "source": [
        "import matplotlib.pyplot as plt\n",
        "%matplotlib inline\n",
        "plt.style.use('ggplot')\n",
        "\n",
        "\n",
        "df = pd.DataFrame({\"productivity\":[5,2,3,1,4,5,6,7,8,3,4,8,9],\n",
        "                   \"hours_in\"    :[1,9,6,5,3,9,2,9,1,7,4,2,2],\n",
        "                   \"happiness\"   :[2,1,3,2,3,1,2,3,1,2,2,1,3],\n",
        "                   \"caffienated\" :[0,0,1,1,0,0,0,0,1,1,0,1,0]})\n",
        "\n",
        "colors ={0:'red',1:'blue'}\n",
        "\n",
        "fig,ax = plt.subplots()\n",
        "\n",
        "for i in range(len(df)):\n",
        "    ax.scatter(df[\"hours_in\"][i],df[\"productivity\"][i],color=colors\n",
        "               [df[\"caffienated\"][i]], s=df[\"happiness\"][i]*10)\n",
        "    \n",
        "plt.xlabel(\"Hours In\")\n",
        "plt.ylabel(\"Productivity\")\n",
        "plt.title(\"Hours In vs. Productivity\")\n",
        "\n",
        "plt.show()"
      ]
    },
    {
      "cell_type": "markdown",
      "metadata": {
        "id": "qNnPgBDLqcs8"
      },
      "source": [
        "**58.**  What if we want to plot multiple things?  Pandas allows you to pass in a matplotlib *Axis* object for plots, and plots will also return an Axis object.\n",
        "\n",
        "Make a bar plot of monthly revenue with a line plot of monthly advertising spending (numbers in millions)\n",
        "\n",
        "```\n",
        "df = pd.DataFrame({\"revenue\":[57,68,63,71,72,90,80,62,59,51,47,52],\n",
        "                   \"advertising\":[2.1,1.9,2.7,3.0,3.6,3.2,2.7,2.4,1.8,1.6,1.3,1.9],\n",
        "                   \"month\":range(12)\n",
        "                  })\n",
        "```"
      ]
    },
    {
      "cell_type": "code",
      "execution_count": 4,
      "metadata": {
        "collapsed": true,
        "id": "OFmpQR79qcs8",
        "colab": {
          "base_uri": "https://localhost:8080/",
          "height": 442
        },
        "outputId": "a1403d42-7801-4338-c804-6cbb78682038"
      },
      "outputs": [
        {
          "output_type": "display_data",
          "data": {
            "text/plain": [
              "<Figure size 720x504 with 1 Axes>"
            ],
            "image/png": "[encoded data removed]"
          },
          "metadata": {
            "needs_background": "light"
          }
        }
      ],
      "source": [
        "import pandas as pd\n",
        "import numpy as np\n",
        "import matplotlib.pyplot as plt\n",
        "\n",
        "df = pd.DataFrame({\"revenue\":[57,68,63,71,72,90,80,62,59,51,47,52],\n",
        "                   \"advertising\":[2.1,1.9,2.7,3.0,3.6,3.2,2.7,2.4,1.8,1.6,1.3,1.9],\n",
        "                   \"month\":range(12)\n",
        "                  })\n",
        "\n",
        "ax = df.plot(x ='month',y='revenue',kind='bar',color='blue',figsize=(10,7))\n",
        "df.plot(x='month',y='advertising',kind='line',ax = ax,color='red')\n",
        "ax.set_xlabel('month')\n",
        "ax.set_ylabel('Revenue(in millions) and Adverdising spending (in millions)')\n",
        "ax.legend(['Adverdising Spending',\"Revenue\"])\n",
        "plt.show()"
      ]
    },
    {
      "cell_type": "markdown",
      "metadata": {
        "id": "2KziWMW_qcs8"
      },
      "source": [
        "Now we're finally ready to create a candlestick chart, which is a very common tool used to analyze stock price data.  A candlestick chart shows the opening, closing, highest, and lowest price for a stock during a time window.  The color of the \"candle\" (the thick part of the bar) is green if the stock closed above its opening price, or red if below.\n",
        "\n",
        "![Candlestick Example](img/candle.jpg)\n",
        "\n",
        "This was initially designed to be a pandas plotting challenge, but it just so happens that this type of plot is just not feasible using pandas' methods.  If you are unfamiliar with matplotlib, we have provided a function that will plot the chart for you so long as you can use pandas to get the data into the correct format.\n",
        "\n",
        "Your first step should be to get the data in the correct format using pandas' time-series grouping function.  We would like each candle to represent an hour's worth of data.  You can write your own aggregation function which returns the open/high/low/close, but pandas has a built-in which also does this."
      ]
    },
    {
      "cell_type": "markdown",
      "metadata": {
        "id": "YnVWkISLqcs8"
      },
      "source": [
        "The below cell contains helper functions.  Call ```day_stock_data()``` to generate a DataFrame containing the prices a hypothetical stock sold for, and the time the sale occurred.  Call ```plot_candlestick(df)``` on your properly aggregated and formatted stock data to print the candlestick chart."
      ]
    },
    {
      "cell_type": "code",
      "execution_count": 9,
      "metadata": {
        "collapsed": true,
        "id": "KlHoozVQqcs8"
      },
      "outputs": [],
      "source": [
        "import pandas as pd\n",
        "import numpy as np\n",
        "import matplotlib.pyplot as plt\n",
        "\n",
        "def float_to_time(x):\n",
        "    return str(int(x)) + \":\" + str(int(x%1 * 60)).zfill(2) + \":\" + str(int(x*60 % 1 * 60)).zfill(2)\n",
        "\n",
        "def day_stock_data():\n",
        "    #NYSE is open from 9:30 to 4:00\n",
        "    time = 9.5\n",
        "    price = 100\n",
        "    results = [(float_to_time(time), price)]\n",
        "    while time < 16:\n",
        "        elapsed = np.random.exponential(.001)\n",
        "        time += elapsed\n",
        "        if time > 16:\n",
        "            break\n",
        "        price_diff = np.random.uniform(.999, 1.001)\n",
        "        price *= price_diff\n",
        "        results.append((float_to_time(time), price))\n",
        "    \n",
        "    \n",
        "    df = pd.DataFrame(results, columns = ['time','price'])\n",
        "    df.time = pd.to_datetime(df.time)\n",
        "    return df\n",
        "\n",
        "#Don't read me unless you get stuck!\n",
        "def plot_candlestick(agg):\n",
        "    \"\"\"\n",
        "    agg is a DataFrame which has a DatetimeIndex and five columns: [\"open\",\"high\",\"low\",\"close\",\"color\"]\n",
        "    \"\"\"\n",
        "    fig, ax = plt.subplots()\n",
        "    for time in agg.index:\n",
        "        ax.plot([time.hour] * 2, agg.loc[time, [\"high\",\"low\"]].values, color = \"black\")\n",
        "        ax.plot([time.hour] * 2, agg.loc[time, [\"open\",\"close\"]].values, color = agg.loc[time, \"color\"], linewidth = 10)\n",
        "\n",
        "    ax.set_xlim((8,16))\n",
        "    ax.set_ylabel(\"Price\")\n",
        "    ax.set_xlabel(\"Hour\")\n",
        "    ax.set_title(\"OHLC of Stock Value During Trading Day\")\n",
        "    plt.show()"
      ]
    },
    {
      "cell_type": "markdown",
      "metadata": {
        "id": "kdW4H8y8qcs9"
      },
      "source": [
        "**59.** Generate a day's worth of random stock data, and aggregate / reformat it so that it has hourly summaries of the opening, highest, lowest, and closing prices"
      ]
    },
    {
      "cell_type": "code",
      "execution_count": null,
      "metadata": {
        "collapsed": true,
        "id": "jY2Qvt2oqcs9"
      },
      "outputs": [],
      "source": [
        "df = day_stock_data()\n",
        "\n",
        "agg=df.groupby(df.time.dt.hour).agg({'price':{'open':'first','high':'max',\n",
        "                                             'low':'min','close':'last'}})\n",
        "\n",
        "agg=agg.reset_index()\n",
        "agg.columns =['hour','open','high','low','close']\n",
        "\n",
        "agg['color']=np.where(agg['close']>agg['open'],'g','r')\n",
        "plot_candlestick(agg)"
      ]
    },
    {
      "cell_type": "markdown",
      "metadata": {
        "id": "QXatT1hSqcs9"
      },
      "source": [
        "**60.** Now that you have your properly-formatted data, try to plot it yourself as a candlestick chart.  Use the ```plot_candlestick(df)``` function above, or matplotlib's [```plot``` documentation](https://matplotlib.org/api/_as_gen/matplotlib.axes.Axes.plot.html) if you get stuck."
      ]
    },
    {
      "cell_type": "code",
      "execution_count": null,
      "metadata": {
        "collapsed": true,
        "id": "MsXuCoJ4qcs9"
      },
      "outputs": [],
      "source": [
        "df = day_stock_data()\n",
        "df_agg = df.resample(\"H\").ohlc()\n",
        "df_agg[\"color\"] = (df_agg.close > df_agg.open).map({True: \"green\", False: \"red\"})\n",
        "\n",
        "plot_candlestick(df_agg)\n"
      ]
    },
    {
      "cell_type": "markdown",
      "metadata": {
        "id": "RlO3uYOmqcs-"
      },
      "source": []
    }
  ],
  "metadata": {
    "kernelspec": {
      "display_name": "Python 3",
      "language": "python",
      "name": "python3"
    },
    "language_info": {
      "codemirror_mode": {
        "name": "ipython",
        "version": 3
      },
      "file_extension": ".py",
      "mimetype": "text/x-python",
      "name": "python",
      "nbconvert_exporter": "python",
      "pygments_lexer": "ipython3",
      "version": "3.8.3"
    },
    "colab": {
      "provenance": [],
      "include_colab_link": true
    }
  },
  "nbformat": 4,
  "nbformat_minor": 0
}